{
 "cells": [
  {
   "cell_type": "code",
   "execution_count": 1,
   "id": "6e2cf294",
   "metadata": {
    "ExecuteTime": {
     "end_time": "2021-10-07T18:54:15.936337Z",
     "start_time": "2021-10-07T18:54:15.920379Z"
    }
   },
   "outputs": [],
   "source": [
    "from Libraries_Recognize import draw, image_treat, import_models, models_predict, image_treat2, models_predict_, import_image\n",
    "import warnings\n",
    "warnings.filterwarnings('ignore') \n"
   ]
  },
  {
   "cell_type": "markdown",
   "id": "23d73be6",
   "metadata": {},
   "source": [
    "# IMAGEM LETRA MAIÚSCULA "
   ]
  },
  {
   "cell_type": "code",
   "execution_count": null,
   "id": "4e4da734",
   "metadata": {},
   "outputs": [],
   "source": []
  },
  {
   "cell_type": "code",
   "execution_count": 1,
   "id": "f496f688",
   "metadata": {
    "ExecuteTime": {
     "end_time": "2021-10-07T19:02:06.587520Z",
     "start_time": "2021-10-07T19:02:06.395553Z"
    }
   },
   "outputs": [
    {
     "ename": "ModuleNotFoundError",
     "evalue": "No module named 'PIL'",
     "output_type": "error",
     "traceback": [
      "\u001b[1;31m---------------------------------------------------------------------------\u001b[0m",
      "\u001b[1;31mModuleNotFoundError\u001b[0m                       Traceback (most recent call last)",
      "\u001b[1;32m<ipython-input-1-70d569469e06>\u001b[0m in \u001b[0;36m<module>\u001b[1;34m\u001b[0m\n\u001b[1;32m----> 1\u001b[1;33m \u001b[1;32mimport\u001b[0m \u001b[0mPIL\u001b[0m\u001b[1;33m\u001b[0m\u001b[1;33m\u001b[0m\u001b[0m\n\u001b[0m",
      "\u001b[1;31mModuleNotFoundError\u001b[0m: No module named 'PIL'"
     ]
    }
   ],
   "source": [
    "import PIL"
   ]
  },
  {
   "cell_type": "code",
   "execution_count": 2,
   "id": "d58b05ff",
   "metadata": {
    "ExecuteTime": {
     "end_time": "2021-10-07T18:54:19.285165Z",
     "start_time": "2021-10-07T18:54:19.042813Z"
    },
    "cell_style": "center"
   },
   "outputs": [
    {
     "ename": "ModuleNotFoundError",
     "evalue": "No module named 'PIL'",
     "output_type": "error",
     "traceback": [
      "\u001b[1;31m---------------------------------------------------------------------------\u001b[0m",
      "\u001b[1;31mModuleNotFoundError\u001b[0m                       Traceback (most recent call last)",
      "\u001b[1;32m<ipython-input-2-cfcbba33b8ab>\u001b[0m in \u001b[0;36m<module>\u001b[1;34m\u001b[0m\n\u001b[1;32m----> 1\u001b[1;33m \u001b[0mimport_image\u001b[0m\u001b[1;33m(\u001b[0m\u001b[1;34m'imagens teste/B.png'\u001b[0m\u001b[1;33m)\u001b[0m\u001b[1;33m\u001b[0m\u001b[1;33m\u001b[0m\u001b[0m\n\u001b[0m",
      "\u001b[1;32m~\\Desktop\\IRONHACK\\_Repositório\\Portuguese-Handwiriting-Recognition\\Libraries_Recognize.py\u001b[0m in \u001b[0;36mimport_image\u001b[1;34m(caminho)\u001b[0m\n\u001b[0;32m    155\u001b[0m \u001b[1;32mdef\u001b[0m \u001b[0mimport_image\u001b[0m\u001b[1;33m(\u001b[0m\u001b[0mcaminho\u001b[0m\u001b[1;33m)\u001b[0m\u001b[1;33m:\u001b[0m\u001b[1;33m\u001b[0m\u001b[1;33m\u001b[0m\u001b[0m\n\u001b[0;32m    156\u001b[0m \u001b[1;33m\u001b[0m\u001b[0m\n\u001b[1;32m--> 157\u001b[1;33m     \u001b[1;32mimport\u001b[0m \u001b[0mmatplotlib\u001b[0m\u001b[1;33m.\u001b[0m\u001b[0mimage\u001b[0m \u001b[1;32mas\u001b[0m \u001b[0mmpimg\u001b[0m\u001b[1;33m\u001b[0m\u001b[1;33m\u001b[0m\u001b[0m\n\u001b[0m\u001b[0;32m    158\u001b[0m     \u001b[1;32mimport\u001b[0m \u001b[0mmatplotlib\u001b[0m\u001b[1;33m.\u001b[0m\u001b[0mpyplot\u001b[0m \u001b[1;32mas\u001b[0m \u001b[0mplt\u001b[0m\u001b[1;33m\u001b[0m\u001b[1;33m\u001b[0m\u001b[0m\n\u001b[0;32m    159\u001b[0m \u001b[1;33m\u001b[0m\u001b[0m\n",
      "\u001b[1;32m~\\anaconda3\\lib\\site-packages\\matplotlib\\image.py\u001b[0m in \u001b[0;36m<module>\u001b[1;34m\u001b[0m\n\u001b[0;32m     11\u001b[0m \u001b[1;33m\u001b[0m\u001b[0m\n\u001b[0;32m     12\u001b[0m \u001b[1;32mimport\u001b[0m \u001b[0mnumpy\u001b[0m \u001b[1;32mas\u001b[0m \u001b[0mnp\u001b[0m\u001b[1;33m\u001b[0m\u001b[1;33m\u001b[0m\u001b[0m\n\u001b[1;32m---> 13\u001b[1;33m \u001b[1;32mimport\u001b[0m \u001b[0mPIL\u001b[0m\u001b[1;33m.\u001b[0m\u001b[0mPngImagePlugin\u001b[0m\u001b[1;33m\u001b[0m\u001b[1;33m\u001b[0m\u001b[0m\n\u001b[0m\u001b[0;32m     14\u001b[0m \u001b[1;33m\u001b[0m\u001b[0m\n\u001b[0;32m     15\u001b[0m \u001b[1;32mimport\u001b[0m \u001b[0mmatplotlib\u001b[0m \u001b[1;32mas\u001b[0m \u001b[0mmpl\u001b[0m\u001b[1;33m\u001b[0m\u001b[1;33m\u001b[0m\u001b[0m\n",
      "\u001b[1;31mModuleNotFoundError\u001b[0m: No module named 'PIL'"
     ]
    }
   ],
   "source": [
    "import_image('imagens teste/B.png')"
   ]
  },
  {
   "cell_type": "markdown",
   "id": "de9b207a",
   "metadata": {},
   "source": [
    "## TRATAMENTO IMAGEM"
   ]
  },
  {
   "cell_type": "code",
   "execution_count": 4,
   "id": "27e3cfd5",
   "metadata": {
    "ExecuteTime": {
     "end_time": "2021-10-07T18:02:34.562683Z",
     "start_time": "2021-10-07T18:02:34.428075Z"
    },
    "cell_style": "center"
   },
   "outputs": [
    {
     "data": {
      "image/png": "[encoded data removed]",
      "text/plain": [
       "<Figure size 432x288 with 1 Axes>"
      ]
     },
     "metadata": {
      "needs_background": "light"
     },
     "output_type": "display_data"
    }
   ],
   "source": [
    "image=image_treat2()"
   ]
  },
  {
   "cell_type": "markdown",
   "id": "fd5e07be",
   "metadata": {},
   "source": [
    "## LGBM  VS CNN Predict"
   ]
  },
  {
   "cell_type": "code",
   "execution_count": 5,
   "id": "f137d661",
   "metadata": {
    "ExecuteTime": {
     "end_time": "2021-10-07T18:12:06.058020Z",
     "start_time": "2021-10-07T18:12:01.969001Z"
    }
   },
   "outputs": [
    {
     "name": "stdout",
     "output_type": "stream",
     "text": [
      "LGBM: Letra que foi escrita é:  N com probabilidade de acertar de:  34.75 %\n",
      "CNN: Letra que foi escrita é:  N com probabilidade de acertar de:  99.96 %\n"
     ]
    },
    {
     "data": {
      "image/png": "[encoded data removed]",
      "text/plain": [
       "<Figure size 432x288 with 1 Axes>"
      ]
     },
     "metadata": {
      "needs_background": "light"
     },
     "output_type": "display_data"
    }
   ],
   "source": [
    "models_predict_()"
   ]
  },
  {
   "cell_type": "markdown",
   "id": "3111ec4e",
   "metadata": {
    "ExecuteTime": {
     "end_time": "2021-10-07T16:27:15.553260Z",
     "start_time": "2021-10-07T16:27:15.545270Z"
    }
   },
   "source": [
    "# DESENHAR"
   ]
  },
  {
   "cell_type": "code",
   "execution_count": 3,
   "id": "b2b44cdb",
   "metadata": {
    "ExecuteTime": {
     "end_time": "2021-10-07T18:54:37.716398Z",
     "start_time": "2021-10-07T18:54:37.685478Z"
    }
   },
   "outputs": [
    {
     "ename": "ModuleNotFoundError",
     "evalue": "No module named 'PIL'",
     "output_type": "error",
     "traceback": [
      "\u001b[1;31m---------------------------------------------------------------------------\u001b[0m",
      "\u001b[1;31mModuleNotFoundError\u001b[0m                       Traceback (most recent call last)",
      "\u001b[1;32m<ipython-input-3-2bb613d5f479>\u001b[0m in \u001b[0;36m<module>\u001b[1;34m\u001b[0m\n\u001b[1;32m----> 1\u001b[1;33m \u001b[0mdraw\u001b[0m\u001b[1;33m(\u001b[0m\u001b[1;33m)\u001b[0m\u001b[1;33m\u001b[0m\u001b[1;33m\u001b[0m\u001b[0m\n\u001b[0m",
      "\u001b[1;32m~\\Desktop\\IRONHACK\\_Repositório\\Portuguese-Handwiriting-Recognition\\Libraries_Recognize.py\u001b[0m in \u001b[0;36mdraw\u001b[1;34m()\u001b[0m\n\u001b[0;32m      1\u001b[0m \u001b[1;32mdef\u001b[0m \u001b[0mdraw\u001b[0m\u001b[1;33m(\u001b[0m\u001b[1;33m)\u001b[0m\u001b[1;33m:\u001b[0m\u001b[1;33m\u001b[0m\u001b[1;33m\u001b[0m\u001b[0m\n\u001b[0;32m      2\u001b[0m     \u001b[1;32mimport\u001b[0m \u001b[0mtkinter\u001b[0m\u001b[1;33m\u001b[0m\u001b[1;33m\u001b[0m\u001b[0m\n\u001b[1;32m----> 3\u001b[1;33m     \u001b[1;32mfrom\u001b[0m \u001b[0mPIL\u001b[0m \u001b[1;32mimport\u001b[0m \u001b[0mImage\u001b[0m\u001b[1;33m,\u001b[0m \u001b[0mImageTk\u001b[0m\u001b[1;33m,\u001b[0m \u001b[0mImageDraw\u001b[0m\u001b[1;33m\u001b[0m\u001b[1;33m\u001b[0m\u001b[0m\n\u001b[0m\u001b[0;32m      4\u001b[0m     \u001b[1;32mimport\u001b[0m \u001b[0mPIL\u001b[0m\u001b[1;33m\u001b[0m\u001b[1;33m\u001b[0m\u001b[0m\n\u001b[0;32m      5\u001b[0m \u001b[1;33m\u001b[0m\u001b[0m\n",
      "\u001b[1;31mModuleNotFoundError\u001b[0m: No module named 'PIL'"
     ]
    }
   ],
   "source": [
    "draw()"
   ]
  },
  {
   "cell_type": "markdown",
   "id": "c437431d",
   "metadata": {
    "ExecuteTime": {
     "end_time": "2021-10-07T16:27:44.875279Z",
     "start_time": "2021-10-07T16:27:44.862313Z"
    }
   },
   "source": [
    "## TRATAMENTO IMAGEM"
   ]
  },
  {
   "cell_type": "code",
   "execution_count": 63,
   "id": "42b79c96",
   "metadata": {
    "ExecuteTime": {
     "end_time": "2021-10-07T18:22:35.174286Z",
     "start_time": "2021-10-07T18:22:35.053603Z"
    }
   },
   "outputs": [
    {
     "data": {
      "image/png": "[encoded data removed]",
      "text/plain": [
       "<Figure size 432x288 with 1 Axes>"
      ]
     },
     "metadata": {
      "needs_background": "light"
     },
     "output_type": "display_data"
    }
   ],
   "source": [
    "image=image_treat()"
   ]
  },
  {
   "cell_type": "markdown",
   "id": "d2511b17",
   "metadata": {},
   "source": [
    "## LGBM  VS CNN PREDICT"
   ]
  },
  {
   "cell_type": "code",
   "execution_count": 64,
   "id": "337bf017",
   "metadata": {
    "ExecuteTime": {
     "end_time": "2021-10-07T18:22:37.899953Z",
     "start_time": "2021-10-07T18:22:37.521532Z"
    }
   },
   "outputs": [
    {
     "name": "stdout",
     "output_type": "stream",
     "text": [
      "LGBM: Letra que foi escrita é:  U com probabilidade de acertar de:  21.32 %\n",
      "CNN: Letra que foi escrita é:  Q com probabilidade de acertar de:  100.00 %\n"
     ]
    },
    {
     "data": {
      "image/png": "[encoded data removed]",
      "text/plain": [
       "<Figure size 432x288 with 1 Axes>"
      ]
     },
     "metadata": {
      "needs_background": "light"
     },
     "output_type": "display_data"
    }
   ],
   "source": [
    "models_predict()"
   ]
  },
  {
   "cell_type": "markdown",
   "id": "574a2637",
   "metadata": {},
   "source": [
    "# FIM"
   ]
  },
  {
   "cell_type": "code",
   "execution_count": null,
   "id": "d894a028",
   "metadata": {},
   "outputs": [],
   "source": []
  },
  {
   "cell_type": "code",
   "execution_count": null,
   "id": "390268a2",
   "metadata": {},
   "outputs": [],
   "source": [
    "from Libraries_Recognize import draw, image_treat, import_models, models_predict, image_treat2, models_predict_, import_image\n",
    "import warnings\n",
    "warnings.filterwarnings('ignore') \n",
    "\n",
    "\n",
    "# IMAGEM LETRA MAIÚSCULA \n",
    "\n",
    "import PIL\n",
    "\n",
    "!pip install Pillow\n",
    "\n",
    "import_image('imagens teste/B.png')\n",
    "\n",
    "## TRATAMENTO IMAGEM\n",
    "\n",
    "image=image_treat2()\n",
    "\n",
    "## LGBM  VS CNN Predict\n",
    "\n",
    "models_predict_()\n",
    "\n",
    "# DESENHAR\n",
    "\n",
    "draw()\n",
    "\n",
    "## TRATAMENTO IMAGEM\n",
    "\n",
    "image=image_treat()\n",
    "\n",
    "## LGBM  VS CNN PREDICT\n",
    "\n",
    "models_predict()\n",
    "\n",
    "# FIM\n",
    "\n"
   ]
  }
 ],
 "metadata": {
  "kernelspec": {
   "display_name": "Python 3",
   "language": "python",
   "name": "python3"
  },
  "language_info": {
   "codemirror_mode": {
    "name": "ipython",
    "version": 3
   },
   "file_extension": ".py",
   "mimetype": "text/x-python",
   "name": "python",
   "nbconvert_exporter": "python",
   "pygments_lexer": "ipython3",
   "version": "3.8.8"
  },
  "toc": {
   "base_numbering": 1,
   "nav_menu": {},
   "number_sections": true,
   "sideBar": true,
   "skip_h1_title": false,
   "title_cell": "Table of Contents",
   "title_sidebar": "Contents",
   "toc_cell": false,
   "toc_position": {},
   "toc_section_display": true,
   "toc_window_display": false
  },
  "varInspector": {
   "cols": {
    "lenName": 16,
    "lenType": 16,
    "lenVar": 40
   },
   "kernels_config": {
    "python": {
     "delete_cmd_postfix": "",
     "delete_cmd_prefix": "del ",
     "library": "var_list.py",
     "varRefreshCmd": "print(var_dic_list())"
    },
    "r": {
     "delete_cmd_postfix": ") ",
     "delete_cmd_prefix": "rm(",
     "library": "var_list.r",
     "varRefreshCmd": "cat(var_dic_list()) "
    }
   },
   "types_to_exclude": [
    "module",
    "function",
    "builtin_function_or_method",
    "instance",
    "_Feature"
   ],
   "window_display": false
  }
 },
 "nbformat": 4,
 "nbformat_minor": 5
}
