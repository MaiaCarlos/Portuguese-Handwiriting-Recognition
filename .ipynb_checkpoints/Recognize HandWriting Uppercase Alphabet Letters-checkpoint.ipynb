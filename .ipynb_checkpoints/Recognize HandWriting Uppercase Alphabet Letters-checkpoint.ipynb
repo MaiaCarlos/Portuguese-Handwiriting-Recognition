{
 "cells": [
  {
   "cell_type": "code",
   "execution_count": 1,
   "id": "e3d329fe",
   "metadata": {
    "ExecuteTime": {
     "end_time": "2021-10-08T12:30:34.833192Z",
     "start_time": "2021-10-08T12:30:34.823218Z"
    }
   },
   "outputs": [],
   "source": [
    "from Libraries_Recognize import draw, image_treat, import_models, models_predict, image_treat2, models_predict_, import_image\n",
    "import warnings\n",
    "warnings.filterwarnings('ignore') \n",
    "import os\n",
    "os.environ['TF_CPP_MIN_LOG_LEVEL'] = '3'"
   ]
  },
  {
   "cell_type": "markdown",
   "id": "2dcc55a0",
   "metadata": {},
   "source": [
    "# IMAGEM LETRA MAIÚSCULA "
   ]
  },
  {
   "cell_type": "code",
   "execution_count": null,
   "id": "ec4f06ff",
   "metadata": {},
   "outputs": [],
   "source": [
    "image_=import_image('imagens teste/E.png')"
   ]
  },
  {
   "cell_type": "markdown",
   "id": "bad5dbd3",
   "metadata": {},
   "source": [
    "## TRATAMENTO IMAGEM"
   ]
  },
  {
   "cell_type": "code",
   "execution_count": null,
   "id": "4665ae20",
   "metadata": {},
   "outputs": [],
   "source": [
    "image=image_treat2(image_)"
   ]
  },
  {
   "cell_type": "markdown",
   "id": "e2b5a855",
   "metadata": {},
   "source": [
    "## LGBM  VS CNN Predict"
   ]
  },
  {
   "cell_type": "code",
   "execution_count": null,
   "id": "5bd3c86e",
   "metadata": {},
   "outputs": [],
   "source": [
    "models_predict_(image_)"
   ]
  },
  {
   "cell_type": "markdown",
   "id": "fbfa6af9",
   "metadata": {
    "ExecuteTime": {
     "end_time": "2021-10-07T16:27:15.553260Z",
     "start_time": "2021-10-07T16:27:15.545270Z"
    }
   },
   "source": [
    "# DESENHAR"
   ]
  },
  {
   "cell_type": "code",
   "execution_count": 9,
   "id": "d226a393",
   "metadata": {
    "ExecuteTime": {
     "end_time": "2021-10-08T12:32:00.758294Z",
     "start_time": "2021-10-08T12:31:53.698066Z"
    }
   },
   "outputs": [],
   "source": [
    "draw()"
   ]
  },
  {
   "cell_type": "markdown",
   "id": "a90bfabe",
   "metadata": {
    "ExecuteTime": {
     "end_time": "2021-10-07T16:27:44.875279Z",
     "start_time": "2021-10-07T16:27:44.862313Z"
    }
   },
   "source": [
    "## TRATAMENTO IMAGEM"
   ]
  },
  {
   "cell_type": "code",
   "execution_count": null,
   "id": "6f05a77c",
   "metadata": {},
   "outputs": [],
   "source": [
    "image=image_treat()"
   ]
  },
  {
   "cell_type": "markdown",
   "id": "5695ac36",
   "metadata": {},
   "source": [
    "## LGBM  VS CNN PREDICT"
   ]
  },
  {
   "cell_type": "code",
   "execution_count": null,
   "id": "eb771225",
   "metadata": {},
   "outputs": [],
   "source": [
    "models_predict()"
   ]
  },
  {
   "cell_type": "markdown",
   "id": "f1d307e3",
   "metadata": {},
   "source": [
    "# FIM- CONTINUA NA  APRESENTAÇÃO"
   ]
  },
  {
   "cell_type": "code",
   "execution_count": null,
   "id": "8e26191b",
   "metadata": {},
   "outputs": [],
   "source": []
  }
 ],
 "metadata": {
  "kernelspec": {
   "display_name": "Python 3",
   "language": "python",
   "name": "python3"
  },
  "language_info": {
   "codemirror_mode": {
    "name": "ipython",
    "version": 3
   },
   "file_extension": ".py",
   "mimetype": "text/x-python",
   "name": "python",
   "nbconvert_exporter": "python",
   "pygments_lexer": "ipython3",
   "version": "3.8.8"
  },
  "toc": {
   "base_numbering": 1,
   "nav_menu": {},
   "number_sections": true,
   "sideBar": true,
   "skip_h1_title": false,
   "title_cell": "Table of Contents",
   "title_sidebar": "Contents",
   "toc_cell": false,
   "toc_position": {},
   "toc_section_display": true,
   "toc_window_display": false
  },
  "varInspector": {
   "cols": {
    "lenName": 16,
    "lenType": 16,
    "lenVar": 40
   },
   "kernels_config": {
    "python": {
     "delete_cmd_postfix": "",
     "delete_cmd_prefix": "del ",
     "library": "var_list.py",
     "varRefreshCmd": "print(var_dic_list())"
    },
    "r": {
     "delete_cmd_postfix": ") ",
     "delete_cmd_prefix": "rm(",
     "library": "var_list.r",
     "varRefreshCmd": "cat(var_dic_list()) "
    }
   },
   "types_to_exclude": [
    "module",
    "function",
    "builtin_function_or_method",
    "instance",
    "_Feature"
   ],
   "window_display": false
  }
 },
 "nbformat": 4,
 "nbformat_minor": 5
}
