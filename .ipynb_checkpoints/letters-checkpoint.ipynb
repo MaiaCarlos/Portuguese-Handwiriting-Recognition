{
 "cells": [
  {
   "cell_type": "markdown",
   "id": "8f53c2a6",
   "metadata": {},
   "source": [
    "# IMPORTING THE LIBRARIES"
   ]
  },
  {
   "cell_type": "code",
   "execution_count": 1,
   "id": "84a9959b",
   "metadata": {
    "ExecuteTime": {
     "end_time": "2021-10-08T10:27:45.618043Z",
     "start_time": "2021-10-08T10:27:33.163187Z"
    }
   },
   "outputs": [],
   "source": [
    "import pandas as pd\n",
    "import numpy as pn\n",
    "import matplotlib.pyplot as plt\n",
    "from lightgbm import LGBMClassifier\n",
    "from sklearn.model_selection import train_test_split\n",
    "from sklearn.metrics import roc_auc_score\n",
    "from lightgbm import plot_importance\n",
    "from sklearn.model_selection import learning_curve\n",
    "from sklearn.metrics import plot_confusion_matrix, confusion_matrix\n",
    "import seaborn as sns\n",
    "from keras.utils import np_utils\n",
    "from keras.models import model_from_json\n",
    "from tensorflow import keras \n",
    "\n",
    "import cv2\n",
    "from keras.models import Sequential\n",
    "from keras.layers import Dense, Flatten, Conv2D, MaxPool2D, Dropout\n",
    "#from keras.optimizers import  Adam\n",
    "from keras.callbacks import ReduceLROnPlateau, EarlyStopping\n",
    "#from keras.utils import to_categorical\n",
    "from tensorflow.keras.optimizers import Adam\n",
    "from sklearn.utils import shuffle\n",
    "\n",
    "import numpy as np \n",
    "import pandas as pd \n",
    "import matplotlib.pyplot as plt\n",
    "import seaborn as sns\n",
    "import os\n",
    "from sklearn.preprocessing import MinMaxScaler\n",
    "import tensorflow as tf\n",
    "from keras.models import Sequential\n",
    "from keras.layers import Dense\n",
    "from keras.layers import Dropout\n",
    "from keras.layers import Flatten\n",
    "from keras.layers.convolutional import Conv2D\n",
    "from keras.layers.convolutional import MaxPooling2D\n",
    "from keras import backend as K\n",
    "from keras.utils import np_utils\n",
    "from sklearn.model_selection import train_test_split\n",
    "from sklearn.metrics import confusion_matrix\n",
    "\n",
    "#ignore warning messages \n",
    "import warnings\n",
    "warnings.filterwarnings('ignore') \n",
    "\n",
    "\n",
    "from tkinter import *\n",
    "\n",
    "#Bibliotecas para tratar a imagem\n",
    "from pil import Image, ImageOps, ImageEnhance\n",
    "from pil import Image, ImageTk, ImageDraw\n",
    "import pil\n",
    "\n",
    "# Save and Load Models\n",
    "import joblib"
   ]
  },
  {
   "cell_type": "markdown",
   "id": "b82fac95",
   "metadata": {},
   "source": [
    "# LOADING THE DATASET"
   ]
  },
  {
   "cell_type": "code",
   "execution_count": 2,
   "id": "4a70fb11",
   "metadata": {
    "ExecuteTime": {
     "end_time": "2021-10-08T11:34:43.044479Z",
     "start_time": "2021-10-08T11:34:43.033475Z"
    }
   },
   "outputs": [],
   "source": [
    "listapixel=[f'pixel_{x}'for x in range(784)]\n",
    "listapixel= ['target']+listapixel"
   ]
  },
  {
   "cell_type": "code",
   "execution_count": 3,
   "id": "7c290163",
   "metadata": {
    "ExecuteTime": {
     "end_time": "2021-10-08T11:35:01.465265Z",
     "start_time": "2021-10-08T11:34:43.808085Z"
    }
   },
   "outputs": [],
   "source": [
    "data= pd.read_csv('A_Z Handwritten Data.csv', names= listapixel)"
   ]
  },
  {
   "cell_type": "markdown",
   "id": "52d7e8a7",
   "metadata": {},
   "source": [
    "# EXPLORATORY DATA ANALYSIS"
   ]
  },
  {
   "cell_type": "code",
   "execution_count": 5,
   "id": "3f8182d9",
   "metadata": {
    "ExecuteTime": {
     "end_time": "2021-10-07T14:01:30.769620Z",
     "start_time": "2021-10-07T14:01:30.747643Z"
    }
   },
   "outputs": [
    {
     "data": {
      "text/html": [
       "<div>\n",
       "<style scoped>\n",
       "    .dataframe tbody tr th:only-of-type {\n",
       "        vertical-align: middle;\n",
       "    }\n",
       "\n",
       "    .dataframe tbody tr th {\n",
       "        vertical-align: top;\n",
       "    }\n",
       "\n",
       "    .dataframe thead th {\n",
       "        text-align: right;\n",
       "    }\n",
       "</style>\n",
       "<table border=\"1\" class=\"dataframe\">\n",
       "  <thead>\n",
       "    <tr style=\"text-align: right;\">\n",
       "      <th></th>\n",
       "      <th>target</th>\n",
       "      <th>pixel_0</th>\n",
       "      <th>pixel_1</th>\n",
       "      <th>pixel_2</th>\n",
       "      <th>pixel_3</th>\n",
       "      <th>pixel_4</th>\n",
       "      <th>pixel_5</th>\n",
       "      <th>pixel_6</th>\n",
       "      <th>pixel_7</th>\n",
       "      <th>pixel_8</th>\n",
       "      <th>...</th>\n",
       "      <th>pixel_774</th>\n",
       "      <th>pixel_775</th>\n",
       "      <th>pixel_776</th>\n",
       "      <th>pixel_777</th>\n",
       "      <th>pixel_778</th>\n",
       "      <th>pixel_779</th>\n",
       "      <th>pixel_780</th>\n",
       "      <th>pixel_781</th>\n",
       "      <th>pixel_782</th>\n",
       "      <th>pixel_783</th>\n",
       "    </tr>\n",
       "  </thead>\n",
       "  <tbody>\n",
       "    <tr>\n",
       "      <th>0</th>\n",
       "      <td>0</td>\n",
       "      <td>0</td>\n",
       "      <td>0</td>\n",
       "      <td>0</td>\n",
       "      <td>0</td>\n",
       "      <td>0</td>\n",
       "      <td>0</td>\n",
       "      <td>0</td>\n",
       "      <td>0</td>\n",
       "      <td>0</td>\n",
       "      <td>...</td>\n",
       "      <td>0</td>\n",
       "      <td>0</td>\n",
       "      <td>0</td>\n",
       "      <td>0</td>\n",
       "      <td>0</td>\n",
       "      <td>0</td>\n",
       "      <td>0</td>\n",
       "      <td>0</td>\n",
       "      <td>0</td>\n",
       "      <td>0</td>\n",
       "    </tr>\n",
       "    <tr>\n",
       "      <th>1</th>\n",
       "      <td>0</td>\n",
       "      <td>0</td>\n",
       "      <td>0</td>\n",
       "      <td>0</td>\n",
       "      <td>0</td>\n",
       "      <td>0</td>\n",
       "      <td>0</td>\n",
       "      <td>0</td>\n",
       "      <td>0</td>\n",
       "      <td>0</td>\n",
       "      <td>...</td>\n",
       "      <td>0</td>\n",
       "      <td>0</td>\n",
       "      <td>0</td>\n",
       "      <td>0</td>\n",
       "      <td>0</td>\n",
       "      <td>0</td>\n",
       "      <td>0</td>\n",
       "      <td>0</td>\n",
       "      <td>0</td>\n",
       "      <td>0</td>\n",
       "    </tr>\n",
       "    <tr>\n",
       "      <th>2</th>\n",
       "      <td>0</td>\n",
       "      <td>0</td>\n",
       "      <td>0</td>\n",
       "      <td>0</td>\n",
       "      <td>0</td>\n",
       "      <td>0</td>\n",
       "      <td>0</td>\n",
       "      <td>0</td>\n",
       "      <td>0</td>\n",
       "      <td>0</td>\n",
       "      <td>...</td>\n",
       "      <td>0</td>\n",
       "      <td>0</td>\n",
       "      <td>0</td>\n",
       "      <td>0</td>\n",
       "      <td>0</td>\n",
       "      <td>0</td>\n",
       "      <td>0</td>\n",
       "      <td>0</td>\n",
       "      <td>0</td>\n",
       "      <td>0</td>\n",
       "    </tr>\n",
       "    <tr>\n",
       "      <th>3</th>\n",
       "      <td>0</td>\n",
       "      <td>0</td>\n",
       "      <td>0</td>\n",
       "      <td>0</td>\n",
       "      <td>0</td>\n",
       "      <td>0</td>\n",
       "      <td>0</td>\n",
       "      <td>0</td>\n",
       "      <td>0</td>\n",
       "      <td>0</td>\n",
       "      <td>...</td>\n",
       "      <td>0</td>\n",
       "      <td>0</td>\n",
       "      <td>0</td>\n",
       "      <td>0</td>\n",
       "      <td>0</td>\n",
       "      <td>0</td>\n",
       "      <td>0</td>\n",
       "      <td>0</td>\n",
       "      <td>0</td>\n",
       "      <td>0</td>\n",
       "    </tr>\n",
       "    <tr>\n",
       "      <th>4</th>\n",
       "      <td>0</td>\n",
       "      <td>0</td>\n",
       "      <td>0</td>\n",
       "      <td>0</td>\n",
       "      <td>0</td>\n",
       "      <td>0</td>\n",
       "      <td>0</td>\n",
       "      <td>0</td>\n",
       "      <td>0</td>\n",
       "      <td>0</td>\n",
       "      <td>...</td>\n",
       "      <td>0</td>\n",
       "      <td>0</td>\n",
       "      <td>0</td>\n",
       "      <td>0</td>\n",
       "      <td>0</td>\n",
       "      <td>0</td>\n",
       "      <td>0</td>\n",
       "      <td>0</td>\n",
       "      <td>0</td>\n",
       "      <td>0</td>\n",
       "    </tr>\n",
       "  </tbody>\n",
       "</table>\n",
       "<p>5 rows × 785 columns</p>\n",
       "</div>"
      ],
      "text/plain": [
       "   target  pixel_0  pixel_1  pixel_2  pixel_3  pixel_4  pixel_5  pixel_6  \\\n",
       "0       0        0        0        0        0        0        0        0   \n",
       "1       0        0        0        0        0        0        0        0   \n",
       "2       0        0        0        0        0        0        0        0   \n",
       "3       0        0        0        0        0        0        0        0   \n",
       "4       0        0        0        0        0        0        0        0   \n",
       "\n",
       "   pixel_7  pixel_8  ...  pixel_774  pixel_775  pixel_776  pixel_777  \\\n",
       "0        0        0  ...          0          0          0          0   \n",
       "1        0        0  ...          0          0          0          0   \n",
       "2        0        0  ...          0          0          0          0   \n",
       "3        0        0  ...          0          0          0          0   \n",
       "4        0        0  ...          0          0          0          0   \n",
       "\n",
       "   pixel_778  pixel_779  pixel_780  pixel_781  pixel_782  pixel_783  \n",
       "0          0          0          0          0          0          0  \n",
       "1          0          0          0          0          0          0  \n",
       "2          0          0          0          0          0          0  \n",
       "3          0          0          0          0          0          0  \n",
       "4          0          0          0          0          0          0  \n",
       "\n",
       "[5 rows x 785 columns]"
      ]
     },
     "execution_count": 5,
     "metadata": {},
     "output_type": "execute_result"
    }
   ],
   "source": [
    "data.head()"
   ]
  },
  {
   "cell_type": "code",
   "execution_count": 6,
   "id": "20ac5f76",
   "metadata": {
    "ExecuteTime": {
     "end_time": "2021-10-07T14:01:34.943921Z",
     "start_time": "2021-10-07T14:01:34.800300Z"
    }
   },
   "outputs": [
    {
     "data": {
      "text/plain": [
       "<matplotlib.image.AxesImage at 0x13cebddea90>"
      ]
     },
     "execution_count": 6,
     "metadata": {},
     "output_type": "execute_result"
    },
    {
     "data": {
      "image/png": "[encoded data removed]",
      "text/plain": [
       "<Figure size 432x288 with 1 Axes>"
      ]
     },
     "metadata": {
      "needs_background": "light"
     },
     "output_type": "display_data"
    }
   ],
   "source": [
    "plt.imshow(data.iloc[2,1:].to_numpy().reshape(28,28))"
   ]
  },
  {
   "cell_type": "code",
   "execution_count": 7,
   "id": "57d22705",
   "metadata": {
    "ExecuteTime": {
     "end_time": "2021-10-07T14:01:37.359674Z",
     "start_time": "2021-10-07T14:01:37.206554Z"
    }
   },
   "outputs": [
    {
     "data": {
      "text/plain": [
       "<matplotlib.image.AxesImage at 0x13cf5e0e5e0>"
      ]
     },
     "execution_count": 7,
     "metadata": {},
     "output_type": "execute_result"
    },
    {
     "data": {
      "image/png": "[encoded data removed]",
      "text/plain": [
       "<Figure size 432x288 with 1 Axes>"
      ]
     },
     "metadata": {
      "needs_background": "light"
     },
     "output_type": "display_data"
    }
   ],
   "source": [
    "plt.imshow(data.iloc[352340,1:].to_numpy().reshape(28,28))"
   ]
  },
  {
   "cell_type": "markdown",
   "id": "0640fa13",
   "metadata": {},
   "source": [
    "## GRAPH VISUALIZATION"
   ]
  },
  {
   "cell_type": "code",
   "execution_count": 5,
   "id": "77ba89cf",
   "metadata": {
    "ExecuteTime": {
     "end_time": "2021-10-08T11:35:17.755172Z",
     "start_time": "2021-10-08T11:35:17.746172Z"
    }
   },
   "outputs": [],
   "source": [
    "word_dict = {0:'A',1:'B',2:'C',3:'D',4:'E',5:'F',6:'G',7:'H',8:'I',9:'J',10:'K',11:'L',12:'M',13:'N',14:'O',15:'P',16:'Q',17:'R',18:'S',19:'T',20:'U',21:'V',22:'W',23:'X', 24:'Y',25:'Z'}"
   ]
  },
  {
   "cell_type": "code",
   "execution_count": 10,
   "id": "08088cd6",
   "metadata": {
    "ExecuteTime": {
     "end_time": "2021-10-08T11:36:04.940129Z",
     "start_time": "2021-10-08T11:36:04.924474Z"
    }
   },
   "outputs": [],
   "source": [
    "count=pd.DataFrame(data['target'].value_counts())\n",
    "count=count.sort_index(ascending=True)"
   ]
  },
  {
   "cell_type": "code",
   "execution_count": 15,
   "id": "c77f2156",
   "metadata": {
    "ExecuteTime": {
     "end_time": "2021-10-08T11:36:48.292652Z",
     "start_time": "2021-10-08T11:36:48.043569Z"
    }
   },
   "outputs": [
    {
     "data": {
      "image/png": "[encoded data removed]",
      "text/plain": [
       "<Figure size 2160x720 with 1 Axes>"
      ]
     },
     "metadata": {
      "needs_background": "light"
     },
     "output_type": "display_data"
    }
   ],
   "source": [
    "alphabets = []\n",
    "for i in word_dict.values():\n",
    "    alphabets.append(i) #all alphabets\n",
    "\n",
    "fig, ax = plt.subplots(1,1, figsize=(30,10))\n",
    "ax.barh(alphabets, count['target'])\n",
    "\n",
    "plt.xlabel(\"Number of elements \")\n",
    "plt.ylabel(\"Alphabets\")\n",
    "plt.grid()\n",
    "plt.show()"
   ]
  },
  {
   "cell_type": "markdown",
   "id": "205ae086",
   "metadata": {},
   "source": [
    "# DATA PREPARATION TO MODEL\n"
   ]
  },
  {
   "cell_type": "code",
   "execution_count": 16,
   "id": "f9a0053f",
   "metadata": {
    "ExecuteTime": {
     "end_time": "2021-10-08T11:39:29.470904Z",
     "start_time": "2021-10-08T11:39:26.701622Z"
    }
   },
   "outputs": [],
   "source": [
    "X=data.drop('target', axis=1)\n",
    "y=data['target']\n",
    "\n",
    "X_train, X_test, Y_train, Y_test = train_test_split(X, y, test_size = 0.2)"
   ]
  },
  {
   "cell_type": "markdown",
   "id": "8bf1ea63",
   "metadata": {},
   "source": [
    "# PREVISION AND TRAIN - MODEL LBGM"
   ]
  },
  {
   "cell_type": "code",
   "execution_count": 17,
   "id": "8d58edc8",
   "metadata": {
    "ExecuteTime": {
     "end_time": "2021-10-08T11:40:35.671567Z",
     "start_time": "2021-10-08T11:39:31.983100Z"
    }
   },
   "outputs": [
    {
     "data": {
      "text/plain": [
       "LGBMClassifier(colsample_bytree=0.33, max_depth=3, n_estimators=50)"
      ]
     },
     "execution_count": 17,
     "metadata": {},
     "output_type": "execute_result"
    }
   ],
   "source": [
    "lgb = LGBMClassifier(max_depth=3, n_estimators=50, colsample_bytree=.33, n_jobs=-1)\n",
    "lgb.fit(X_train,Y_train)"
   ]
  },
  {
   "cell_type": "markdown",
   "id": "61b65821",
   "metadata": {},
   "source": [
    "## CONFUSION MATRIX - MODEL LGBM"
   ]
  },
  {
   "cell_type": "code",
   "execution_count": 18,
   "id": "a4549bf4",
   "metadata": {
    "ExecuteTime": {
     "end_time": "2021-10-08T11:41:27.807294Z",
     "start_time": "2021-10-08T11:41:22.033851Z"
    }
   },
   "outputs": [
    {
     "data": {
      "text/plain": [
       "<AxesSubplot:>"
      ]
     },
     "execution_count": 18,
     "metadata": {},
     "output_type": "execute_result"
    },
    {
     "data": {
      "image/png": "[encoded data removed]",
      "text/plain": [
       "<Figure size 2160x720 with 2 Axes>"
      ]
     },
     "metadata": {
      "needs_background": "light"
     },
     "output_type": "display_data"
    }
   ],
   "source": [
    "fig, ax = plt.subplots(figsize=(30,10))\n",
    "sns.heatmap(confusion_matrix(Y_test,lgb.predict(X_test)), annot= True, fmt='g')"
   ]
  },
  {
   "cell_type": "markdown",
   "id": "30334b2c",
   "metadata": {
    "ExecuteTime": {
     "end_time": "2021-10-07T14:11:48.069574Z",
     "start_time": "2021-10-07T14:11:48.057580Z"
    }
   },
   "source": [
    "## ROC_AUC_SCORE - LGBM"
   ]
  },
  {
   "cell_type": "code",
   "execution_count": 20,
   "id": "883bfd6d",
   "metadata": {
    "ExecuteTime": {
     "end_time": "2021-10-08T11:45:54.002872Z",
     "start_time": "2021-10-08T11:45:43.185689Z"
    }
   },
   "outputs": [
    {
     "name": "stdout",
     "output_type": "stream",
     "text": [
      "LGBM_Roc_Train 0.9940213166055579\n",
      "LGBM_Roc_Test 0.9930802948233467\n"
     ]
    }
   ],
   "source": [
    "print(\"LGBM_Roc_Train\",roc_auc_score(Y_train, lgb.predict_proba(X_train), multi_class='ovo'))\n",
    "print(\"LGBM_Roc_Test\",roc_auc_score(Y_test, lgb.predict_proba(X_test), multi_class='ovo'))"
   ]
  },
  {
   "cell_type": "markdown",
   "id": "07013f69",
   "metadata": {
    "ExecuteTime": {
     "end_time": "2021-10-07T15:51:58.629741Z",
     "start_time": "2021-10-07T15:51:58.622760Z"
    }
   },
   "source": [
    "## SAVE MODEL - LGBM"
   ]
  },
  {
   "cell_type": "code",
   "execution_count": 64,
   "id": "2d509687",
   "metadata": {
    "ExecuteTime": {
     "end_time": "2021-10-07T16:05:12.991792Z",
     "start_time": "2021-10-07T16:05:12.875104Z"
    }
   },
   "outputs": [
    {
     "data": {
      "text/plain": [
       "['lgbm.pkl']"
      ]
     },
     "execution_count": 64,
     "metadata": {},
     "output_type": "execute_result"
    }
   ],
   "source": [
    "joblib.dump(lgb, 'lgbm.pkl')"
   ]
  },
  {
   "cell_type": "markdown",
   "id": "ca7aadc9",
   "metadata": {
    "ExecuteTime": {
     "end_time": "2021-10-07T16:40:38.008703Z",
     "start_time": "2021-10-07T16:40:37.997694Z"
    }
   },
   "source": [
    "## LOAD MODEL - LGBM"
   ]
  },
  {
   "cell_type": "code",
   "execution_count": 65,
   "id": "1c1bb204",
   "metadata": {
    "ExecuteTime": {
     "end_time": "2021-10-07T16:06:08.864833Z",
     "start_time": "2021-10-07T16:06:08.814967Z"
    }
   },
   "outputs": [],
   "source": [
    "lgb=joblib.load('lgbm.pkl')"
   ]
  },
  {
   "cell_type": "markdown",
   "id": "a145a9da",
   "metadata": {
    "ExecuteTime": {
     "end_time": "2021-10-04T19:49:19.925912Z",
     "start_time": "2021-10-04T19:49:19.918896Z"
    }
   },
   "source": [
    "# PREDICT - CLASSIFICATION USING CNN\n",
    "## DATA PREPARATION"
   ]
  },
  {
   "cell_type": "code",
   "execution_count": 23,
   "id": "aeb6a061",
   "metadata": {
    "ExecuteTime": {
     "end_time": "2021-10-08T11:48:25.215530Z",
     "start_time": "2021-10-08T11:48:21.550801Z"
    }
   },
   "outputs": [],
   "source": [
    "X_train, X_test, y_train, y_test = train_test_split(X, y, test_size = 0.2)\n",
    "X_train = np.reshape(X_train.values, (X_train.shape[0], 28,28,1)) # faz o Reshape da variável para um formato, 28 X 28 x 1\n",
    "X_test = np.reshape(X_test.values, (X_test.shape[0], 28,28,1)) # faz o Reshape da variável para um formato, 28 X 28 x 1\n",
    "\n",
    "\n",
    "X_train=X_train/255 #transforma os dados entre valores 0 e 1\n",
    "X_test=X_test/255 #transforma os dados entre valores 0 e 1\n",
    "\n",
    "num_classes = len(y.unique()) #número de classes que tem os meus dados\n",
    "\n",
    "y_train=np_utils.to_categorical(y_train, num_classes=num_classes, dtype='int') # passar a variável y para categorica, uma vez que é um número atualmente\n",
    "y_test=np_utils.to_categorical(y_test, num_classes=num_classes, dtype='int') # passar a variável y para categorica, uma vez que é um número atualmente\n"
   ]
  },
  {
   "cell_type": "markdown",
   "id": "80434127",
   "metadata": {},
   "source": [
    "## MODEL PREPARATION - CNN PARAMETERS"
   ]
  },
  {
   "cell_type": "code",
   "execution_count": 15,
   "id": "d35992b6",
   "metadata": {
    "ExecuteTime": {
     "end_time": "2021-10-06T22:42:24.156847Z",
     "start_time": "2021-10-06T22:42:23.803305Z"
    }
   },
   "outputs": [
    {
     "name": "stdout",
     "output_type": "stream",
     "text": [
      "Model: \"sequential\"\n",
      "_________________________________________________________________\n",
      "Layer (type)                 Output Shape              Param #   \n",
      "=================================================================\n",
      "conv2d (Conv2D)              (None, 26, 26, 30)        300       \n",
      "_________________________________________________________________\n",
      "max_pooling2d (MaxPooling2D) (None, 25, 25, 30)        0         \n",
      "_________________________________________________________________\n",
      "conv2d_1 (Conv2D)            (None, 23, 23, 30)        8130      \n",
      "_________________________________________________________________\n",
      "max_pooling2d_1 (MaxPooling2 (None, 22, 22, 30)        0         \n",
      "_________________________________________________________________\n",
      "dropout (Dropout)            (None, 22, 22, 30)        0         \n",
      "_________________________________________________________________\n",
      "flatten (Flatten)            (None, 14520)             0         \n",
      "_________________________________________________________________\n",
      "dense (Dense)                (None, 128)               1858688   \n",
      "_________________________________________________________________\n",
      "dense_1 (Dense)              (None, 64)                8256      \n",
      "_________________________________________________________________\n",
      "dense_2 (Dense)              (None, 32)                2080      \n",
      "_________________________________________________________________\n",
      "predict (Dense)              (None, 26)                858       \n",
      "=================================================================\n",
      "Total params: 1,878,312\n",
      "Trainable params: 1,878,312\n",
      "Non-trainable params: 0\n",
      "_________________________________________________________________\n"
     ]
    }
   ],
   "source": [
    "model = Sequential()\n",
    "\n",
    "model.add(Conv2D(filters=30, kernel_size=(3, 3), activation='relu', input_shape=(28,28,1))) # 1ªcamada convulocional \n",
    "model.add(MaxPool2D(pool_size=(2, 2), strides=1))\n",
    "model.add(Conv2D(filters=30, kernel_size=(3, 3), activation='relu', input_shape=(28,28,1))) # 2ªcamada convulocional \n",
    "model.add(MaxPool2D(pool_size=(2, 2), strides=1))\n",
    "model.add(Dropout(0.2)) # Drpa 20% dos dados\n",
    "\n",
    "model.add(Flatten()) # transforma a imagem 28 x 28 em 1D para entrada\n",
    "\n",
    "model.add(Dense(128,activation =\"relu\")) #camda ocultacom 128 neuronios\n",
    "model.add(Dense(64,activation =\"relu\")) # camada oculta com 64 neuronios\n",
    "model.add(Dense(32,activation =\"relu\")) # camada oculta com 32 neuronios\n",
    "\n",
    "model.add(Dense(num_classes,activation =\"softmax\", name='predict')) #camada de saída\n",
    "\n",
    "model.compile(loss = 'categorical_crossentropy', optimizer='adam', metrics = ['accuracy']) # loss é a função de perda devemos diminuir este valor\n",
    "model.summary() "
   ]
  },
  {
   "cell_type": "markdown",
   "id": "6a78ced9",
   "metadata": {
    "ExecuteTime": {
     "end_time": "2021-10-07T14:09:28.991872Z",
     "start_time": "2021-10-07T14:09:28.973944Z"
    }
   },
   "source": [
    "## TRAIN MODEL - CNN"
   ]
  },
  {
   "cell_type": "code",
   "execution_count": 18,
   "id": "e17b7bdb",
   "metadata": {
    "ExecuteTime": {
     "end_time": "2021-10-06T23:45:21.036987Z",
     "start_time": "2021-10-06T22:52:27.705981Z"
    }
   },
   "outputs": [
    {
     "name": "stdout",
     "output_type": "stream",
     "text": [
      "Epoch 1/10\n",
      "1490/1490 [==============================] - 313s 210ms/step - loss: 0.0464 - accuracy: 0.9866 - val_loss: 0.0535 - val_accuracy: 0.9841\n",
      "Epoch 2/10\n",
      "1490/1490 [==============================] - 316s 212ms/step - loss: 0.0353 - accuracy: 0.9895 - val_loss: 0.0373 - val_accuracy: 0.9897\n",
      "Epoch 3/10\n",
      "1490/1490 [==============================] - 329s 221ms/step - loss: 0.0273 - accuracy: 0.9917 - val_loss: 0.0401 - val_accuracy: 0.9886\n",
      "Epoch 4/10\n",
      "1490/1490 [==============================] - 313s 210ms/step - loss: 0.0224 - accuracy: 0.9930 - val_loss: 0.0348 - val_accuracy: 0.9902\n",
      "Epoch 5/10\n",
      "1490/1490 [==============================] - 343s 230ms/step - loss: 0.0176 - accuracy: 0.9943 - val_loss: 0.0380 - val_accuracy: 0.9902\n",
      "Epoch 6/10\n",
      "1490/1490 [==============================] - 309s 207ms/step - loss: 0.0157 - accuracy: 0.9949 - val_loss: 0.0311 - val_accuracy: 0.9919\n",
      "Epoch 7/10\n",
      "1490/1490 [==============================] - 316s 212ms/step - loss: 0.0126 - accuracy: 0.9959 - val_loss: 0.0333 - val_accuracy: 0.9915\n",
      "Epoch 8/10\n",
      "1490/1490 [==============================] - 314s 211ms/step - loss: 0.0122 - accuracy: 0.9960 - val_loss: 0.0284 - val_accuracy: 0.9938\n",
      "Epoch 9/10\n",
      "1490/1490 [==============================] - 310s 208ms/step - loss: 0.0110 - accuracy: 0.9964 - val_loss: 0.0289 - val_accuracy: 0.9940\n",
      "Epoch 10/10\n",
      "1490/1490 [==============================] - 310s 208ms/step - loss: 0.0098 - accuracy: 0.9967 - val_loss: 0.0304 - val_accuracy: 0.9934\n"
     ]
    },
    {
     "data": {
      "text/plain": [
       "<keras.callbacks.History at 0x1664cd1d460>"
      ]
     },
     "execution_count": 18,
     "metadata": {},
     "output_type": "execute_result"
    }
   ],
   "source": [
    "model.fit(X_train, y_train, validation_data=(X_test, y_test),epochs=10, batch_size =200 )"
   ]
  },
  {
   "cell_type": "markdown",
   "id": "c4eecd31",
   "metadata": {
    "ExecuteTime": {
     "end_time": "2021-10-07T14:10:19.067460Z",
     "start_time": "2021-10-07T14:10:19.053524Z"
    }
   },
   "source": [
    "## CONFUSION MATRIX - CNN"
   ]
  },
  {
   "cell_type": "code",
   "execution_count": 26,
   "id": "60419c99",
   "metadata": {
    "ExecuteTime": {
     "end_time": "2021-10-08T11:52:06.617952Z",
     "start_time": "2021-10-08T11:51:43.571193Z"
    }
   },
   "outputs": [
    {
     "data": {
      "text/plain": [
       "<AxesSubplot:>"
      ]
     },
     "execution_count": 26,
     "metadata": {},
     "output_type": "execute_result"
    },
    {
     "data": {
      "image/png": "[encoded data removed]",
      "text/plain": [
       "<Figure size 2160x720 with 2 Axes>"
      ]
     },
     "metadata": {
      "needs_background": "light"
     },
     "output_type": "display_data"
    }
   ],
   "source": [
    "fig, ax = plt.subplots(figsize=(30,10) )\n",
    "sns.heatmap(confusion_matrix(y_test.argmax(axis=1),loaded_model.predict(X_test).argmax(axis=1)), annot= True, fmt='g')"
   ]
  },
  {
   "cell_type": "markdown",
   "id": "e079fd44",
   "metadata": {},
   "source": [
    "## ROC_AUC_SCORE - CNN"
   ]
  },
  {
   "cell_type": "code",
   "execution_count": 25,
   "id": "1b75028e",
   "metadata": {
    "ExecuteTime": {
     "end_time": "2021-10-08T11:51:43.396418Z",
     "start_time": "2021-10-08T11:50:12.054098Z"
    }
   },
   "outputs": [
    {
     "name": "stdout",
     "output_type": "stream",
     "text": [
      "CNN_Roc_Train 0.999983805523588\n",
      "CNN_Roc_Test 0.9999947761837442\n"
     ]
    }
   ],
   "source": [
    "print(\"CNN_Roc_Train\",roc_auc_score(y_train.argmax(axis=1), loaded_model.predict(X_train), multi_class='ovo'))\n",
    "print(\"CNN_Roc_Test\",roc_auc_score(y_test.argmax(axis=1), loaded_model.predict(X_test), multi_class='ovo'))\n"
   ]
  },
  {
   "cell_type": "markdown",
   "id": "2217d5b5",
   "metadata": {
    "cell_style": "center"
   },
   "source": [
    "## Save Model - CNN"
   ]
  },
  {
   "cell_type": "code",
   "execution_count": 22,
   "id": "f051eecb",
   "metadata": {
    "ExecuteTime": {
     "end_time": "2021-10-06T23:52:23.485138Z",
     "start_time": "2021-10-06T23:52:23.373280Z"
    }
   },
   "outputs": [],
   "source": [
    "model_json=model.to_json()\n",
    "with open ('model.json', 'w') as json_file:\n",
    "    json_file.write(model_json)\n",
    "model.save_weights('letter.h5')"
   ]
  },
  {
   "cell_type": "markdown",
   "id": "9dab7966",
   "metadata": {
    "ExecuteTime": {
     "end_time": "2021-10-05T18:01:50.537918Z",
     "start_time": "2021-10-05T18:01:50.520962Z"
    }
   },
   "source": [
    "# Load Model -CNN"
   ]
  },
  {
   "cell_type": "code",
   "execution_count": 21,
   "id": "81e6fe53",
   "metadata": {
    "ExecuteTime": {
     "end_time": "2021-10-08T11:47:58.703322Z",
     "start_time": "2021-10-08T11:47:58.307115Z"
    }
   },
   "outputs": [],
   "source": [
    "json_file = open ('model.json', 'r')\n",
    "loaded_model_json= json_file.read()\n",
    "json_file.close()\n",
    "\n",
    "loaded_model= model_from_json(loaded_model_json)\n",
    "loaded_model.load_weights('letter.h5')"
   ]
  },
  {
   "cell_type": "code",
   "execution_count": 12,
   "id": "ebfecfc1",
   "metadata": {
    "ExecuteTime": {
     "end_time": "2021-10-07T14:17:24.024807Z",
     "start_time": "2021-10-07T14:17:24.007852Z"
    }
   },
   "outputs": [],
   "source": [
    "loaded_model.compile(optimizer='adam', loss='categorical_crossentropy', metrics='accuracy')"
   ]
  },
  {
   "cell_type": "markdown",
   "id": "fe32f03b",
   "metadata": {},
   "source": [
    "## LOSS, ACURACY - MODEL LOADED-CNN"
   ]
  },
  {
   "cell_type": "code",
   "execution_count": 19,
   "id": "b39f5b1f",
   "metadata": {
    "ExecuteTime": {
     "end_time": "2021-10-07T14:20:02.510209Z",
     "start_time": "2021-10-07T14:19:39.857197Z"
    }
   },
   "outputs": [
    {
     "name": "stdout",
     "output_type": "stream",
     "text": [
      "2328/2328 [==============================] - 22s 10ms/step - loss: 0.0106 - accuracy: 0.9972\n"
     ]
    }
   ],
   "source": [
    "Loss_teste, Acuracia_teste = loaded_model.evaluate(X_test,y_test)"
   ]
  },
  {
   "cell_type": "markdown",
   "id": "6507a77e",
   "metadata": {},
   "source": [
    "# Image Enhance"
   ]
  },
  {
   "cell_type": "code",
   "execution_count": 30,
   "id": "6e72744b",
   "metadata": {
    "ExecuteTime": {
     "end_time": "2021-10-06T23:54:25.845727Z",
     "start_time": "2021-10-06T23:54:25.825587Z"
    }
   },
   "outputs": [],
   "source": [
    "img = Image.open('imagens teste/N.png').convert('L')  # convert image to 8-bit grayscale\n",
    "img=ImageEnhance.Brightness(img).enhance(2)\n",
    "#img=ImageEnhance.Sharpness(img).enhance(0)\n",
    "img=ImageEnhance.Contrast(img).enhance(10)\n",
    "img=ImageEnhance.Sharpness(img).enhance(10)\n",
    "img=ImageOps.invert(img)\n",
    "\n",
    "img=img.resize((28,28))\n",
    "\n",
    "WIDTH, HEIGHT = img.size\n",
    "\n",
    "newdata = list(img.getdata()) # convert image data to a list of integers\n",
    "# convert that to 2D list (list of lists of integers)\n",
    "newdata = [newdata[offset:offset+WIDTH]for offset in range(0, WIDTH*HEIGHT, WIDTH)]\n",
    "newdata=np.array(newdata)"
   ]
  },
  {
   "cell_type": "code",
   "execution_count": 31,
   "id": "ce1bf365",
   "metadata": {
    "ExecuteTime": {
     "end_time": "2021-10-06T23:54:26.913274Z",
     "start_time": "2021-10-06T23:54:26.798081Z"
    },
    "cell_style": "center"
   },
   "outputs": [
    {
     "data": {
      "text/plain": [
       "<matplotlib.image.AxesImage at 0x166f5b84fa0>"
      ]
     },
     "execution_count": 31,
     "metadata": {},
     "output_type": "execute_result"
    },
    {
     "data": {
      "image/png": "[encoded data removed]",
      "text/plain": [
       "<Figure size 432x288 with 1 Axes>"
      ]
     },
     "metadata": {
      "needs_background": "light"
     },
     "output_type": "display_data"
    }
   ],
   "source": [
    "plt.imshow(newdata.reshape(28,28))"
   ]
  },
  {
   "cell_type": "markdown",
   "id": "2c5f069e",
   "metadata": {},
   "source": [
    "# Model CNN - Predict"
   ]
  },
  {
   "cell_type": "code",
   "execution_count": 32,
   "id": "b6803177",
   "metadata": {
    "ExecuteTime": {
     "end_time": "2021-10-06T23:54:29.686061Z",
     "start_time": "2021-10-06T23:54:29.600431Z"
    }
   },
   "outputs": [
    {
     "name": "stdout",
     "output_type": "stream",
     "text": [
      "Letra que foi escrita é:  N com probabilidade de acertar de:  99.96 %\n"
     ]
    }
   ],
   "source": [
    "newdata=newdata/255\n",
    "newdata=newdata.reshape(1,28,28,1)\n",
    "predict=loaded_model.predict(newdata)\n",
    "letter=predict.argmax()\n",
    "print('Letra que foi escrita é: ',word_dict[letter], 'com probabilidade de acertar de: ',\"%.2f\" % (predict[0][letter]*100),\"%\")"
   ]
  },
  {
   "cell_type": "markdown",
   "id": "bc3ce95b",
   "metadata": {
    "ExecuteTime": {
     "end_time": "2021-10-06T14:58:51.250367Z",
     "start_time": "2021-10-06T14:58:51.239363Z"
    }
   },
   "source": [
    "# Model LGBM  - Predict"
   ]
  },
  {
   "cell_type": "code",
   "execution_count": 33,
   "id": "e2e8d291",
   "metadata": {
    "ExecuteTime": {
     "end_time": "2021-10-06T23:54:38.419380Z",
     "start_time": "2021-10-06T23:54:38.410404Z"
    }
   },
   "outputs": [
    {
     "name": "stdout",
     "output_type": "stream",
     "text": [
      "Letra que foi escrita é:  J com probabilidade de acertar de:  16.85 %\n"
     ]
    }
   ],
   "source": [
    "newdata=newdata.reshape(1,784)\n",
    "predict=lgb.predict_proba(newdata)\n",
    "letter=predict.argmax()\n",
    "print('Letra que foi escrita é: ',word_dict[letter], 'com probabilidade de acertar de: ',\"%.2f\" % (predict[0][letter]*100),\"%\")"
   ]
  },
  {
   "cell_type": "code",
   "execution_count": null,
   "id": "f5c5d9f6",
   "metadata": {},
   "outputs": [],
   "source": []
  },
  {
   "cell_type": "code",
   "execution_count": 609,
   "id": "acf15331",
   "metadata": {
    "ExecuteTime": {
     "end_time": "2021-10-07T00:58:23.838900Z",
     "start_time": "2021-10-07T00:58:14.454394Z"
    }
   },
   "outputs": [],
   "source": [
    "from tkinter import *\n",
    "from PIL import Image, ImageTk, ImageDraw\n",
    "import PIL\n",
    "\n",
    "width=500\n",
    "height=500\n",
    "white = (255, 255, 255)\n",
    "\n",
    "def save_picture():\n",
    "    filename =\"image.png\"\n",
    "    image1.save(filename)\n",
    "    \n",
    "def paint(event):\n",
    "    x1,y1=(event.x-6),(event.y-6)\n",
    "    x2,y2 = (event.x+6), (event.y+6)\n",
    "    canvas.create_oval(x1,y1,x2,y2, fill='red', width=25)\n",
    "    draw.line([x1,y1,x2,y2], fill='black',width=25)\n",
    "\n",
    "    \n",
    "app = Tk()\n",
    "canvas = Canvas(app, width=width, height=height, bg='white')\n",
    "canvas.pack()\n",
    "\n",
    "\n",
    "\n",
    "image1=PIL.Image.new('RGB', (width, height), white)\n",
    "draw=ImageDraw.Draw(image1)\n",
    "\n",
    "canvas.pack(expand=YES, fill=BOTH)\n",
    "\n",
    "canvas.bind(\"<B1-Motion>\", paint)\n",
    "\n",
    "\n",
    "button = Button(\n",
    "    text=\"Save Picture!\",\n",
    "    width=25,\n",
    "    height=5,\n",
    "    bg=\"blue\",\n",
    "    fg=\"yellow\",\n",
    "    command=save_picture\n",
    ")\n",
    "\n",
    "\n",
    "button.pack()\n",
    "\n",
    "app.mainloop()\n",
    "\n"
   ]
  },
  {
   "cell_type": "code",
   "execution_count": 610,
   "id": "b58c274b",
   "metadata": {
    "ExecuteTime": {
     "end_time": "2021-10-07T00:58:24.316528Z",
     "start_time": "2021-10-07T00:58:24.284525Z"
    }
   },
   "outputs": [],
   "source": [
    "img = Image.open('image.png').convert('L')  # convert image to 8-bit grayscale\n",
    "img=ImageEnhance.Sharpness(img).enhance(30)\n",
    "img=ImageEnhance.Brightness(img).enhance(0.9)\n",
    "img=ImageEnhance.Contrast(img).enhance(20)\n",
    "#img=ImageEnhance.Sharpness(img).enhance(0)\n",
    "img=ImageOps.invert(img)\n",
    "\n",
    "img=img.resize((28,28))\n",
    "\n",
    "WIDTH, HEIGHT = img.size\n",
    "\n",
    "newdata = list(img.getdata()) # convert image data to a list of integers\n",
    "# convert that to 2D list (list of lists of integers)\n",
    "newdata = [newdata[offset:offset+WIDTH]for offset in range(0, WIDTH*HEIGHT, WIDTH)]\n",
    "newdata=np.array(newdata)"
   ]
  },
  {
   "cell_type": "code",
   "execution_count": 611,
   "id": "2c60c3e4",
   "metadata": {
    "ExecuteTime": {
     "end_time": "2021-10-07T00:58:24.844562Z",
     "start_time": "2021-10-07T00:58:24.716551Z"
    },
    "cell_style": "split"
   },
   "outputs": [
    {
     "data": {
      "text/plain": [
       "<matplotlib.image.AxesImage at 0x16714147c40>"
      ]
     },
     "execution_count": 611,
     "metadata": {},
     "output_type": "execute_result"
    },
    {
     "data": {
      "image/png": "[encoded data removed]",
      "text/plain": [
       "<Figure size 432x288 with 1 Axes>"
      ]
     },
     "metadata": {
      "needs_background": "light"
     },
     "output_type": "display_data"
    }
   ],
   "source": [
    "plt.imshow(newdata.reshape(28,28))"
   ]
  },
  {
   "cell_type": "code",
   "execution_count": 612,
   "id": "852ba7bf",
   "metadata": {
    "ExecuteTime": {
     "end_time": "2021-10-07T00:58:25.292527Z",
     "start_time": "2021-10-07T00:58:25.164528Z"
    },
    "cell_style": "split"
   },
   "outputs": [
    {
     "data": {
      "text/plain": [
       "<matplotlib.image.AxesImage at 0x167141aa970>"
      ]
     },
     "execution_count": 612,
     "metadata": {},
     "output_type": "execute_result"
    },
    {
     "data": {
      "image/png": "[encoded data removed]",
      "text/plain": [
       "<Figure size 432x288 with 1 Axes>"
      ]
     },
     "metadata": {
      "needs_background": "light"
     },
     "output_type": "display_data"
    }
   ],
   "source": [
    "plt.imshow(newdata.reshape(28,28))"
   ]
  },
  {
   "cell_type": "code",
   "execution_count": 613,
   "id": "b67e6cfe",
   "metadata": {
    "ExecuteTime": {
     "end_time": "2021-10-07T00:58:25.604562Z",
     "start_time": "2021-10-07T00:58:25.548530Z"
    }
   },
   "outputs": [
    {
     "name": "stdout",
     "output_type": "stream",
     "text": [
      "Letra que foi escrita é:  A com probabilidade de acertar de:  100.00 %\n"
     ]
    }
   ],
   "source": [
    "newdata=newdata/255\n",
    "newdata=newdata.reshape(1,28,28,1)\n",
    "predict=loaded_model.predict(newdata)\n",
    "letter=predict.argmax()\n",
    "print('Letra que foi escrita é: ',word_dict[letter], 'com probabilidade de acertar de: ',\"%.2f\" % (predict[0][letter]*100),\"%\")"
   ]
  },
  {
   "cell_type": "code",
   "execution_count": 73,
   "id": "e9a808c5",
   "metadata": {
    "ExecuteTime": {
     "end_time": "2021-10-07T18:36:43.108425Z",
     "start_time": "2021-10-07T18:36:35.155799Z"
    }
   },
   "outputs": [
    {
     "name": "stdout",
     "output_type": "stream",
     "text": [
      "Collecting Pillow==2.2.1\n",
      "  Using cached Pillow-2.2.1.zip (2.2 MB)\n",
      "Building wheels for collected packages: Pillow\n",
      "  Building wheel for Pillow (setup.py): started\n",
      "  Building wheel for Pillow (setup.py): finished with status 'error'\n",
      "  Running setup.py clean for Pillow\n",
      "Failed to build Pillow\n",
      "Installing collected packages: Pillow\n",
      "  Attempting uninstall: Pillow\n",
      "    Found existing installation: pillow 8.2.0Note: you may need to restart the kernel to use updated packages.\n"
     ]
    },
    {
     "name": "stderr",
     "output_type": "stream",
     "text": [
      "  ERROR: Command errored out with exit status 1:\n",
      "   command: 'C:\\Users\\User\\anaconda3\\python.exe' -u -c 'import sys, setuptools, tokenize; sys.argv[0] = '\"'\"'C:\\\\Users\\\\User\\\\AppData\\\\Local\\\\Temp\\\\pip-install-yyp4wnpu\\\\pillow_4c6ee6b3e83640888b6b8af916e3c8ab\\\\setup.py'\"'\"'; __file__='\"'\"'C:\\\\Users\\\\User\\\\AppData\\\\Local\\\\Temp\\\\pip-install-yyp4wnpu\\\\pillow_4c6ee6b3e83640888b6b8af916e3c8ab\\\\setup.py'\"'\"';f=getattr(tokenize, '\"'\"'open'\"'\"', open)(__file__);code=f.read().replace('\"'\"'\\r\\n'\"'\"', '\"'\"'\\n'\"'\"');f.close();exec(compile(code, __file__, '\"'\"'exec'\"'\"'))' bdist_wheel -d 'C:\\Users\\User\\AppData\\Local\\Temp\\pip-wheel-lbry47t5'\n",
      "       cwd: C:\\Users\\User\\AppData\\Local\\Temp\\pip-install-yyp4wnpu\\pillow_4c6ee6b3e83640888b6b8af916e3c8ab\\\n",
      "  Complete output (100 lines):\n",
      "  running bdist_wheel\n",
      "  running build\n",
      "  running build_py\n",
      "  creating build\n",
      "  creating build\\lib.win-amd64-3.8\n",
      "  creating build\\lib.win-amd64-3.8\\PIL\n",
      "  copying PIL\\ArgImagePlugin.py -> build\\lib.win-amd64-3.8\\PIL\n",
      "  copying PIL\\BdfFontFile.py -> build\\lib.win-amd64-3.8\\PIL\n",
      "  copying PIL\\BmpImagePlugin.py -> build\\lib.win-amd64-3.8\\PIL\n",
      "  copying PIL\\BufrStubImagePlugin.py -> build\\lib.win-amd64-3.8\\PIL\n",
      "  copying PIL\\ContainerIO.py -> build\\lib.win-amd64-3.8\\PIL\n",
      "  copying PIL\\CurImagePlugin.py -> build\\lib.win-amd64-3.8\\PIL\n",
      "  copying PIL\\DcxImagePlugin.py -> build\\lib.win-amd64-3.8\\PIL\n",
      "  copying PIL\\EpsImagePlugin.py -> build\\lib.win-amd64-3.8\\PIL\n",
      "  copying PIL\\ExifTags.py -> build\\lib.win-amd64-3.8\\PIL\n",
      "  copying PIL\\FitsStubImagePlugin.py -> build\\lib.win-amd64-3.8\\PIL\n",
      "  copying PIL\\FliImagePlugin.py -> build\\lib.win-amd64-3.8\\PIL\n",
      "  copying PIL\\FontFile.py -> build\\lib.win-amd64-3.8\\PIL\n",
      "  copying PIL\\FpxImagePlugin.py -> build\\lib.win-amd64-3.8\\PIL\n",
      "  copying PIL\\GbrImagePlugin.py -> build\\lib.win-amd64-3.8\\PIL\n",
      "  copying PIL\\GdImageFile.py -> build\\lib.win-amd64-3.8\\PIL\n",
      "  copying PIL\\GifImagePlugin.py -> build\\lib.win-amd64-3.8\\PIL\n"
     ]
    },
    {
     "name": "stdout",
     "output_type": "stream",
     "text": [
      "\n",
      "    Uninstalling pillow-8.2.0:\n",
      "      Successfully uninstalled pillow-8.2.0\n",
      "    Running setup.py install for Pillow: started\n",
      "    Running setup.py install for Pillow: finished with status 'error'\n",
      "  Rolling back uninstall of pillow\n",
      "  Moving to c:\\users\\user\\anaconda3\\lib\\site-packages\\pil\\\n",
      "   from C:\\Users\\User\\anaconda3\\Lib\\site-packages\\~il\n",
      "  Moving to c:\\users\\user\\anaconda3\\lib\\site-packages\\pillow-8.2.0.dist-info\\\n",
      "   from C:\\Users\\User\\anaconda3\\Lib\\site-packages\\~illow-8.2.0.dist-info\n"
     ]
    },
    {
     "name": "stderr",
     "output_type": "stream",
     "text": [
      "  copying PIL\\GimpGradientFile.py -> build\\lib.win-amd64-3.8\\PIL\n",
      "  copying PIL\\GimpPaletteFile.py -> build\\lib.win-amd64-3.8\\PIL\n",
      "  copying PIL\\GribStubImagePlugin.py -> build\\lib.win-amd64-3.8\\PIL\n",
      "  copying PIL\\Hdf5StubImagePlugin.py -> build\\lib.win-amd64-3.8\\PIL\n",
      "  copying PIL\\IcnsImagePlugin.py -> build\\lib.win-amd64-3.8\\PIL\n",
      "  copying PIL\\IcoImagePlugin.py -> build\\lib.win-amd64-3.8\\PIL\n",
      "  copying PIL\\Image.py -> build\\lib.win-amd64-3.8\\PIL\n",
      "  copying PIL\\ImageChops.py -> build\\lib.win-amd64-3.8\\PIL\n",
      "  copying PIL\\ImageCms.py -> build\\lib.win-amd64-3.8\\PIL\n",
      "  copying PIL\\ImageColor.py -> build\\lib.win-amd64-3.8\\PIL\n",
      "  copying PIL\\ImageDraw.py -> build\\lib.win-amd64-3.8\\PIL\n",
      "  copying PIL\\ImageDraw2.py -> build\\lib.win-amd64-3.8\\PIL\n",
      "  copying PIL\\ImageEnhance.py -> build\\lib.win-amd64-3.8\\PIL\n",
      "  copying PIL\\ImageFile.py -> build\\lib.win-amd64-3.8\\PIL\n",
      "  copying PIL\\ImageFileIO.py -> build\\lib.win-amd64-3.8\\PIL\n",
      "  copying PIL\\ImageFilter.py -> build\\lib.win-amd64-3.8\\PIL\n",
      "  copying PIL\\ImageFont.py -> build\\lib.win-amd64-3.8\\PIL\n",
      "  copying PIL\\ImageGrab.py -> build\\lib.win-amd64-3.8\\PIL\n",
      "  copying PIL\\ImageMath.py -> build\\lib.win-amd64-3.8\\PIL\n",
      "  copying PIL\\ImageMode.py -> build\\lib.win-amd64-3.8\\PIL\n",
      "  copying PIL\\ImageOps.py -> build\\lib.win-amd64-3.8\\PIL\n",
      "  copying PIL\\ImagePalette.py -> build\\lib.win-amd64-3.8\\PIL\n",
      "  copying PIL\\ImagePath.py -> build\\lib.win-amd64-3.8\\PIL\n",
      "  copying PIL\\ImageQt.py -> build\\lib.win-amd64-3.8\\PIL\n",
      "  copying PIL\\ImageSequence.py -> build\\lib.win-amd64-3.8\\PIL\n",
      "  copying PIL\\ImageShow.py -> build\\lib.win-amd64-3.8\\PIL\n",
      "  copying PIL\\ImageStat.py -> build\\lib.win-amd64-3.8\\PIL\n",
      "  copying PIL\\ImageTk.py -> build\\lib.win-amd64-3.8\\PIL\n",
      "  copying PIL\\ImageTransform.py -> build\\lib.win-amd64-3.8\\PIL\n",
      "  copying PIL\\ImageWin.py -> build\\lib.win-amd64-3.8\\PIL\n",
      "  copying PIL\\ImImagePlugin.py -> build\\lib.win-amd64-3.8\\PIL\n",
      "  copying PIL\\ImtImagePlugin.py -> build\\lib.win-amd64-3.8\\PIL\n",
      "  copying PIL\\IptcImagePlugin.py -> build\\lib.win-amd64-3.8\\PIL\n",
      "  copying PIL\\JpegImagePlugin.py -> build\\lib.win-amd64-3.8\\PIL\n",
      "  copying PIL\\JpegPresets.py -> build\\lib.win-amd64-3.8\\PIL\n",
      "  copying PIL\\McIdasImagePlugin.py -> build\\lib.win-amd64-3.8\\PIL\n",
      "  copying PIL\\MicImagePlugin.py -> build\\lib.win-amd64-3.8\\PIL\n",
      "  copying PIL\\MpegImagePlugin.py -> build\\lib.win-amd64-3.8\\PIL\n",
      "  copying PIL\\MspImagePlugin.py -> build\\lib.win-amd64-3.8\\PIL\n",
      "  copying PIL\\OleFileIO.py -> build\\lib.win-amd64-3.8\\PIL\n",
      "  copying PIL\\PaletteFile.py -> build\\lib.win-amd64-3.8\\PIL\n",
      "  copying PIL\\PalmImagePlugin.py -> build\\lib.win-amd64-3.8\\PIL\n",
      "  copying PIL\\PcdImagePlugin.py -> build\\lib.win-amd64-3.8\\PIL\n",
      "  copying PIL\\PcfFontFile.py -> build\\lib.win-amd64-3.8\\PIL\n",
      "  copying PIL\\PcxImagePlugin.py -> build\\lib.win-amd64-3.8\\PIL\n",
      "  copying PIL\\PdfImagePlugin.py -> build\\lib.win-amd64-3.8\\PIL\n",
      "  copying PIL\\PixarImagePlugin.py -> build\\lib.win-amd64-3.8\\PIL\n",
      "  copying PIL\\PngImagePlugin.py -> build\\lib.win-amd64-3.8\\PIL\n",
      "  copying PIL\\PpmImagePlugin.py -> build\\lib.win-amd64-3.8\\PIL\n",
      "  copying PIL\\PsdImagePlugin.py -> build\\lib.win-amd64-3.8\\PIL\n",
      "  copying PIL\\PSDraw.py -> build\\lib.win-amd64-3.8\\PIL\n",
      "  copying PIL\\SgiImagePlugin.py -> build\\lib.win-amd64-3.8\\PIL\n",
      "  copying PIL\\SpiderImagePlugin.py -> build\\lib.win-amd64-3.8\\PIL\n",
      "  copying PIL\\SunImagePlugin.py -> build\\lib.win-amd64-3.8\\PIL\n",
      "  copying PIL\\TarIO.py -> build\\lib.win-amd64-3.8\\PIL\n",
      "  copying PIL\\tests.py -> build\\lib.win-amd64-3.8\\PIL\n",
      "  copying PIL\\TgaImagePlugin.py -> build\\lib.win-amd64-3.8\\PIL\n",
      "  copying PIL\\TiffImagePlugin.py -> build\\lib.win-amd64-3.8\\PIL\n",
      "  copying PIL\\TiffTags.py -> build\\lib.win-amd64-3.8\\PIL\n",
      "  copying PIL\\WalImageFile.py -> build\\lib.win-amd64-3.8\\PIL\n",
      "  copying PIL\\WebPImagePlugin.py -> build\\lib.win-amd64-3.8\\PIL\n",
      "  copying PIL\\WmfImagePlugin.py -> build\\lib.win-amd64-3.8\\PIL\n",
      "  copying PIL\\XbmImagePlugin.py -> build\\lib.win-amd64-3.8\\PIL\n",
      "  copying PIL\\XpmImagePlugin.py -> build\\lib.win-amd64-3.8\\PIL\n",
      "  copying PIL\\XVThumbImagePlugin.py -> build\\lib.win-amd64-3.8\\PIL\n",
      "  copying PIL\\_binary.py -> build\\lib.win-amd64-3.8\\PIL\n",
      "  copying PIL\\_util.py -> build\\lib.win-amd64-3.8\\PIL\n",
      "  copying PIL\\__init__.py -> build\\lib.win-amd64-3.8\\PIL\n",
      "  running egg_info\n",
      "  writing Pillow.egg-info\\PKG-INFO\n",
      "  writing dependency_links to Pillow.egg-info\\dependency_links.txt\n",
      "  writing top-level names to Pillow.egg-info\\top_level.txt\n",
      "  reading manifest file 'Pillow.egg-info\\SOURCES.txt'\n",
      "  reading manifest template 'MANIFEST.in'\n",
      "  writing manifest file 'Pillow.egg-info\\SOURCES.txt'\n",
      "  running build_ext\n",
      "  building 'PIL._imaging' extension\n",
      "  error: Microsoft Visual C++ 14.0 or greater is required. Get it with \"Microsoft C++ Build Tools\": https://visualstudio.microsoft.com/visual-cpp-build-tools/\n",
      "  ----------------------------------------\n",
      "  ERROR: Failed building wheel for Pillow\n",
      "    ERROR: Command errored out with exit status 1:\n",
      "     command: 'C:\\Users\\User\\anaconda3\\python.exe' -u -c 'import sys, setuptools, tokenize; sys.argv[0] = '\"'\"'C:\\\\Users\\\\User\\\\AppData\\\\Local\\\\Temp\\\\pip-install-yyp4wnpu\\\\pillow_4c6ee6b3e83640888b6b8af916e3c8ab\\\\setup.py'\"'\"'; __file__='\"'\"'C:\\\\Users\\\\User\\\\AppData\\\\Local\\\\Temp\\\\pip-install-yyp4wnpu\\\\pillow_4c6ee6b3e83640888b6b8af916e3c8ab\\\\setup.py'\"'\"';f=getattr(tokenize, '\"'\"'open'\"'\"', open)(__file__);code=f.read().replace('\"'\"'\\r\\n'\"'\"', '\"'\"'\\n'\"'\"');f.close();exec(compile(code, __file__, '\"'\"'exec'\"'\"'))' install --record 'C:\\Users\\User\\AppData\\Local\\Temp\\pip-record-bolopuju\\install-record.txt' --single-version-externally-managed --compile --install-headers 'C:\\Users\\User\\anaconda3\\Include\\Pillow'\n",
      "         cwd: C:\\Users\\User\\AppData\\Local\\Temp\\pip-install-yyp4wnpu\\pillow_4c6ee6b3e83640888b6b8af916e3c8ab\\\n",
      "    Complete output (100 lines):\n",
      "    running install\n",
      "    running build\n",
      "    running build_py\n",
      "    creating build\n",
      "    creating build\\lib.win-amd64-3.8\n",
      "    creating build\\lib.win-amd64-3.8\\PIL\n",
      "    copying PIL\\ArgImagePlugin.py -> build\\lib.win-amd64-3.8\\PIL\n",
      "    copying PIL\\BdfFontFile.py -> build\\lib.win-amd64-3.8\\PIL\n",
      "    copying PIL\\BmpImagePlugin.py -> build\\lib.win-amd64-3.8\\PIL\n",
      "    copying PIL\\BufrStubImagePlugin.py -> build\\lib.win-amd64-3.8\\PIL\n",
      "    copying PIL\\ContainerIO.py -> build\\lib.win-amd64-3.8\\PIL\n",
      "    copying PIL\\CurImagePlugin.py -> build\\lib.win-amd64-3.8\\PIL\n",
      "    copying PIL\\DcxImagePlugin.py -> build\\lib.win-amd64-3.8\\PIL\n",
      "    copying PIL\\EpsImagePlugin.py -> build\\lib.win-amd64-3.8\\PIL\n",
      "    copying PIL\\ExifTags.py -> build\\lib.win-amd64-3.8\\PIL\n",
      "    copying PIL\\FitsStubImagePlugin.py -> build\\lib.win-amd64-3.8\\PIL\n",
      "    copying PIL\\FliImagePlugin.py -> build\\lib.win-amd64-3.8\\PIL\n",
      "    copying PIL\\FontFile.py -> build\\lib.win-amd64-3.8\\PIL\n",
      "    copying PIL\\FpxImagePlugin.py -> build\\lib.win-amd64-3.8\\PIL\n",
      "    copying PIL\\GbrImagePlugin.py -> build\\lib.win-amd64-3.8\\PIL\n",
      "    copying PIL\\GdImageFile.py -> build\\lib.win-amd64-3.8\\PIL\n",
      "    copying PIL\\GifImagePlugin.py -> build\\lib.win-amd64-3.8\\PIL\n",
      "    copying PIL\\GimpGradientFile.py -> build\\lib.win-amd64-3.8\\PIL\n",
      "    copying PIL\\GimpPaletteFile.py -> build\\lib.win-amd64-3.8\\PIL\n",
      "    copying PIL\\GribStubImagePlugin.py -> build\\lib.win-amd64-3.8\\PIL\n",
      "    copying PIL\\Hdf5StubImagePlugin.py -> build\\lib.win-amd64-3.8\\PIL\n",
      "    copying PIL\\IcnsImagePlugin.py -> build\\lib.win-amd64-3.8\\PIL\n",
      "    copying PIL\\IcoImagePlugin.py -> build\\lib.win-amd64-3.8\\PIL\n",
      "    copying PIL\\Image.py -> build\\lib.win-amd64-3.8\\PIL\n",
      "    copying PIL\\ImageChops.py -> build\\lib.win-amd64-3.8\\PIL\n",
      "    copying PIL\\ImageCms.py -> build\\lib.win-amd64-3.8\\PIL\n",
      "    copying PIL\\ImageColor.py -> build\\lib.win-amd64-3.8\\PIL\n",
      "    copying PIL\\ImageDraw.py -> build\\lib.win-amd64-3.8\\PIL\n",
      "    copying PIL\\ImageDraw2.py -> build\\lib.win-amd64-3.8\\PIL\n",
      "    copying PIL\\ImageEnhance.py -> build\\lib.win-amd64-3.8\\PIL\n",
      "    copying PIL\\ImageFile.py -> build\\lib.win-amd64-3.8\\PIL\n",
      "    copying PIL\\ImageFileIO.py -> build\\lib.win-amd64-3.8\\PIL\n",
      "    copying PIL\\ImageFilter.py -> build\\lib.win-amd64-3.8\\PIL\n",
      "    copying PIL\\ImageFont.py -> build\\lib.win-amd64-3.8\\PIL\n",
      "    copying PIL\\ImageGrab.py -> build\\lib.win-amd64-3.8\\PIL\n",
      "    copying PIL\\ImageMath.py -> build\\lib.win-amd64-3.8\\PIL\n",
      "    copying PIL\\ImageMode.py -> build\\lib.win-amd64-3.8\\PIL\n",
      "    copying PIL\\ImageOps.py -> build\\lib.win-amd64-3.8\\PIL\n",
      "    copying PIL\\ImagePalette.py -> build\\lib.win-amd64-3.8\\PIL\n",
      "    copying PIL\\ImagePath.py -> build\\lib.win-amd64-3.8\\PIL\n",
      "    copying PIL\\ImageQt.py -> build\\lib.win-amd64-3.8\\PIL\n",
      "    copying PIL\\ImageSequence.py -> build\\lib.win-amd64-3.8\\PIL\n",
      "    copying PIL\\ImageShow.py -> build\\lib.win-amd64-3.8\\PIL\n",
      "    copying PIL\\ImageStat.py -> build\\lib.win-amd64-3.8\\PIL\n",
      "    copying PIL\\ImageTk.py -> build\\lib.win-amd64-3.8\\PIL\n",
      "    copying PIL\\ImageTransform.py -> build\\lib.win-amd64-3.8\\PIL\n",
      "    copying PIL\\ImageWin.py -> build\\lib.win-amd64-3.8\\PIL\n",
      "    copying PIL\\ImImagePlugin.py -> build\\lib.win-amd64-3.8\\PIL\n",
      "    copying PIL\\ImtImagePlugin.py -> build\\lib.win-amd64-3.8\\PIL\n",
      "    copying PIL\\IptcImagePlugin.py -> build\\lib.win-amd64-3.8\\PIL\n",
      "    copying PIL\\JpegImagePlugin.py -> build\\lib.win-amd64-3.8\\PIL\n",
      "    copying PIL\\JpegPresets.py -> build\\lib.win-amd64-3.8\\PIL\n",
      "    copying PIL\\McIdasImagePlugin.py -> build\\lib.win-amd64-3.8\\PIL\n",
      "    copying PIL\\MicImagePlugin.py -> build\\lib.win-amd64-3.8\\PIL\n",
      "    copying PIL\\MpegImagePlugin.py -> build\\lib.win-amd64-3.8\\PIL\n",
      "    copying PIL\\MspImagePlugin.py -> build\\lib.win-amd64-3.8\\PIL\n",
      "    copying PIL\\OleFileIO.py -> build\\lib.win-amd64-3.8\\PIL\n",
      "    copying PIL\\PaletteFile.py -> build\\lib.win-amd64-3.8\\PIL\n",
      "    copying PIL\\PalmImagePlugin.py -> build\\lib.win-amd64-3.8\\PIL\n",
      "    copying PIL\\PcdImagePlugin.py -> build\\lib.win-amd64-3.8\\PIL\n",
      "    copying PIL\\PcfFontFile.py -> build\\lib.win-amd64-3.8\\PIL\n",
      "    copying PIL\\PcxImagePlugin.py -> build\\lib.win-amd64-3.8\\PIL\n",
      "    copying PIL\\PdfImagePlugin.py -> build\\lib.win-amd64-3.8\\PIL\n",
      "    copying PIL\\PixarImagePlugin.py -> build\\lib.win-amd64-3.8\\PIL\n",
      "    copying PIL\\PngImagePlugin.py -> build\\lib.win-amd64-3.8\\PIL\n",
      "    copying PIL\\PpmImagePlugin.py -> build\\lib.win-amd64-3.8\\PIL\n",
      "    copying PIL\\PsdImagePlugin.py -> build\\lib.win-amd64-3.8\\PIL\n",
      "    copying PIL\\PSDraw.py -> build\\lib.win-amd64-3.8\\PIL\n",
      "    copying PIL\\SgiImagePlugin.py -> build\\lib.win-amd64-3.8\\PIL\n",
      "    copying PIL\\SpiderImagePlugin.py -> build\\lib.win-amd64-3.8\\PIL\n",
      "    copying PIL\\SunImagePlugin.py -> build\\lib.win-amd64-3.8\\PIL\n",
      "    copying PIL\\TarIO.py -> build\\lib.win-amd64-3.8\\PIL\n",
      "    copying PIL\\tests.py -> build\\lib.win-amd64-3.8\\PIL\n",
      "    copying PIL\\TgaImagePlugin.py -> build\\lib.win-amd64-3.8\\PIL\n",
      "    copying PIL\\TiffImagePlugin.py -> build\\lib.win-amd64-3.8\\PIL\n",
      "    copying PIL\\TiffTags.py -> build\\lib.win-amd64-3.8\\PIL\n",
      "    copying PIL\\WalImageFile.py -> build\\lib.win-amd64-3.8\\PIL\n",
      "    copying PIL\\WebPImagePlugin.py -> build\\lib.win-amd64-3.8\\PIL\n",
      "    copying PIL\\WmfImagePlugin.py -> build\\lib.win-amd64-3.8\\PIL\n",
      "    copying PIL\\XbmImagePlugin.py -> build\\lib.win-amd64-3.8\\PIL\n",
      "    copying PIL\\XpmImagePlugin.py -> build\\lib.win-amd64-3.8\\PIL\n",
      "    copying PIL\\XVThumbImagePlugin.py -> build\\lib.win-amd64-3.8\\PIL\n",
      "    copying PIL\\_binary.py -> build\\lib.win-amd64-3.8\\PIL\n",
      "    copying PIL\\_util.py -> build\\lib.win-amd64-3.8\\PIL\n",
      "    copying PIL\\__init__.py -> build\\lib.win-amd64-3.8\\PIL\n",
      "    running egg_info\n",
      "    writing Pillow.egg-info\\PKG-INFO\n",
      "    writing dependency_links to Pillow.egg-info\\dependency_links.txt\n",
      "    writing top-level names to Pillow.egg-info\\top_level.txt\n",
      "    reading manifest file 'Pillow.egg-info\\SOURCES.txt'\n",
      "    reading manifest template 'MANIFEST.in'\n",
      "    writing manifest file 'Pillow.egg-info\\SOURCES.txt'\n",
      "    running build_ext\n",
      "    building 'PIL._imaging' extension\n",
      "    error: Microsoft Visual C++ 14.0 or greater is required. Get it with \"Microsoft C++ Build Tools\": https://visualstudio.microsoft.com/visual-cpp-build-tools/\n",
      "    ----------------------------------------\n",
      "ERROR: Command errored out with exit status 1: 'C:\\Users\\User\\anaconda3\\python.exe' -u -c 'import sys, setuptools, tokenize; sys.argv[0] = '\"'\"'C:\\\\Users\\\\User\\\\AppData\\\\Local\\\\Temp\\\\pip-install-yyp4wnpu\\\\pillow_4c6ee6b3e83640888b6b8af916e3c8ab\\\\setup.py'\"'\"'; __file__='\"'\"'C:\\\\Users\\\\User\\\\AppData\\\\Local\\\\Temp\\\\pip-install-yyp4wnpu\\\\pillow_4c6ee6b3e83640888b6b8af916e3c8ab\\\\setup.py'\"'\"';f=getattr(tokenize, '\"'\"'open'\"'\"', open)(__file__);code=f.read().replace('\"'\"'\\r\\n'\"'\"', '\"'\"'\\n'\"'\"');f.close();exec(compile(code, __file__, '\"'\"'exec'\"'\"'))' install --record 'C:\\Users\\User\\AppData\\Local\\Temp\\pip-record-bolopuju\\install-record.txt' --single-version-externally-managed --compile --install-headers 'C:\\Users\\User\\anaconda3\\Include\\Pillow' Check the logs for full command output.\n"
     ]
    }
   ],
   "source": [
    " pip install Pillow==2.2.1"
   ]
  },
  {
   "cell_type": "code",
   "execution_count": 82,
   "id": "04a6a107",
   "metadata": {
    "ExecuteTime": {
     "end_time": "2021-10-07T19:00:39.723574Z",
     "start_time": "2021-10-07T19:00:39.712636Z"
    }
   },
   "outputs": [
    {
     "name": "stdout",
     "output_type": "stream",
     "text": [
      "3.8.8\n"
     ]
    }
   ],
   "source": [
    "from platform import python_version\n",
    "\n",
    "print(python_version())\n"
   ]
  },
  {
   "cell_type": "code",
   "execution_count": 80,
   "id": "8f5bbb88",
   "metadata": {
    "ExecuteTime": {
     "end_time": "2021-10-07T18:57:46.797980Z",
     "start_time": "2021-10-07T18:57:46.791000Z"
    }
   },
   "outputs": [],
   "source": [
    "import PIL"
   ]
  },
  {
   "cell_type": "code",
   "execution_count": 81,
   "id": "366bd70f",
   "metadata": {
    "ExecuteTime": {
     "end_time": "2021-10-07T18:57:49.495365Z",
     "start_time": "2021-10-07T18:57:49.300634Z"
    }
   },
   "outputs": [
    {
     "data": {
      "text/plain": [
       "<matplotlib.image.AxesImage at 0x13cf7268340>"
      ]
     },
     "execution_count": 81,
     "metadata": {},
     "output_type": "execute_result"
    },
    {
     "data": {
      "image/png": "[encoded data removed]",
      "text/plain": [
       "<Figure size 432x288 with 1 Axes>"
      ]
     },
     "metadata": {
      "needs_background": "light"
     },
     "output_type": "display_data"
    }
   ],
   "source": [
    "import PIL\n",
    "import matplotlib.image as mpimg\n",
    "import matplotlib.pyplot as plt\n",
    "from PIL import Image, ImageTk, ImageDraw\n",
    "\n",
    "img = mpimg.imread('image.png')\n",
    "plt.imshow(img)"
   ]
  },
  {
   "cell_type": "code",
   "execution_count": 1,
   "id": "3df6943e",
   "metadata": {
    "ExecuteTime": {
     "end_time": "2021-10-07T19:58:14.006458Z",
     "start_time": "2021-10-07T19:58:13.803967Z"
    }
   },
   "outputs": [
    {
     "ename": "ModuleNotFoundError",
     "evalue": "No module named 'PIL'",
     "output_type": "error",
     "traceback": [
      "\u001b[1;31m---------------------------------------------------------------------------\u001b[0m",
      "\u001b[1;31mModuleNotFoundError\u001b[0m                       Traceback (most recent call last)",
      "\u001b[1;32m<ipython-input-1-70d569469e06>\u001b[0m in \u001b[0;36m<module>\u001b[1;34m\u001b[0m\n\u001b[1;32m----> 1\u001b[1;33m \u001b[1;32mimport\u001b[0m \u001b[0mPIL\u001b[0m\u001b[1;33m\u001b[0m\u001b[1;33m\u001b[0m\u001b[0m\n\u001b[0m",
      "\u001b[1;31mModuleNotFoundError\u001b[0m: No module named 'PIL'"
     ]
    }
   ],
   "source": [
    "import PIL"
   ]
  },
  {
   "cell_type": "code",
   "execution_count": 76,
   "id": "e6ac84e2",
   "metadata": {
    "ExecuteTime": {
     "end_time": "2021-10-07T18:45:05.083537Z",
     "start_time": "2021-10-07T18:45:05.040616Z"
    }
   },
   "outputs": [
    {
     "ename": "AttributeError",
     "evalue": "Cannot find sample image: image.png",
     "output_type": "error",
     "traceback": [
      "\u001b[1;31m---------------------------------------------------------------------------\u001b[0m",
      "\u001b[1;31mAttributeError\u001b[0m                            Traceback (most recent call last)",
      "\u001b[1;32m<ipython-input-76-5a1839c325d7>\u001b[0m in \u001b[0;36m<module>\u001b[1;34m\u001b[0m\n\u001b[0;32m      3\u001b[0m \u001b[1;32mimport\u001b[0m \u001b[0mmatplotlib\u001b[0m\u001b[1;33m.\u001b[0m\u001b[0mpyplot\u001b[0m \u001b[1;32mas\u001b[0m \u001b[0mplt\u001b[0m\u001b[1;33m\u001b[0m\u001b[1;33m\u001b[0m\u001b[0m\n\u001b[0;32m      4\u001b[0m \u001b[1;33m\u001b[0m\u001b[0m\n\u001b[1;32m----> 5\u001b[1;33m \u001b[0mimg\u001b[0m \u001b[1;33m=\u001b[0m \u001b[0mload_sample_image\u001b[0m\u001b[1;33m(\u001b[0m\u001b[1;34m'image.png'\u001b[0m\u001b[1;33m)\u001b[0m\u001b[1;33m\u001b[0m\u001b[1;33m\u001b[0m\u001b[0m\n\u001b[0m\u001b[0;32m      6\u001b[0m \u001b[0max\u001b[0m \u001b[1;33m=\u001b[0m \u001b[0mplt\u001b[0m\u001b[1;33m.\u001b[0m\u001b[0maxes\u001b[0m\u001b[1;33m(\u001b[0m\u001b[0mxticks\u001b[0m\u001b[1;33m=\u001b[0m\u001b[1;33m[\u001b[0m\u001b[1;33m]\u001b[0m\u001b[1;33m,\u001b[0m \u001b[0myticks\u001b[0m\u001b[1;33m=\u001b[0m\u001b[1;33m[\u001b[0m\u001b[1;33m]\u001b[0m\u001b[1;33m)\u001b[0m\u001b[1;33m\u001b[0m\u001b[1;33m\u001b[0m\u001b[0m\n\u001b[0;32m      7\u001b[0m \u001b[0max\u001b[0m\u001b[1;33m.\u001b[0m\u001b[0mimshow\u001b[0m\u001b[1;33m(\u001b[0m\u001b[0mimg\u001b[0m\u001b[1;33m)\u001b[0m\u001b[1;33m;\u001b[0m\u001b[1;33m\u001b[0m\u001b[1;33m\u001b[0m\u001b[0m\n",
      "\u001b[1;32m~\\anaconda3\\lib\\site-packages\\sklearn\\datasets\\_base.py\u001b[0m in \u001b[0;36mload_sample_image\u001b[1;34m(image_name)\u001b[0m\n\u001b[0;32m   1121\u001b[0m             \u001b[1;32mbreak\u001b[0m\u001b[1;33m\u001b[0m\u001b[1;33m\u001b[0m\u001b[0m\n\u001b[0;32m   1122\u001b[0m     \u001b[1;32mif\u001b[0m \u001b[0mindex\u001b[0m \u001b[1;32mis\u001b[0m \u001b[1;32mNone\u001b[0m\u001b[1;33m:\u001b[0m\u001b[1;33m\u001b[0m\u001b[1;33m\u001b[0m\u001b[0m\n\u001b[1;32m-> 1123\u001b[1;33m         \u001b[1;32mraise\u001b[0m \u001b[0mAttributeError\u001b[0m\u001b[1;33m(\u001b[0m\u001b[1;34m\"Cannot find sample image: %s\"\u001b[0m \u001b[1;33m%\u001b[0m \u001b[0mimage_name\u001b[0m\u001b[1;33m)\u001b[0m\u001b[1;33m\u001b[0m\u001b[1;33m\u001b[0m\u001b[0m\n\u001b[0m\u001b[0;32m   1124\u001b[0m     \u001b[1;32mreturn\u001b[0m \u001b[0mimages\u001b[0m\u001b[1;33m.\u001b[0m\u001b[0mimages\u001b[0m\u001b[1;33m[\u001b[0m\u001b[0mindex\u001b[0m\u001b[1;33m]\u001b[0m\u001b[1;33m\u001b[0m\u001b[1;33m\u001b[0m\u001b[0m\n\u001b[0;32m   1125\u001b[0m \u001b[1;33m\u001b[0m\u001b[0m\n",
      "\u001b[1;31mAttributeError\u001b[0m: Cannot find sample image: image.png"
     ]
    }
   ],
   "source": [
    "import PIL\n",
    "from sklearn.datasets import load_sample_image\n",
    "import matplotlib.pyplot as plt\n",
    "\n",
    "img = load_sample_image('image.png')\n",
    "ax = plt.axes(xticks=[], yticks=[])\n",
    "ax.imshow(img);"
   ]
  },
  {
   "cell_type": "code",
   "execution_count": null,
   "id": "2d204425",
   "metadata": {},
   "outputs": [],
   "source": []
  }
 ],
 "metadata": {
  "kernelspec": {
   "display_name": "Python 3",
   "language": "python",
   "name": "python3"
  },
  "language_info": {
   "codemirror_mode": {
    "name": "ipython",
    "version": 3
   },
   "file_extension": ".py",
   "mimetype": "text/x-python",
   "name": "python",
   "nbconvert_exporter": "python",
   "pygments_lexer": "ipython3",
   "version": "3.8.8"
  },
  "toc": {
   "base_numbering": 1,
   "nav_menu": {},
   "number_sections": true,
   "sideBar": true,
   "skip_h1_title": false,
   "title_cell": "Table of Contents",
   "title_sidebar": "Contents",
   "toc_cell": false,
   "toc_position": {},
   "toc_section_display": true,
   "toc_window_display": false
  },
  "varInspector": {
   "cols": {
    "lenName": 16,
    "lenType": 16,
    "lenVar": 40
   },
   "kernels_config": {
    "python": {
     "delete_cmd_postfix": "",
     "delete_cmd_prefix": "del ",
     "library": "var_list.py",
     "varRefreshCmd": "print(var_dic_list())"
    },
    "r": {
     "delete_cmd_postfix": ") ",
     "delete_cmd_prefix": "rm(",
     "library": "var_list.r",
     "varRefreshCmd": "cat(var_dic_list()) "
    }
   },
   "types_to_exclude": [
    "module",
    "function",
    "builtin_function_or_method",
    "instance",
    "_Feature"
   ],
   "window_display": false
  }
 },
 "nbformat": 4,
 "nbformat_minor": 5
}
