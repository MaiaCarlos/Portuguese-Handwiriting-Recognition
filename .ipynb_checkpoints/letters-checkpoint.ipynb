{
 "cells": [
  {
   "cell_type": "markdown",
   "id": "8f53c2a6",
   "metadata": {},
   "source": [
    "# **IMPORTING THE LIBRARIES**"
   ]
  },
  {
   "cell_type": "code",
   "execution_count": 1,
   "id": "0d4f3dc7",
   "metadata": {
    "ExecuteTime": {
     "end_time": "2021-10-06T12:22:22.554672Z",
     "start_time": "2021-10-06T12:22:15.749620Z"
    }
   },
   "outputs": [],
   "source": [
    "from tensorflow import keras "
   ]
  },
  {
   "cell_type": "code",
   "execution_count": 2,
   "id": "84a9959b",
   "metadata": {
    "ExecuteTime": {
     "end_time": "2021-10-06T12:22:26.779998Z",
     "start_time": "2021-10-06T12:22:23.239704Z"
    }
   },
   "outputs": [],
   "source": [
    "import pandas as pd\n",
    "import numpy as pn\n",
    "import matplotlib.pyplot as plt\n",
    "from lightgbm import LGBMClassifier\n",
    "from sklearn.model_selection import train_test_split\n",
    "from sklearn.metrics import roc_auc_score\n",
    "from lightgbm import plot_importance\n",
    "from sklearn.model_selection import learning_curve\n",
    "from sklearn.metrics import plot_confusion_matrix, confusion_matrix\n",
    "import seaborn as sns\n",
    "from keras.utils import np_utils\n",
    "from keras.models import model_from_json\n",
    "\n",
    "\n",
    "import cv2\n",
    "from keras.models import Sequential\n",
    "from keras.layers import Dense, Flatten, Conv2D, MaxPool2D, Dropout\n",
    "#from keras.optimizers import  Adam\n",
    "from keras.callbacks import ReduceLROnPlateau, EarlyStopping\n",
    "#from keras.utils import to_categorical\n",
    "from tensorflow.keras.optimizers import Adam\n",
    "from sklearn.utils import shuffle\n",
    "\n",
    "\n",
    "import numpy as np \n",
    "import pandas as pd \n",
    "import matplotlib.pyplot as plt\n",
    "import seaborn as sns\n",
    "import os\n",
    "from sklearn.preprocessing import MinMaxScaler\n",
    "import tensorflow as tf\n",
    "from keras.models import Sequential\n",
    "from keras.layers import Dense\n",
    "from keras.layers import Dropout\n",
    "from keras.layers import Flatten\n",
    "from keras.layers.convolutional import Conv2D\n",
    "from keras.layers.convolutional import MaxPooling2D\n",
    "from keras import backend as K\n",
    "from keras.utils import np_utils\n",
    "from sklearn.model_selection import train_test_split\n",
    "from sklearn.metrics import confusion_matrix\n",
    "\n",
    "#ignore warning messages \n",
    "import warnings\n",
    "warnings.filterwarnings('ignore') "
   ]
  },
  {
   "cell_type": "markdown",
   "id": "b82fac95",
   "metadata": {},
   "source": [
    "# **LOADING THE DATASET**"
   ]
  },
  {
   "cell_type": "code",
   "execution_count": 3,
   "id": "4a70fb11",
   "metadata": {
    "ExecuteTime": {
     "end_time": "2021-10-06T12:22:29.764755Z",
     "start_time": "2021-10-06T12:22:29.756777Z"
    }
   },
   "outputs": [],
   "source": [
    "listapixel=[f'pixel_{x}'for x in range(784)]\n",
    "listapixel= ['target']+listapixel"
   ]
  },
  {
   "cell_type": "code",
   "execution_count": 4,
   "id": "7c290163",
   "metadata": {
    "ExecuteTime": {
     "end_time": "2021-10-06T12:22:56.756311Z",
     "start_time": "2021-10-06T12:22:32.285947Z"
    }
   },
   "outputs": [],
   "source": [
    "data= pd.read_csv('A_Z Handwritten Data.csv', names= listapixel)"
   ]
  },
  {
   "cell_type": "markdown",
   "id": "52d7e8a7",
   "metadata": {},
   "source": [
    "# EXPLORATORY DATA ANALYSIS"
   ]
  },
  {
   "cell_type": "code",
   "execution_count": 5,
   "id": "3f8182d9",
   "metadata": {
    "ExecuteTime": {
     "end_time": "2021-10-06T12:23:28.172030Z",
     "start_time": "2021-10-06T12:23:28.141083Z"
    }
   },
   "outputs": [
    {
     "data": {
      "text/html": [
       "<div>\n",
       "<style scoped>\n",
       "    .dataframe tbody tr th:only-of-type {\n",
       "        vertical-align: middle;\n",
       "    }\n",
       "\n",
       "    .dataframe tbody tr th {\n",
       "        vertical-align: top;\n",
       "    }\n",
       "\n",
       "    .dataframe thead th {\n",
       "        text-align: right;\n",
       "    }\n",
       "</style>\n",
       "<table border=\"1\" class=\"dataframe\">\n",
       "  <thead>\n",
       "    <tr style=\"text-align: right;\">\n",
       "      <th></th>\n",
       "      <th>target</th>\n",
       "      <th>pixel_0</th>\n",
       "      <th>pixel_1</th>\n",
       "      <th>pixel_2</th>\n",
       "      <th>pixel_3</th>\n",
       "      <th>pixel_4</th>\n",
       "      <th>pixel_5</th>\n",
       "      <th>pixel_6</th>\n",
       "      <th>pixel_7</th>\n",
       "      <th>pixel_8</th>\n",
       "      <th>...</th>\n",
       "      <th>pixel_774</th>\n",
       "      <th>pixel_775</th>\n",
       "      <th>pixel_776</th>\n",
       "      <th>pixel_777</th>\n",
       "      <th>pixel_778</th>\n",
       "      <th>pixel_779</th>\n",
       "      <th>pixel_780</th>\n",
       "      <th>pixel_781</th>\n",
       "      <th>pixel_782</th>\n",
       "      <th>pixel_783</th>\n",
       "    </tr>\n",
       "  </thead>\n",
       "  <tbody>\n",
       "    <tr>\n",
       "      <th>0</th>\n",
       "      <td>0</td>\n",
       "      <td>0</td>\n",
       "      <td>0</td>\n",
       "      <td>0</td>\n",
       "      <td>0</td>\n",
       "      <td>0</td>\n",
       "      <td>0</td>\n",
       "      <td>0</td>\n",
       "      <td>0</td>\n",
       "      <td>0</td>\n",
       "      <td>...</td>\n",
       "      <td>0</td>\n",
       "      <td>0</td>\n",
       "      <td>0</td>\n",
       "      <td>0</td>\n",
       "      <td>0</td>\n",
       "      <td>0</td>\n",
       "      <td>0</td>\n",
       "      <td>0</td>\n",
       "      <td>0</td>\n",
       "      <td>0</td>\n",
       "    </tr>\n",
       "    <tr>\n",
       "      <th>1</th>\n",
       "      <td>0</td>\n",
       "      <td>0</td>\n",
       "      <td>0</td>\n",
       "      <td>0</td>\n",
       "      <td>0</td>\n",
       "      <td>0</td>\n",
       "      <td>0</td>\n",
       "      <td>0</td>\n",
       "      <td>0</td>\n",
       "      <td>0</td>\n",
       "      <td>...</td>\n",
       "      <td>0</td>\n",
       "      <td>0</td>\n",
       "      <td>0</td>\n",
       "      <td>0</td>\n",
       "      <td>0</td>\n",
       "      <td>0</td>\n",
       "      <td>0</td>\n",
       "      <td>0</td>\n",
       "      <td>0</td>\n",
       "      <td>0</td>\n",
       "    </tr>\n",
       "    <tr>\n",
       "      <th>2</th>\n",
       "      <td>0</td>\n",
       "      <td>0</td>\n",
       "      <td>0</td>\n",
       "      <td>0</td>\n",
       "      <td>0</td>\n",
       "      <td>0</td>\n",
       "      <td>0</td>\n",
       "      <td>0</td>\n",
       "      <td>0</td>\n",
       "      <td>0</td>\n",
       "      <td>...</td>\n",
       "      <td>0</td>\n",
       "      <td>0</td>\n",
       "      <td>0</td>\n",
       "      <td>0</td>\n",
       "      <td>0</td>\n",
       "      <td>0</td>\n",
       "      <td>0</td>\n",
       "      <td>0</td>\n",
       "      <td>0</td>\n",
       "      <td>0</td>\n",
       "    </tr>\n",
       "    <tr>\n",
       "      <th>3</th>\n",
       "      <td>0</td>\n",
       "      <td>0</td>\n",
       "      <td>0</td>\n",
       "      <td>0</td>\n",
       "      <td>0</td>\n",
       "      <td>0</td>\n",
       "      <td>0</td>\n",
       "      <td>0</td>\n",
       "      <td>0</td>\n",
       "      <td>0</td>\n",
       "      <td>...</td>\n",
       "      <td>0</td>\n",
       "      <td>0</td>\n",
       "      <td>0</td>\n",
       "      <td>0</td>\n",
       "      <td>0</td>\n",
       "      <td>0</td>\n",
       "      <td>0</td>\n",
       "      <td>0</td>\n",
       "      <td>0</td>\n",
       "      <td>0</td>\n",
       "    </tr>\n",
       "    <tr>\n",
       "      <th>4</th>\n",
       "      <td>0</td>\n",
       "      <td>0</td>\n",
       "      <td>0</td>\n",
       "      <td>0</td>\n",
       "      <td>0</td>\n",
       "      <td>0</td>\n",
       "      <td>0</td>\n",
       "      <td>0</td>\n",
       "      <td>0</td>\n",
       "      <td>0</td>\n",
       "      <td>...</td>\n",
       "      <td>0</td>\n",
       "      <td>0</td>\n",
       "      <td>0</td>\n",
       "      <td>0</td>\n",
       "      <td>0</td>\n",
       "      <td>0</td>\n",
       "      <td>0</td>\n",
       "      <td>0</td>\n",
       "      <td>0</td>\n",
       "      <td>0</td>\n",
       "    </tr>\n",
       "  </tbody>\n",
       "</table>\n",
       "<p>5 rows × 785 columns</p>\n",
       "</div>"
      ],
      "text/plain": [
       "   target  pixel_0  pixel_1  pixel_2  pixel_3  pixel_4  pixel_5  pixel_6  \\\n",
       "0       0        0        0        0        0        0        0        0   \n",
       "1       0        0        0        0        0        0        0        0   \n",
       "2       0        0        0        0        0        0        0        0   \n",
       "3       0        0        0        0        0        0        0        0   \n",
       "4       0        0        0        0        0        0        0        0   \n",
       "\n",
       "   pixel_7  pixel_8  ...  pixel_774  pixel_775  pixel_776  pixel_777  \\\n",
       "0        0        0  ...          0          0          0          0   \n",
       "1        0        0  ...          0          0          0          0   \n",
       "2        0        0  ...          0          0          0          0   \n",
       "3        0        0  ...          0          0          0          0   \n",
       "4        0        0  ...          0          0          0          0   \n",
       "\n",
       "   pixel_778  pixel_779  pixel_780  pixel_781  pixel_782  pixel_783  \n",
       "0          0          0          0          0          0          0  \n",
       "1          0          0          0          0          0          0  \n",
       "2          0          0          0          0          0          0  \n",
       "3          0          0          0          0          0          0  \n",
       "4          0          0          0          0          0          0  \n",
       "\n",
       "[5 rows x 785 columns]"
      ]
     },
     "execution_count": 5,
     "metadata": {},
     "output_type": "execute_result"
    }
   ],
   "source": [
    "data.head()"
   ]
  },
  {
   "cell_type": "code",
   "execution_count": 6,
   "id": "20ac5f76",
   "metadata": {
    "ExecuteTime": {
     "end_time": "2021-10-06T12:23:29.929982Z",
     "start_time": "2021-10-06T12:23:29.726691Z"
    }
   },
   "outputs": [
    {
     "data": {
      "text/plain": [
       "<matplotlib.image.AxesImage at 0x1f1eeb9f460>"
      ]
     },
     "execution_count": 6,
     "metadata": {},
     "output_type": "execute_result"
    },
    {
     "data": {
      "image/png": "[encoded data removed]",
      "text/plain": [
       "<Figure size 432x288 with 1 Axes>"
      ]
     },
     "metadata": {
      "needs_background": "light"
     },
     "output_type": "display_data"
    }
   ],
   "source": [
    "plt.imshow(data.iloc[2,1:].to_numpy().reshape(28,28))"
   ]
  },
  {
   "cell_type": "markdown",
   "id": "205ae086",
   "metadata": {},
   "source": [
    "# DATA PREPARATION\n"
   ]
  },
  {
   "cell_type": "code",
   "execution_count": 7,
   "id": "f9a0053f",
   "metadata": {
    "ExecuteTime": {
     "end_time": "2021-10-06T12:23:34.474061Z",
     "start_time": "2021-10-06T12:23:33.824080Z"
    }
   },
   "outputs": [],
   "source": [
    "X=data.drop('target', axis=1)\n",
    "y=data['target']"
   ]
  },
  {
   "cell_type": "code",
   "execution_count": 8,
   "id": "f2438a4f",
   "metadata": {
    "ExecuteTime": {
     "end_time": "2021-10-06T12:23:39.254710Z",
     "start_time": "2021-10-06T12:23:35.540825Z"
    }
   },
   "outputs": [],
   "source": [
    "X_train, X_test, Y_train, Y_test = train_test_split(X, y, test_size = 0.2)\n",
    "\n",
    "#X_train = X_train.to_numpy().reshape(X_train.shape[0], 28, 28, 1).astype('float32')\n",
    "#X_test = X_test.to_numpy().reshape(X_test.shape[0], 28, 28, 1).astype('float32')"
   ]
  },
  {
   "cell_type": "code",
   "execution_count": 9,
   "id": "c6b0b301",
   "metadata": {
    "ExecuteTime": {
     "end_time": "2021-10-06T12:23:40.995956Z",
     "start_time": "2021-10-06T12:23:40.985017Z"
    }
   },
   "outputs": [
    {
     "data": {
      "text/plain": [
       "14    57825\n",
       "18    48419\n",
       "20    29008\n",
       "2     23409\n",
       "19    22495\n",
       "15    19341\n",
       "13    19010\n",
       "0     13870\n",
       "12    12336\n",
       "11    11586\n",
       "17    11566\n",
       "4     11440\n",
       "24    10859\n",
       "22    10784\n",
       "3     10134\n",
       "1      8668\n",
       "9      8493\n",
       "7      7218\n",
       "23     6272\n",
       "25     6076\n",
       "16     5812\n",
       "6      5762\n",
       "10     5603\n",
       "21     4182\n",
       "5      1163\n",
       "8      1120\n",
       "Name: target, dtype: int64"
      ]
     },
     "execution_count": 9,
     "metadata": {},
     "output_type": "execute_result"
    }
   ],
   "source": [
    "y.value_counts()"
   ]
  },
  {
   "cell_type": "code",
   "execution_count": 10,
   "id": "8d58edc8",
   "metadata": {
    "ExecuteTime": {
     "end_time": "2021-10-06T12:29:59.064708Z",
     "start_time": "2021-10-06T12:23:42.913000Z"
    }
   },
   "outputs": [
    {
     "data": {
      "text/plain": [
       "LGBMClassifier(colsample_bytree=0.33, max_depth=3, n_estimators=50)"
      ]
     },
     "execution_count": 10,
     "metadata": {},
     "output_type": "execute_result"
    }
   ],
   "source": [
    "lgb = LGBMClassifier(max_depth=3, n_estimators=50, colsample_bytree=.33, n_jobs=-1)\n",
    "lgb.fit(X_train,Y_train)"
   ]
  },
  {
   "cell_type": "code",
   "execution_count": 11,
   "id": "a4549bf4",
   "metadata": {
    "ExecuteTime": {
     "end_time": "2021-10-06T12:35:01.838631Z",
     "start_time": "2021-10-06T12:34:52.246443Z"
    }
   },
   "outputs": [
    {
     "data": {
      "text/plain": [
       "<AxesSubplot:>"
      ]
     },
     "execution_count": 11,
     "metadata": {},
     "output_type": "execute_result"
    },
    {
     "data": {
      "image/png": "[encoded data removed]",
      "text/plain": [
       "<Figure size 1440x2160 with 2 Axes>"
      ]
     },
     "metadata": {
      "needs_background": "light"
     },
     "output_type": "display_data"
    }
   ],
   "source": [
    "fig, ax = plt.subplots(figsize=(20,30) )\n",
    "sns.heatmap(confusion_matrix(Y_test,lgb.predict(X_test)), annot= True, fmt='g')"
   ]
  },
  {
   "cell_type": "code",
   "execution_count": 42,
   "id": "9c31eea9",
   "metadata": {
    "ExecuteTime": {
     "end_time": "2021-10-06T13:11:48.013067Z",
     "start_time": "2021-10-06T13:11:34.324431Z"
    }
   },
   "outputs": [
    {
     "name": "stdout",
     "output_type": "stream",
     "text": [
      "0.9940272251818825\n",
      "0.9932494141960608\n"
     ]
    }
   ],
   "source": [
    "#print(roc_auc_score(Y_train, lgb.predict_proba(X_train)[:, 1],  multi_class='ovr'))\n",
    "\n",
    "print(roc_auc_score(Y_train, lgb.predict_proba(X_train), multi_class='ovo'))\n",
    "print(roc_auc_score(Y_test, lgb.predict_proba(X_test), multi_class='ovo'))"
   ]
  },
  {
   "cell_type": "markdown",
   "id": "a145a9da",
   "metadata": {
    "ExecuteTime": {
     "end_time": "2021-10-04T19:49:19.925912Z",
     "start_time": "2021-10-04T19:49:19.918896Z"
    }
   },
   "source": [
    "# Classification Using CNN"
   ]
  },
  {
   "cell_type": "code",
   "execution_count": 47,
   "id": "aeb6a061",
   "metadata": {
    "ExecuteTime": {
     "end_time": "2021-10-06T13:16:16.544473Z",
     "start_time": "2021-10-06T13:16:09.891623Z"
    }
   },
   "outputs": [],
   "source": [
    "X_train, X_test, y_train, y_test = train_test_split(X, y, test_size = 0.2)\n",
    "X_train = np.reshape(X_train.values, (X_train.shape[0], 28,28,1))\n",
    "X_test = np.reshape(X_test.values, (X_test.shape[0], 28,28,1))\n",
    "\n",
    "#X_test = X_test.reshape(X_test.shape[0],X_test.shape[1],X_test.shape[2],1)).astype('float32')\n",
    "\n",
    "X_train=X_train/255\n",
    "X_test=X_test/255\n",
    "\n",
    "num_classes = len(y.unique())\n",
    "\n",
    "y_train=np_utils.to_categorical(y_train, num_classes=num_classes, dtype='int')\n",
    "y_test=np_utils.to_categorical(y_test, num_classes=num_classes, dtype='int')\n",
    "\n"
   ]
  },
  {
   "cell_type": "markdown",
   "id": "80434127",
   "metadata": {},
   "source": [
    "# Rodar programa até aqui"
   ]
  },
  {
   "cell_type": "code",
   "execution_count": 31,
   "id": "d35992b6",
   "metadata": {
    "ExecuteTime": {
     "end_time": "2021-10-05T15:44:05.572725Z",
     "start_time": "2021-10-05T15:44:05.348805Z"
    }
   },
   "outputs": [
    {
     "name": "stdout",
     "output_type": "stream",
     "text": [
      "Model: \"sequential_4\"\n",
      "_________________________________________________________________\n",
      "Layer (type)                 Output Shape              Param #   \n",
      "=================================================================\n",
      "conv2d_4 (Conv2D)            (None, 26, 26, 30)        300       \n",
      "_________________________________________________________________\n",
      "max_pooling2d_1 (MaxPooling2 (None, 13, 13, 30)        0         \n",
      "_________________________________________________________________\n",
      "dropout_1 (Dropout)          (None, 13, 13, 30)        0         \n",
      "_________________________________________________________________\n",
      "flatten_1 (Flatten)          (None, 5070)              0         \n",
      "_________________________________________________________________\n",
      "dense_3 (Dense)              (None, 128)               649088    \n",
      "_________________________________________________________________\n",
      "dense_4 (Dense)              (None, 64)                8256      \n",
      "_________________________________________________________________\n",
      "dense_5 (Dense)              (None, 32)                2080      \n",
      "_________________________________________________________________\n",
      "predict (Dense)              (None, 26)                858       \n",
      "=================================================================\n",
      "Total params: 660,582\n",
      "Trainable params: 660,582\n",
      "Non-trainable params: 0\n",
      "_________________________________________________________________\n"
     ]
    }
   ],
   "source": [
    "model = Sequential()\n",
    "\n",
    "model.add(Conv2D(filters=30, kernel_size=(3, 3), activation='relu', input_shape=(28,28,1)))\n",
    "model.add(MaxPool2D(pool_size=(2, 2), strides=2))\n",
    "model.add(Dropout(0.2))\n",
    "\n",
    "model.add(Flatten()) # transforma a imagem 28 x 28 em 1D para entrada\n",
    "\n",
    "model.add(Dense(128,activation =\"relu\")) #camda ocultacom 128 neuronios\n",
    "model.add(Dense(64,activation =\"relu\")) # camada oculta com 64 neuronios\n",
    "model.add(Dense(32,activation =\"relu\")) # camada oculta com 32 neuronios\n",
    "\n",
    "model.add(Dense(num_classes,activation =\"softmax\", name='predict')) #camada de saída\n",
    "\n",
    "model.compile(loss = 'categorical_crossentropy', optimizer='adam', metrics = ['accuracy']) # loss é a função de perda devemos diminuir este valor\n",
    "model.summary()\n",
    "\n",
    "#history = model.fit(X_train, y_train, validation_data=(X_test, y_test), epochs=18, batch_size=200, verbose=2)"
   ]
  },
  {
   "cell_type": "code",
   "execution_count": 32,
   "id": "e17b7bdb",
   "metadata": {
    "ExecuteTime": {
     "end_time": "2021-10-05T15:58:30.790525Z",
     "start_time": "2021-10-05T15:44:16.549111Z"
    }
   },
   "outputs": [
    {
     "name": "stdout",
     "output_type": "stream",
     "text": [
      "Epoch 1/10\n",
      "1490/1490 [==============================] - 75s 50ms/step - loss: 0.2947 - accuracy: 0.9185 - val_loss: 0.1021 - val_accuracy: 0.9710\n",
      "Epoch 2/10\n",
      "1490/1490 [==============================] - 80s 53ms/step - loss: 0.0945 - accuracy: 0.9728 - val_loss: 0.0784 - val_accuracy: 0.9776\n",
      "Epoch 3/10\n",
      "1490/1490 [==============================] - 84s 56ms/step - loss: 0.0709 - accuracy: 0.9794 - val_loss: 0.0634 - val_accuracy: 0.9823\n",
      "Epoch 4/10\n",
      "1490/1490 [==============================] - 88s 59ms/step - loss: 0.0575 - accuracy: 0.9830 - val_loss: 0.0565 - val_accuracy: 0.9841\n",
      "Epoch 5/10\n",
      "1490/1490 [==============================] - 89s 59ms/step - loss: 0.0486 - accuracy: 0.9854 - val_loss: 0.0523 - val_accuracy: 0.9850\n",
      "Epoch 6/10\n",
      "1490/1490 [==============================] - 87s 59ms/step - loss: 0.0411 - accuracy: 0.9874 - val_loss: 0.0465 - val_accuracy: 0.9867\n",
      "Epoch 7/10\n",
      "1490/1490 [==============================] - 87s 58ms/step - loss: 0.0357 - accuracy: 0.9888 - val_loss: 0.0456 - val_accuracy: 0.9870\n",
      "Epoch 8/10\n",
      "1490/1490 [==============================] - 88s 59ms/step - loss: 0.0314 - accuracy: 0.9903 - val_loss: 0.0395 - val_accuracy: 0.9893\n",
      "Epoch 9/10\n",
      "1490/1490 [==============================] - 88s 59ms/step - loss: 0.0275 - accuracy: 0.9910 - val_loss: 0.0397 - val_accuracy: 0.9888\n",
      "Epoch 10/10\n",
      "1490/1490 [==============================] - 89s 59ms/step - loss: 0.0240 - accuracy: 0.9921 - val_loss: 0.0366 - val_accuracy: 0.9903\n"
     ]
    },
    {
     "data": {
      "text/plain": [
       "<keras.callbacks.History at 0x1e4d9967fd0>"
      ]
     },
     "execution_count": 32,
     "metadata": {},
     "output_type": "execute_result"
    }
   ],
   "source": [
    "model.fit(X_train, y_train, validation_data=(X_test, y_test),epochs=10, batch_size =200 )"
   ]
  },
  {
   "cell_type": "code",
   "execution_count": 155,
   "id": "60419c99",
   "metadata": {
    "ExecuteTime": {
     "end_time": "2021-10-05T22:53:06.362914Z",
     "start_time": "2021-10-05T22:52:55.742456Z"
    }
   },
   "outputs": [
    {
     "ename": "TypeError",
     "evalue": "Singleton array 654 cannot be considered a valid collection.",
     "output_type": "error",
     "traceback": [
      "\u001b[1;31m---------------------------------------------------------------------------\u001b[0m",
      "\u001b[1;31mTypeError\u001b[0m                                 Traceback (most recent call last)",
      "\u001b[1;32m<ipython-input-155-264dcf8183f4>\u001b[0m in \u001b[0;36m<module>\u001b[1;34m\u001b[0m\n\u001b[0;32m      1\u001b[0m \u001b[0mfig\u001b[0m\u001b[1;33m,\u001b[0m \u001b[0max\u001b[0m \u001b[1;33m=\u001b[0m \u001b[0mplt\u001b[0m\u001b[1;33m.\u001b[0m\u001b[0msubplots\u001b[0m\u001b[1;33m(\u001b[0m\u001b[0mfigsize\u001b[0m\u001b[1;33m=\u001b[0m\u001b[1;33m(\u001b[0m\u001b[1;36m20\u001b[0m\u001b[1;33m,\u001b[0m\u001b[1;36m30\u001b[0m\u001b[1;33m)\u001b[0m \u001b[1;33m)\u001b[0m\u001b[1;33m\u001b[0m\u001b[1;33m\u001b[0m\u001b[0m\n\u001b[1;32m----> 2\u001b[1;33m \u001b[0msns\u001b[0m\u001b[1;33m.\u001b[0m\u001b[0mheatmap\u001b[0m\u001b[1;33m(\u001b[0m\u001b[0mconfusion_matrix\u001b[0m\u001b[1;33m(\u001b[0m\u001b[0mY_test\u001b[0m\u001b[1;33m,\u001b[0m\u001b[0mmodel\u001b[0m\u001b[1;33m.\u001b[0m\u001b[0mpredict\u001b[0m\u001b[1;33m(\u001b[0m\u001b[0mX_test\u001b[0m\u001b[1;33m)\u001b[0m\u001b[1;33m.\u001b[0m\u001b[0margmax\u001b[0m\u001b[1;33m(\u001b[0m\u001b[1;33m)\u001b[0m\u001b[1;33m,\u001b[0m \u001b[0mlabels\u001b[0m\u001b[1;33m=\u001b[0m\u001b[0mlist\u001b[0m\u001b[1;33m(\u001b[0m\u001b[0mword_dict\u001b[0m\u001b[1;33m.\u001b[0m\u001b[0mvalues\u001b[0m\u001b[1;33m(\u001b[0m\u001b[1;33m)\u001b[0m\u001b[1;33m)\u001b[0m\u001b[1;33m)\u001b[0m\u001b[1;33m,\u001b[0m \u001b[0mannot\u001b[0m\u001b[1;33m=\u001b[0m \u001b[1;32mTrue\u001b[0m\u001b[1;33m,\u001b[0m \u001b[0mfmt\u001b[0m\u001b[1;33m=\u001b[0m\u001b[1;34m'g'\u001b[0m\u001b[1;33m)\u001b[0m\u001b[1;33m\u001b[0m\u001b[1;33m\u001b[0m\u001b[0m\n\u001b[0m",
      "\u001b[1;32m~\\anaconda3\\lib\\site-packages\\sklearn\\utils\\validation.py\u001b[0m in \u001b[0;36minner_f\u001b[1;34m(*args, **kwargs)\u001b[0m\n\u001b[0;32m     70\u001b[0m                           FutureWarning)\n\u001b[0;32m     71\u001b[0m         \u001b[0mkwargs\u001b[0m\u001b[1;33m.\u001b[0m\u001b[0mupdate\u001b[0m\u001b[1;33m(\u001b[0m\u001b[1;33m{\u001b[0m\u001b[0mk\u001b[0m\u001b[1;33m:\u001b[0m \u001b[0marg\u001b[0m \u001b[1;32mfor\u001b[0m \u001b[0mk\u001b[0m\u001b[1;33m,\u001b[0m \u001b[0marg\u001b[0m \u001b[1;32min\u001b[0m \u001b[0mzip\u001b[0m\u001b[1;33m(\u001b[0m\u001b[0msig\u001b[0m\u001b[1;33m.\u001b[0m\u001b[0mparameters\u001b[0m\u001b[1;33m,\u001b[0m \u001b[0margs\u001b[0m\u001b[1;33m)\u001b[0m\u001b[1;33m}\u001b[0m\u001b[1;33m)\u001b[0m\u001b[1;33m\u001b[0m\u001b[1;33m\u001b[0m\u001b[0m\n\u001b[1;32m---> 72\u001b[1;33m         \u001b[1;32mreturn\u001b[0m \u001b[0mf\u001b[0m\u001b[1;33m(\u001b[0m\u001b[1;33m**\u001b[0m\u001b[0mkwargs\u001b[0m\u001b[1;33m)\u001b[0m\u001b[1;33m\u001b[0m\u001b[1;33m\u001b[0m\u001b[0m\n\u001b[0m\u001b[0;32m     73\u001b[0m     \u001b[1;32mreturn\u001b[0m \u001b[0minner_f\u001b[0m\u001b[1;33m\u001b[0m\u001b[1;33m\u001b[0m\u001b[0m\n\u001b[0;32m     74\u001b[0m \u001b[1;33m\u001b[0m\u001b[0m\n",
      "\u001b[1;32m~\\anaconda3\\lib\\site-packages\\sklearn\\metrics\\_classification.py\u001b[0m in \u001b[0;36mconfusion_matrix\u001b[1;34m(y_true, y_pred, labels, sample_weight, normalize)\u001b[0m\n\u001b[0;32m    274\u001b[0m \u001b[1;33m\u001b[0m\u001b[0m\n\u001b[0;32m    275\u001b[0m     \"\"\"\n\u001b[1;32m--> 276\u001b[1;33m     \u001b[0my_type\u001b[0m\u001b[1;33m,\u001b[0m \u001b[0my_true\u001b[0m\u001b[1;33m,\u001b[0m \u001b[0my_pred\u001b[0m \u001b[1;33m=\u001b[0m \u001b[0m_check_targets\u001b[0m\u001b[1;33m(\u001b[0m\u001b[0my_true\u001b[0m\u001b[1;33m,\u001b[0m \u001b[0my_pred\u001b[0m\u001b[1;33m)\u001b[0m\u001b[1;33m\u001b[0m\u001b[1;33m\u001b[0m\u001b[0m\n\u001b[0m\u001b[0;32m    277\u001b[0m     \u001b[1;32mif\u001b[0m \u001b[0my_type\u001b[0m \u001b[1;32mnot\u001b[0m \u001b[1;32min\u001b[0m \u001b[1;33m(\u001b[0m\u001b[1;34m\"binary\"\u001b[0m\u001b[1;33m,\u001b[0m \u001b[1;34m\"multiclass\"\u001b[0m\u001b[1;33m)\u001b[0m\u001b[1;33m:\u001b[0m\u001b[1;33m\u001b[0m\u001b[1;33m\u001b[0m\u001b[0m\n\u001b[0;32m    278\u001b[0m         \u001b[1;32mraise\u001b[0m \u001b[0mValueError\u001b[0m\u001b[1;33m(\u001b[0m\u001b[1;34m\"%s is not supported\"\u001b[0m \u001b[1;33m%\u001b[0m \u001b[0my_type\u001b[0m\u001b[1;33m)\u001b[0m\u001b[1;33m\u001b[0m\u001b[1;33m\u001b[0m\u001b[0m\n",
      "\u001b[1;32m~\\anaconda3\\lib\\site-packages\\sklearn\\metrics\\_classification.py\u001b[0m in \u001b[0;36m_check_targets\u001b[1;34m(y_true, y_pred)\u001b[0m\n\u001b[0;32m     79\u001b[0m     \u001b[0my_pred\u001b[0m \u001b[1;33m:\u001b[0m \u001b[0marray\u001b[0m \u001b[1;32mor\u001b[0m \u001b[0mindicator\u001b[0m \u001b[0mmatrix\u001b[0m\u001b[1;33m\u001b[0m\u001b[1;33m\u001b[0m\u001b[0m\n\u001b[0;32m     80\u001b[0m     \"\"\"\n\u001b[1;32m---> 81\u001b[1;33m     \u001b[0mcheck_consistent_length\u001b[0m\u001b[1;33m(\u001b[0m\u001b[0my_true\u001b[0m\u001b[1;33m,\u001b[0m \u001b[0my_pred\u001b[0m\u001b[1;33m)\u001b[0m\u001b[1;33m\u001b[0m\u001b[1;33m\u001b[0m\u001b[0m\n\u001b[0m\u001b[0;32m     82\u001b[0m     \u001b[0mtype_true\u001b[0m \u001b[1;33m=\u001b[0m \u001b[0mtype_of_target\u001b[0m\u001b[1;33m(\u001b[0m\u001b[0my_true\u001b[0m\u001b[1;33m)\u001b[0m\u001b[1;33m\u001b[0m\u001b[1;33m\u001b[0m\u001b[0m\n\u001b[0;32m     83\u001b[0m     \u001b[0mtype_pred\u001b[0m \u001b[1;33m=\u001b[0m \u001b[0mtype_of_target\u001b[0m\u001b[1;33m(\u001b[0m\u001b[0my_pred\u001b[0m\u001b[1;33m)\u001b[0m\u001b[1;33m\u001b[0m\u001b[1;33m\u001b[0m\u001b[0m\n",
      "\u001b[1;32m~\\anaconda3\\lib\\site-packages\\sklearn\\utils\\validation.py\u001b[0m in \u001b[0;36mcheck_consistent_length\u001b[1;34m(*arrays)\u001b[0m\n\u001b[0;32m    250\u001b[0m     \"\"\"\n\u001b[0;32m    251\u001b[0m \u001b[1;33m\u001b[0m\u001b[0m\n\u001b[1;32m--> 252\u001b[1;33m     \u001b[0mlengths\u001b[0m \u001b[1;33m=\u001b[0m \u001b[1;33m[\u001b[0m\u001b[0m_num_samples\u001b[0m\u001b[1;33m(\u001b[0m\u001b[0mX\u001b[0m\u001b[1;33m)\u001b[0m \u001b[1;32mfor\u001b[0m \u001b[0mX\u001b[0m \u001b[1;32min\u001b[0m \u001b[0marrays\u001b[0m \u001b[1;32mif\u001b[0m \u001b[0mX\u001b[0m \u001b[1;32mis\u001b[0m \u001b[1;32mnot\u001b[0m \u001b[1;32mNone\u001b[0m\u001b[1;33m]\u001b[0m\u001b[1;33m\u001b[0m\u001b[1;33m\u001b[0m\u001b[0m\n\u001b[0m\u001b[0;32m    253\u001b[0m     \u001b[0muniques\u001b[0m \u001b[1;33m=\u001b[0m \u001b[0mnp\u001b[0m\u001b[1;33m.\u001b[0m\u001b[0munique\u001b[0m\u001b[1;33m(\u001b[0m\u001b[0mlengths\u001b[0m\u001b[1;33m)\u001b[0m\u001b[1;33m\u001b[0m\u001b[1;33m\u001b[0m\u001b[0m\n\u001b[0;32m    254\u001b[0m     \u001b[1;32mif\u001b[0m \u001b[0mlen\u001b[0m\u001b[1;33m(\u001b[0m\u001b[0muniques\u001b[0m\u001b[1;33m)\u001b[0m \u001b[1;33m>\u001b[0m \u001b[1;36m1\u001b[0m\u001b[1;33m:\u001b[0m\u001b[1;33m\u001b[0m\u001b[1;33m\u001b[0m\u001b[0m\n",
      "\u001b[1;32m~\\anaconda3\\lib\\site-packages\\sklearn\\utils\\validation.py\u001b[0m in \u001b[0;36m<listcomp>\u001b[1;34m(.0)\u001b[0m\n\u001b[0;32m    250\u001b[0m     \"\"\"\n\u001b[0;32m    251\u001b[0m \u001b[1;33m\u001b[0m\u001b[0m\n\u001b[1;32m--> 252\u001b[1;33m     \u001b[0mlengths\u001b[0m \u001b[1;33m=\u001b[0m \u001b[1;33m[\u001b[0m\u001b[0m_num_samples\u001b[0m\u001b[1;33m(\u001b[0m\u001b[0mX\u001b[0m\u001b[1;33m)\u001b[0m \u001b[1;32mfor\u001b[0m \u001b[0mX\u001b[0m \u001b[1;32min\u001b[0m \u001b[0marrays\u001b[0m \u001b[1;32mif\u001b[0m \u001b[0mX\u001b[0m \u001b[1;32mis\u001b[0m \u001b[1;32mnot\u001b[0m \u001b[1;32mNone\u001b[0m\u001b[1;33m]\u001b[0m\u001b[1;33m\u001b[0m\u001b[1;33m\u001b[0m\u001b[0m\n\u001b[0m\u001b[0;32m    253\u001b[0m     \u001b[0muniques\u001b[0m \u001b[1;33m=\u001b[0m \u001b[0mnp\u001b[0m\u001b[1;33m.\u001b[0m\u001b[0munique\u001b[0m\u001b[1;33m(\u001b[0m\u001b[0mlengths\u001b[0m\u001b[1;33m)\u001b[0m\u001b[1;33m\u001b[0m\u001b[1;33m\u001b[0m\u001b[0m\n\u001b[0;32m    254\u001b[0m     \u001b[1;32mif\u001b[0m \u001b[0mlen\u001b[0m\u001b[1;33m(\u001b[0m\u001b[0muniques\u001b[0m\u001b[1;33m)\u001b[0m \u001b[1;33m>\u001b[0m \u001b[1;36m1\u001b[0m\u001b[1;33m:\u001b[0m\u001b[1;33m\u001b[0m\u001b[1;33m\u001b[0m\u001b[0m\n",
      "\u001b[1;32m~\\anaconda3\\lib\\site-packages\\sklearn\\utils\\validation.py\u001b[0m in \u001b[0;36m_num_samples\u001b[1;34m(x)\u001b[0m\n\u001b[0;32m    193\u001b[0m     \u001b[1;32mif\u001b[0m \u001b[0mhasattr\u001b[0m\u001b[1;33m(\u001b[0m\u001b[0mx\u001b[0m\u001b[1;33m,\u001b[0m \u001b[1;34m'shape'\u001b[0m\u001b[1;33m)\u001b[0m \u001b[1;32mand\u001b[0m \u001b[0mx\u001b[0m\u001b[1;33m.\u001b[0m\u001b[0mshape\u001b[0m \u001b[1;32mis\u001b[0m \u001b[1;32mnot\u001b[0m \u001b[1;32mNone\u001b[0m\u001b[1;33m:\u001b[0m\u001b[1;33m\u001b[0m\u001b[1;33m\u001b[0m\u001b[0m\n\u001b[0;32m    194\u001b[0m         \u001b[1;32mif\u001b[0m \u001b[0mlen\u001b[0m\u001b[1;33m(\u001b[0m\u001b[0mx\u001b[0m\u001b[1;33m.\u001b[0m\u001b[0mshape\u001b[0m\u001b[1;33m)\u001b[0m \u001b[1;33m==\u001b[0m \u001b[1;36m0\u001b[0m\u001b[1;33m:\u001b[0m\u001b[1;33m\u001b[0m\u001b[1;33m\u001b[0m\u001b[0m\n\u001b[1;32m--> 195\u001b[1;33m             raise TypeError(\"Singleton array %r cannot be considered\"\n\u001b[0m\u001b[0;32m    196\u001b[0m                             \" a valid collection.\" % x)\n\u001b[0;32m    197\u001b[0m         \u001b[1;31m# Check that shape is returning an integer or default to len\u001b[0m\u001b[1;33m\u001b[0m\u001b[1;33m\u001b[0m\u001b[1;33m\u001b[0m\u001b[0m\n",
      "\u001b[1;31mTypeError\u001b[0m: Singleton array 654 cannot be considered a valid collection."
     ]
    },
    {
     "data": {
      "image/png": "[encoded data removed]",
      "text/plain": [
       "<Figure size 1440x2160 with 1 Axes>"
      ]
     },
     "metadata": {
      "needs_background": "light"
     },
     "output_type": "display_data"
    }
   ],
   "source": [
    "fig, ax = plt.subplots(figsize=(20,30) )\n",
    "sns.heatmap(confusion_matrix(y_test,model.predict(X_test).argmax(), labels=list(word_dict.values())), annot= True, fmt='g')"
   ]
  },
  {
   "cell_type": "markdown",
   "id": "2217d5b5",
   "metadata": {
    "cell_style": "center"
   },
   "source": [
    "# Save Model"
   ]
  },
  {
   "cell_type": "code",
   "execution_count": 36,
   "id": "f051eecb",
   "metadata": {
    "ExecuteTime": {
     "end_time": "2021-10-05T18:00:33.801612Z",
     "start_time": "2021-10-05T18:00:33.674925Z"
    }
   },
   "outputs": [],
   "source": [
    "model_json=model.to_json()\n",
    "with open ('model.json', 'w') as json_file:\n",
    "    json_file.write(model_json)\n",
    "model.save_weights('letter.h5')"
   ]
  },
  {
   "cell_type": "markdown",
   "id": "9dab7966",
   "metadata": {
    "ExecuteTime": {
     "end_time": "2021-10-05T18:01:50.537918Z",
     "start_time": "2021-10-05T18:01:50.520962Z"
    }
   },
   "source": [
    "# Load Model"
   ]
  },
  {
   "cell_type": "code",
   "execution_count": 48,
   "id": "81e6fe53",
   "metadata": {
    "ExecuteTime": {
     "end_time": "2021-10-06T13:16:29.889035Z",
     "start_time": "2021-10-06T13:16:29.831185Z"
    }
   },
   "outputs": [],
   "source": [
    "json_file = open ('model.json', 'r')\n",
    "loaded_model_json= json_file.read()\n",
    "json_file.close()\n",
    "\n",
    "loaded_model= model_from_json(loaded_model_json)\n",
    "loaded_model.load_weights('letter.h5')"
   ]
  },
  {
   "cell_type": "code",
   "execution_count": 49,
   "id": "ebfecfc1",
   "metadata": {
    "ExecuteTime": {
     "end_time": "2021-10-06T13:16:31.221909Z",
     "start_time": "2021-10-06T13:16:31.206915Z"
    }
   },
   "outputs": [],
   "source": [
    "loaded_model.compile(optimizer='adam', loss='categorical_crossentropy', metrics='accuracy')"
   ]
  },
  {
   "cell_type": "code",
   "execution_count": 53,
   "id": "b39f5b1f",
   "metadata": {
    "ExecuteTime": {
     "end_time": "2021-10-06T13:18:38.095342Z",
     "start_time": "2021-10-06T13:18:38.092333Z"
    }
   },
   "outputs": [],
   "source": [
    "#perda_teste, acuracia_teste = loaded_model.evaluate(X_test,y_test)"
   ]
  },
  {
   "cell_type": "code",
   "execution_count": null,
   "id": "fc4348ed",
   "metadata": {},
   "outputs": [],
   "source": [
    "window = Tk()\n",
    "window.geometry('0x0')     \n",
    "messagebox.showinfo(\"information\",\"Escolha o Ficheiro de Excel Onde Estão Os Dados Da Turma\")  # dá mensagem para escolher ficheiro excel \n",
    "filepath = filedialog.askopenfilename()\n",
    "window.withdraw()\n",
    "endereco=filepath.replace('\\\\', '/')"
   ]
  },
  {
   "cell_type": "code",
   "execution_count": 49,
   "id": "88a88e8f",
   "metadata": {
    "ExecuteTime": {
     "end_time": "2021-10-05T22:01:35.069085Z",
     "start_time": "2021-10-05T22:01:35.052131Z"
    }
   },
   "outputs": [],
   "source": [
    "from PIL import Image\n",
    "\n",
    "\n"
   ]
  },
  {
   "cell_type": "code",
   "execution_count": 76,
   "id": "8048b086",
   "metadata": {
    "ExecuteTime": {
     "end_time": "2021-10-05T22:15:17.894632Z",
     "start_time": "2021-10-05T22:15:16.576577Z"
    }
   },
   "outputs": [],
   "source": [
    "imagem=Image.open('imagens teste/s.png')\n",
    "imagem.show()"
   ]
  },
  {
   "cell_type": "code",
   "execution_count": 77,
   "id": "1f267c24",
   "metadata": {
    "ExecuteTime": {
     "end_time": "2021-10-05T22:15:19.011141Z",
     "start_time": "2021-10-05T22:15:18.997176Z"
    }
   },
   "outputs": [
    {
     "data": {
      "image/png": "[encoded data removed]",
      "text/plain": [
       "<PIL.Image.Image image mode=1 size=200x260 at 0x1E4DB37F610>"
      ]
     },
     "execution_count": 77,
     "metadata": {},
     "output_type": "execute_result"
    }
   ],
   "source": [
    "imagem.convert('1')"
   ]
  },
  {
   "cell_type": "code",
   "execution_count": 81,
   "id": "9b6d2a02",
   "metadata": {
    "ExecuteTime": {
     "end_time": "2021-10-05T22:15:43.724043Z",
     "start_time": "2021-10-05T22:15:43.650204Z"
    }
   },
   "outputs": [
    {
     "data": {
      "text/plain": [
       "[(255, 255, 255),\n",
       " (255, 255, 255),\n",
       " (255, 255, 255),\n",
       " (255, 255, 255),\n",
       " (255, 255, 255),\n",
       " (255, 255, 255),\n",
       " (255, 255, 255),\n",
       " (255, 255, 255),\n",
       " (255, 255, 255),\n",
       " (255, 255, 255),\n",
       " (255, 255, 255),\n",
       " (255, 255, 255),\n",
       " (255, 255, 255),\n",
       " (255, 255, 255),\n",
       " (255, 255, 255),\n",
       " (255, 255, 255),\n",
       " (255, 255, 255),\n",
       " (255, 255, 255),\n",
       " (255, 255, 255),\n",
       " (255, 255, 255),\n",
       " (255, 255, 255),\n",
       " (255, 255, 255),\n",
       " (255, 255, 255),\n",
       " (255, 255, 255),\n",
       " (255, 255, 255),\n",
       " (255, 255, 255),\n",
       " (255, 255, 255),\n",
       " (255, 255, 255),\n",
       " (255, 255, 255),\n",
       " (255, 255, 255),\n",
       " (255, 255, 255),\n",
       " (255, 255, 255),\n",
       " (255, 255, 255),\n",
       " (255, 255, 255),\n",
       " (255, 255, 255),\n",
       " (255, 255, 255),\n",
       " (255, 255, 255),\n",
       " (255, 255, 255),\n",
       " (255, 255, 255),\n",
       " (255, 255, 255),\n",
       " (255, 255, 255),\n",
       " (255, 255, 255),\n",
       " (255, 255, 255),\n",
       " (255, 255, 255),\n",
       " (255, 255, 255),\n",
       " (255, 255, 255),\n",
       " (255, 255, 255),\n",
       " (255, 255, 255),\n",
       " (255, 255, 255),\n",
       " (255, 255, 255),\n",
       " (255, 255, 255),\n",
       " (255, 255, 255),\n",
       " (255, 255, 255),\n",
       " (255, 255, 255),\n",
       " (255, 255, 255),\n",
       " (255, 255, 255),\n",
       " (255, 255, 255),\n",
       " (255, 255, 255),\n",
       " (255, 255, 255),\n",
       " (255, 255, 255),\n",
       " (255, 255, 255),\n",
       " (255, 255, 255),\n",
       " (255, 255, 255),\n",
       " (255, 255, 255),\n",
       " (255, 255, 255),\n",
       " (255, 255, 255),\n",
       " (255, 255, 255),\n",
       " (255, 255, 255),\n",
       " (255, 255, 255),\n",
       " (255, 255, 255),\n",
       " (255, 255, 255),\n",
       " (255, 255, 255),\n",
       " (255, 255, 255),\n",
       " (255, 255, 255),\n",
       " (255, 255, 255),\n",
       " (255, 255, 255),\n",
       " (255, 255, 255),\n",
       " (255, 255, 255),\n",
       " (255, 255, 255),\n",
       " (255, 255, 255),\n",
       " (255, 255, 255),\n",
       " (255, 255, 255),\n",
       " (255, 255, 255),\n",
       " (255, 255, 255),\n",
       " (255, 255, 255),\n",
       " (255, 255, 255),\n",
       " (255, 255, 255),\n",
       " (255, 255, 255),\n",
       " (255, 255, 255),\n",
       " (255, 255, 255),\n",
       " (255, 255, 255),\n",
       " (255, 255, 255),\n",
       " (255, 255, 255),\n",
       " (255, 255, 255),\n",
       " (255, 255, 255),\n",
       " (255, 255, 255),\n",
       " (255, 255, 255),\n",
       " (255, 255, 255),\n",
       " (255, 255, 255),\n",
       " (255, 255, 255),\n",
       " (255, 255, 255),\n",
       " (255, 255, 255),\n",
       " (255, 255, 255),\n",
       " (255, 255, 255),\n",
       " (255, 255, 255),\n",
       " (255, 255, 255),\n",
       " (255, 255, 255),\n",
       " (255, 255, 255),\n",
       " (255, 255, 255),\n",
       " (255, 255, 255),\n",
       " (255, 255, 255),\n",
       " (255, 255, 255),\n",
       " (255, 255, 255),\n",
       " (255, 255, 255),\n",
       " (255, 255, 255),\n",
       " (255, 255, 255),\n",
       " (255, 255, 255),\n",
       " (255, 255, 255),\n",
       " (255, 255, 255),\n",
       " (255, 255, 255),\n",
       " (255, 255, 255),\n",
       " (255, 255, 255),\n",
       " (255, 255, 255),\n",
       " (255, 255, 255),\n",
       " (255, 255, 255),\n",
       " (255, 255, 255),\n",
       " (255, 255, 255),\n",
       " (255, 255, 255),\n",
       " (255, 255, 255),\n",
       " (255, 255, 255),\n",
       " (255, 255, 255),\n",
       " (255, 255, 255),\n",
       " (255, 255, 255),\n",
       " (255, 255, 255),\n",
       " (255, 255, 255),\n",
       " (255, 255, 255),\n",
       " (255, 255, 255),\n",
       " (255, 255, 255),\n",
       " (255, 255, 255),\n",
       " (255, 255, 255),\n",
       " (255, 255, 255),\n",
       " (255, 255, 255),\n",
       " (255, 255, 255),\n",
       " (255, 255, 255),\n",
       " (255, 255, 255),\n",
       " (255, 255, 255),\n",
       " (255, 255, 255),\n",
       " (255, 255, 255),\n",
       " (255, 255, 255),\n",
       " (255, 255, 255),\n",
       " (255, 255, 255),\n",
       " (255, 255, 255),\n",
       " (255, 255, 255),\n",
       " (255, 255, 255),\n",
       " (255, 255, 255),\n",
       " (255, 255, 255),\n",
       " (255, 255, 255),\n",
       " (255, 255, 255),\n",
       " (255, 255, 255),\n",
       " (255, 255, 255),\n",
       " (255, 255, 255),\n",
       " (255, 255, 255),\n",
       " (255, 255, 255),\n",
       " (255, 255, 255),\n",
       " (255, 255, 255),\n",
       " (255, 255, 255),\n",
       " (255, 255, 255),\n",
       " (255, 255, 255),\n",
       " (255, 255, 255),\n",
       " (255, 255, 255),\n",
       " (255, 255, 255),\n",
       " (255, 255, 255),\n",
       " (255, 255, 255),\n",
       " (255, 255, 255),\n",
       " (255, 255, 255),\n",
       " (255, 255, 255),\n",
       " (255, 255, 255),\n",
       " (255, 255, 255),\n",
       " (255, 255, 255),\n",
       " (255, 255, 255),\n",
       " (255, 255, 255),\n",
       " (255, 255, 255),\n",
       " (255, 255, 255),\n",
       " (255, 255, 255),\n",
       " (255, 255, 255),\n",
       " (255, 255, 255),\n",
       " (255, 255, 255),\n",
       " (255, 255, 255),\n",
       " (255, 255, 255),\n",
       " (255, 255, 255),\n",
       " (255, 255, 255),\n",
       " (255, 255, 255),\n",
       " (255, 255, 255),\n",
       " (255, 255, 255),\n",
       " (255, 255, 255),\n",
       " (255, 255, 255),\n",
       " (255, 255, 255),\n",
       " (255, 255, 255),\n",
       " (255, 255, 255),\n",
       " (255, 255, 255),\n",
       " (255, 255, 255),\n",
       " (255, 255, 255),\n",
       " (255, 255, 255),\n",
       " (255, 255, 255),\n",
       " (255, 255, 255),\n",
       " (255, 255, 255),\n",
       " (255, 255, 255),\n",
       " (255, 255, 255),\n",
       " (255, 255, 255),\n",
       " (255, 255, 255),\n",
       " (255, 255, 255),\n",
       " (255, 255, 255),\n",
       " (255, 255, 255),\n",
       " (255, 255, 255),\n",
       " (255, 255, 255),\n",
       " (255, 255, 255),\n",
       " (255, 255, 255),\n",
       " (255, 255, 255),\n",
       " (255, 255, 255),\n",
       " (255, 255, 255),\n",
       " (255, 255, 255),\n",
       " (255, 255, 255),\n",
       " (255, 255, 255),\n",
       " (255, 255, 255),\n",
       " (255, 255, 255),\n",
       " (255, 255, 255),\n",
       " (255, 255, 255),\n",
       " (255, 255, 255),\n",
       " (255, 255, 255),\n",
       " (255, 255, 255),\n",
       " (255, 255, 255),\n",
       " (255, 255, 255),\n",
       " (255, 255, 255),\n",
       " (255, 255, 255),\n",
       " (255, 255, 255),\n",
       " (255, 255, 255),\n",
       " (255, 255, 255),\n",
       " (255, 255, 255),\n",
       " (255, 255, 255),\n",
       " (255, 255, 255),\n",
       " (255, 255, 255),\n",
       " (255, 255, 255),\n",
       " (255, 255, 255),\n",
       " (255, 255, 255),\n",
       " (255, 255, 255),\n",
       " (255, 255, 255),\n",
       " (255, 255, 255),\n",
       " (255, 255, 255),\n",
       " (255, 255, 255),\n",
       " (255, 255, 255),\n",
       " (255, 255, 255),\n",
       " (255, 255, 255),\n",
       " (255, 255, 255),\n",
       " (255, 255, 255),\n",
       " (255, 255, 255),\n",
       " (255, 255, 255),\n",
       " (255, 255, 255),\n",
       " (255, 255, 255),\n",
       " (255, 255, 255),\n",
       " (255, 255, 255),\n",
       " (255, 255, 255),\n",
       " (255, 255, 255),\n",
       " (255, 255, 255),\n",
       " (255, 255, 255),\n",
       " (255, 255, 255),\n",
       " (255, 255, 255),\n",
       " (255, 255, 255),\n",
       " (255, 255, 255),\n",
       " (255, 255, 255),\n",
       " (255, 255, 255),\n",
       " (255, 255, 255),\n",
       " (255, 255, 255),\n",
       " (255, 255, 255),\n",
       " (255, 255, 255),\n",
       " (255, 255, 255),\n",
       " (255, 255, 255),\n",
       " (255, 255, 255),\n",
       " (255, 255, 255),\n",
       " (255, 255, 255),\n",
       " (255, 255, 255),\n",
       " (255, 255, 255),\n",
       " (255, 255, 255),\n",
       " (255, 255, 255),\n",
       " (255, 255, 255),\n",
       " (255, 255, 255),\n",
       " (255, 255, 255),\n",
       " (255, 255, 255),\n",
       " (255, 255, 255),\n",
       " (255, 255, 255),\n",
       " (255, 255, 255),\n",
       " (255, 255, 255),\n",
       " (255, 255, 255),\n",
       " (255, 255, 255),\n",
       " (255, 255, 255),\n",
       " (255, 255, 255),\n",
       " (255, 255, 255),\n",
       " (255, 255, 255),\n",
       " (255, 255, 255),\n",
       " (255, 255, 255),\n",
       " (255, 255, 255),\n",
       " (255, 255, 255),\n",
       " (255, 255, 255),\n",
       " (255, 255, 255),\n",
       " (255, 255, 255),\n",
       " (255, 255, 255),\n",
       " (255, 255, 255),\n",
       " (255, 255, 255),\n",
       " (255, 255, 255),\n",
       " (255, 255, 255),\n",
       " (255, 255, 255),\n",
       " (255, 255, 255),\n",
       " (255, 255, 255),\n",
       " (255, 255, 255),\n",
       " (255, 255, 255),\n",
       " (255, 255, 255),\n",
       " (255, 255, 255),\n",
       " (255, 255, 255),\n",
       " (255, 255, 255),\n",
       " (255, 255, 255),\n",
       " (255, 255, 255),\n",
       " (255, 255, 255),\n",
       " (255, 255, 255),\n",
       " (255, 255, 255),\n",
       " (255, 255, 255),\n",
       " (255, 255, 255),\n",
       " (255, 255, 255),\n",
       " (255, 255, 255),\n",
       " (255, 255, 255),\n",
       " (255, 255, 255),\n",
       " (255, 255, 255),\n",
       " (255, 255, 255),\n",
       " (255, 255, 255),\n",
       " (255, 255, 255),\n",
       " (255, 255, 255),\n",
       " (255, 255, 255),\n",
       " (255, 255, 255),\n",
       " (255, 255, 255),\n",
       " (255, 255, 255),\n",
       " (255, 255, 255),\n",
       " (255, 255, 255),\n",
       " (255, 255, 255),\n",
       " (255, 255, 255),\n",
       " (255, 255, 255),\n",
       " (255, 255, 255),\n",
       " (255, 255, 255),\n",
       " (255, 255, 255),\n",
       " (255, 255, 255),\n",
       " (255, 255, 255),\n",
       " (255, 255, 255),\n",
       " (255, 255, 255),\n",
       " (255, 255, 255),\n",
       " (255, 255, 255),\n",
       " (255, 255, 255),\n",
       " (255, 255, 255),\n",
       " (255, 255, 255),\n",
       " (255, 255, 255),\n",
       " (255, 255, 255),\n",
       " (255, 255, 255),\n",
       " (255, 255, 255),\n",
       " (255, 255, 255),\n",
       " (255, 255, 255),\n",
       " (255, 255, 255),\n",
       " (255, 255, 255),\n",
       " (255, 255, 255),\n",
       " (255, 255, 255),\n",
       " (255, 255, 255),\n",
       " (255, 255, 255),\n",
       " (255, 255, 255),\n",
       " (255, 255, 255),\n",
       " (255, 255, 255),\n",
       " (255, 255, 255),\n",
       " (255, 255, 255),\n",
       " (255, 255, 255),\n",
       " (255, 255, 255),\n",
       " (255, 255, 255),\n",
       " (255, 255, 255),\n",
       " (255, 255, 255),\n",
       " (255, 255, 255),\n",
       " (255, 255, 255),\n",
       " (255, 255, 255),\n",
       " (255, 255, 255),\n",
       " (255, 255, 255),\n",
       " (255, 255, 255),\n",
       " (255, 255, 255),\n",
       " (255, 255, 255),\n",
       " (255, 255, 255),\n",
       " (255, 255, 255),\n",
       " (255, 255, 255),\n",
       " (255, 255, 255),\n",
       " (255, 255, 255),\n",
       " (255, 255, 255),\n",
       " (255, 255, 255),\n",
       " (255, 255, 255),\n",
       " (255, 255, 255),\n",
       " (255, 255, 255),\n",
       " (255, 255, 255),\n",
       " (255, 255, 255),\n",
       " (255, 255, 255),\n",
       " (255, 255, 255),\n",
       " (255, 255, 255),\n",
       " (255, 255, 255),\n",
       " (255, 255, 255),\n",
       " (255, 255, 255),\n",
       " (255, 255, 255),\n",
       " (255, 255, 255),\n",
       " (255, 255, 255),\n",
       " (255, 255, 255),\n",
       " (255, 255, 255),\n",
       " (255, 255, 255),\n",
       " (255, 255, 255),\n",
       " (255, 255, 255),\n",
       " (255, 255, 255),\n",
       " (255, 255, 255),\n",
       " (255, 255, 255),\n",
       " (255, 255, 255),\n",
       " (255, 255, 255),\n",
       " (255, 255, 255),\n",
       " (255, 255, 255),\n",
       " (255, 255, 255),\n",
       " (255, 255, 255),\n",
       " (255, 255, 255),\n",
       " (255, 255, 255),\n",
       " (255, 255, 255),\n",
       " (255, 255, 255),\n",
       " (255, 255, 255),\n",
       " (255, 255, 255),\n",
       " (255, 255, 255),\n",
       " (255, 255, 255),\n",
       " (255, 255, 255),\n",
       " (255, 255, 255),\n",
       " (255, 255, 255),\n",
       " (255, 255, 255),\n",
       " (255, 255, 255),\n",
       " (255, 255, 255),\n",
       " (255, 255, 255),\n",
       " (255, 255, 255),\n",
       " (255, 255, 255),\n",
       " (255, 255, 255),\n",
       " (255, 255, 255),\n",
       " (255, 255, 255),\n",
       " (255, 255, 255),\n",
       " (255, 255, 255),\n",
       " (255, 255, 255),\n",
       " (255, 255, 255),\n",
       " (255, 255, 255),\n",
       " (255, 255, 255),\n",
       " (255, 255, 255),\n",
       " (255, 255, 255),\n",
       " (255, 255, 255),\n",
       " (255, 255, 255),\n",
       " (255, 255, 255),\n",
       " (255, 255, 255),\n",
       " (255, 255, 255),\n",
       " (255, 255, 255),\n",
       " (255, 255, 255),\n",
       " (255, 255, 255),\n",
       " (255, 255, 255),\n",
       " (255, 255, 255),\n",
       " (255, 255, 255),\n",
       " (255, 255, 255),\n",
       " (255, 255, 255),\n",
       " (255, 255, 255),\n",
       " (255, 255, 255),\n",
       " (255, 255, 255),\n",
       " (255, 255, 255),\n",
       " (255, 255, 255),\n",
       " (255, 255, 255),\n",
       " (255, 255, 255),\n",
       " (255, 255, 255),\n",
       " (255, 255, 255),\n",
       " (255, 255, 255),\n",
       " (255, 255, 255),\n",
       " (255, 255, 255),\n",
       " (255, 255, 255),\n",
       " (255, 255, 255),\n",
       " (255, 255, 255),\n",
       " (255, 255, 255),\n",
       " (255, 255, 255),\n",
       " (255, 255, 255),\n",
       " (255, 255, 255),\n",
       " (255, 255, 255),\n",
       " (255, 255, 255),\n",
       " (255, 255, 255),\n",
       " (255, 255, 255),\n",
       " (255, 255, 255),\n",
       " (255, 255, 255),\n",
       " (255, 255, 255),\n",
       " (255, 255, 255),\n",
       " (255, 255, 255),\n",
       " (255, 255, 255),\n",
       " (255, 255, 255),\n",
       " (255, 255, 255),\n",
       " (255, 255, 255),\n",
       " (255, 255, 255),\n",
       " (255, 255, 255),\n",
       " (255, 255, 255),\n",
       " (255, 255, 255),\n",
       " (255, 255, 255),\n",
       " (255, 255, 255),\n",
       " (255, 255, 255),\n",
       " (255, 255, 255),\n",
       " (255, 255, 255),\n",
       " (255, 255, 255),\n",
       " (255, 255, 255),\n",
       " (255, 255, 255),\n",
       " (255, 255, 255),\n",
       " (255, 255, 255),\n",
       " (255, 255, 255),\n",
       " (255, 255, 255),\n",
       " (255, 255, 255),\n",
       " (255, 255, 255),\n",
       " (255, 255, 255),\n",
       " (255, 255, 255),\n",
       " (255, 255, 255),\n",
       " (255, 255, 255),\n",
       " (255, 255, 255),\n",
       " (255, 255, 255),\n",
       " (255, 255, 255),\n",
       " (255, 255, 255),\n",
       " (255, 255, 255),\n",
       " (255, 255, 255),\n",
       " (255, 255, 255),\n",
       " (255, 255, 255),\n",
       " (255, 255, 255),\n",
       " (255, 255, 255),\n",
       " (255, 255, 255),\n",
       " (255, 255, 255),\n",
       " (255, 255, 255),\n",
       " (255, 255, 255),\n",
       " (255, 255, 255),\n",
       " (255, 255, 255),\n",
       " (255, 255, 255),\n",
       " (255, 255, 255),\n",
       " (255, 255, 255),\n",
       " (255, 255, 255),\n",
       " (255, 255, 255),\n",
       " (255, 255, 255),\n",
       " (255, 255, 255),\n",
       " (255, 255, 255),\n",
       " (255, 255, 255),\n",
       " (255, 255, 255),\n",
       " (255, 255, 255),\n",
       " (255, 255, 255),\n",
       " (255, 255, 255),\n",
       " (255, 255, 255),\n",
       " (255, 255, 255),\n",
       " (255, 255, 255),\n",
       " (255, 255, 255),\n",
       " (255, 255, 255),\n",
       " (255, 255, 255),\n",
       " (255, 255, 255),\n",
       " (255, 255, 255),\n",
       " (255, 255, 255),\n",
       " (255, 255, 255),\n",
       " (255, 255, 255),\n",
       " (255, 255, 255),\n",
       " (255, 255, 255),\n",
       " (255, 255, 255),\n",
       " (255, 255, 255),\n",
       " (255, 255, 255),\n",
       " (255, 255, 255),\n",
       " (255, 255, 255),\n",
       " (255, 255, 255),\n",
       " (255, 255, 255),\n",
       " (255, 255, 255),\n",
       " (255, 255, 255),\n",
       " (255, 255, 255),\n",
       " (255, 255, 255),\n",
       " (255, 255, 255),\n",
       " (255, 255, 255),\n",
       " (255, 255, 255),\n",
       " (255, 255, 255),\n",
       " (255, 255, 255),\n",
       " (255, 255, 255),\n",
       " (255, 255, 255),\n",
       " (255, 255, 255),\n",
       " (255, 255, 255),\n",
       " (255, 255, 255),\n",
       " (255, 255, 255),\n",
       " (255, 255, 255),\n",
       " (255, 255, 255),\n",
       " (255, 255, 255),\n",
       " (255, 255, 255),\n",
       " (255, 255, 255),\n",
       " (255, 255, 255),\n",
       " (255, 255, 255),\n",
       " (255, 255, 255),\n",
       " (255, 255, 255),\n",
       " (255, 255, 255),\n",
       " (255, 255, 255),\n",
       " (255, 255, 255),\n",
       " (255, 255, 255),\n",
       " (255, 255, 255),\n",
       " (255, 255, 255),\n",
       " (255, 255, 255),\n",
       " (255, 255, 255),\n",
       " (255, 255, 255),\n",
       " (255, 255, 255),\n",
       " (255, 255, 255),\n",
       " (255, 255, 255),\n",
       " (255, 255, 255),\n",
       " (255, 255, 255),\n",
       " (255, 255, 255),\n",
       " (255, 255, 255),\n",
       " (255, 255, 255),\n",
       " (255, 255, 255),\n",
       " (255, 255, 255),\n",
       " (255, 255, 255),\n",
       " (255, 255, 255),\n",
       " (255, 255, 255),\n",
       " (255, 255, 255),\n",
       " (255, 255, 255),\n",
       " (255, 255, 255),\n",
       " (255, 255, 255),\n",
       " (255, 255, 255),\n",
       " (255, 255, 255),\n",
       " (255, 255, 255),\n",
       " (255, 255, 255),\n",
       " (255, 255, 255),\n",
       " (255, 255, 255),\n",
       " (255, 255, 255),\n",
       " (255, 255, 255),\n",
       " (255, 255, 255),\n",
       " (255, 255, 255),\n",
       " (255, 255, 255),\n",
       " (255, 255, 255),\n",
       " (255, 255, 255),\n",
       " (255, 255, 255),\n",
       " (255, 255, 255),\n",
       " (255, 255, 255),\n",
       " (255, 255, 255),\n",
       " (255, 255, 255),\n",
       " (255, 255, 255),\n",
       " (255, 255, 255),\n",
       " (255, 255, 255),\n",
       " (255, 255, 255),\n",
       " (255, 255, 255),\n",
       " (255, 255, 255),\n",
       " (255, 255, 255),\n",
       " (255, 255, 255),\n",
       " (255, 255, 255),\n",
       " (255, 255, 255),\n",
       " (255, 255, 255),\n",
       " (255, 255, 255),\n",
       " (255, 255, 255),\n",
       " (255, 255, 255),\n",
       " (255, 255, 255),\n",
       " (255, 255, 255),\n",
       " (255, 255, 255),\n",
       " (255, 255, 255),\n",
       " (255, 255, 255),\n",
       " (255, 255, 255),\n",
       " (255, 255, 255),\n",
       " (255, 255, 255),\n",
       " (255, 255, 255),\n",
       " (255, 255, 255),\n",
       " (255, 255, 255),\n",
       " (255, 255, 255),\n",
       " (255, 255, 255),\n",
       " (255, 255, 255),\n",
       " (255, 255, 255),\n",
       " (255, 255, 255),\n",
       " (255, 255, 255),\n",
       " (255, 255, 255),\n",
       " (255, 255, 255),\n",
       " (255, 255, 255),\n",
       " (255, 255, 255),\n",
       " (255, 255, 255),\n",
       " (255, 255, 255),\n",
       " (255, 255, 255),\n",
       " (255, 255, 255),\n",
       " (255, 255, 255),\n",
       " (255, 255, 255),\n",
       " (255, 255, 255),\n",
       " (255, 255, 255),\n",
       " (255, 255, 255),\n",
       " (255, 255, 255),\n",
       " (255, 255, 255),\n",
       " (255, 255, 255),\n",
       " (255, 255, 255),\n",
       " (255, 255, 255),\n",
       " (255, 255, 255),\n",
       " (255, 255, 255),\n",
       " (255, 255, 255),\n",
       " (255, 255, 255),\n",
       " (255, 255, 255),\n",
       " (255, 255, 255),\n",
       " (255, 255, 255),\n",
       " (255, 255, 255),\n",
       " (255, 255, 255),\n",
       " (255, 255, 255),\n",
       " (255, 255, 255),\n",
       " (255, 255, 255),\n",
       " (255, 255, 255),\n",
       " (255, 255, 255),\n",
       " (255, 255, 255),\n",
       " (255, 255, 255),\n",
       " (255, 255, 255),\n",
       " (255, 255, 255),\n",
       " (255, 255, 255),\n",
       " (255, 255, 255),\n",
       " (255, 255, 255),\n",
       " (255, 255, 255),\n",
       " (255, 255, 255),\n",
       " (255, 255, 255),\n",
       " (255, 255, 255),\n",
       " (255, 255, 255),\n",
       " (255, 255, 255),\n",
       " (255, 255, 255),\n",
       " (255, 255, 255),\n",
       " (255, 255, 255),\n",
       " (255, 255, 255),\n",
       " (255, 255, 255),\n",
       " (255, 255, 255),\n",
       " (255, 255, 255),\n",
       " (255, 255, 255),\n",
       " (255, 255, 255),\n",
       " (255, 255, 255),\n",
       " (255, 255, 255),\n",
       " (255, 255, 255),\n",
       " (255, 255, 255),\n",
       " (255, 255, 255),\n",
       " (255, 255, 255),\n",
       " (255, 255, 255),\n",
       " (255, 255, 255),\n",
       " (255, 255, 255),\n",
       " (255, 255, 255),\n",
       " (255, 255, 255),\n",
       " (255, 255, 255),\n",
       " (255, 255, 255),\n",
       " (255, 255, 255),\n",
       " (255, 255, 255),\n",
       " (255, 255, 255),\n",
       " (255, 255, 255),\n",
       " (255, 255, 255),\n",
       " (255, 255, 255),\n",
       " (255, 255, 255),\n",
       " (255, 255, 255),\n",
       " (255, 255, 255),\n",
       " (255, 255, 255),\n",
       " (255, 255, 255),\n",
       " (255, 255, 255),\n",
       " (255, 255, 255),\n",
       " (255, 255, 255),\n",
       " (255, 255, 255),\n",
       " (255, 255, 255),\n",
       " (255, 255, 255),\n",
       " (255, 255, 255),\n",
       " (255, 255, 255),\n",
       " (255, 255, 255),\n",
       " (255, 255, 255),\n",
       " (255, 255, 255),\n",
       " (255, 255, 255),\n",
       " (255, 255, 255),\n",
       " (255, 255, 255),\n",
       " (255, 255, 255),\n",
       " (255, 255, 255),\n",
       " (255, 255, 255),\n",
       " (255, 255, 255),\n",
       " (255, 255, 255),\n",
       " (255, 255, 255),\n",
       " (255, 255, 255),\n",
       " (255, 255, 255),\n",
       " (255, 255, 255),\n",
       " (255, 255, 255),\n",
       " (255, 255, 255),\n",
       " (255, 255, 255),\n",
       " (255, 255, 255),\n",
       " (255, 255, 255),\n",
       " (255, 255, 255),\n",
       " (255, 255, 255),\n",
       " (255, 255, 255),\n",
       " (255, 255, 255),\n",
       " (255, 255, 255),\n",
       " (255, 255, 255),\n",
       " (255, 255, 255),\n",
       " (255, 255, 255),\n",
       " (255, 255, 255),\n",
       " (255, 255, 255),\n",
       " (255, 255, 255),\n",
       " (255, 255, 255),\n",
       " (255, 255, 255),\n",
       " (255, 255, 255),\n",
       " (255, 255, 255),\n",
       " (255, 255, 255),\n",
       " (255, 255, 255),\n",
       " (255, 255, 255),\n",
       " (255, 255, 255),\n",
       " (255, 255, 255),\n",
       " (255, 255, 255),\n",
       " (255, 255, 255),\n",
       " (255, 255, 255),\n",
       " (255, 255, 255),\n",
       " (255, 255, 255),\n",
       " (255, 255, 255),\n",
       " (255, 255, 255),\n",
       " (255, 255, 255),\n",
       " (255, 255, 255),\n",
       " (255, 255, 255),\n",
       " (255, 255, 255),\n",
       " (255, 255, 255),\n",
       " (255, 255, 255),\n",
       " (255, 255, 255),\n",
       " (255, 255, 255),\n",
       " (255, 255, 255),\n",
       " (255, 255, 255),\n",
       " (255, 255, 255),\n",
       " (255, 255, 255),\n",
       " (255, 255, 255),\n",
       " (255, 255, 255),\n",
       " (255, 255, 255),\n",
       " (255, 255, 255),\n",
       " (255, 255, 255),\n",
       " (255, 255, 255),\n",
       " (255, 255, 255),\n",
       " (255, 255, 255),\n",
       " (255, 255, 255),\n",
       " (255, 255, 255),\n",
       " (255, 255, 255),\n",
       " (255, 255, 255),\n",
       " (255, 255, 255),\n",
       " (255, 255, 255),\n",
       " (255, 255, 255),\n",
       " (255, 255, 255),\n",
       " (255, 255, 255),\n",
       " (255, 255, 255),\n",
       " (255, 255, 255),\n",
       " (255, 255, 255),\n",
       " (255, 255, 255),\n",
       " (255, 255, 255),\n",
       " (255, 255, 255),\n",
       " (255, 255, 255),\n",
       " (255, 255, 255),\n",
       " (255, 255, 255),\n",
       " (255, 255, 255),\n",
       " (255, 255, 255),\n",
       " (255, 255, 255),\n",
       " (255, 255, 255),\n",
       " (255, 255, 255),\n",
       " (255, 255, 255),\n",
       " (255, 255, 255),\n",
       " (255, 255, 255),\n",
       " (255, 255, 255),\n",
       " (255, 255, 255),\n",
       " (255, 255, 255),\n",
       " (255, 255, 255),\n",
       " (255, 255, 255),\n",
       " (255, 255, 255),\n",
       " (255, 255, 255),\n",
       " (255, 255, 255),\n",
       " (255, 255, 255),\n",
       " (255, 255, 255),\n",
       " (255, 255, 255),\n",
       " (255, 255, 255),\n",
       " (255, 255, 255),\n",
       " (255, 255, 255),\n",
       " (255, 255, 255),\n",
       " (255, 255, 255),\n",
       " (255, 255, 255),\n",
       " (255, 255, 255),\n",
       " (255, 255, 255),\n",
       " (255, 255, 255),\n",
       " (255, 255, 255),\n",
       " (255, 255, 255),\n",
       " (255, 255, 255),\n",
       " (255, 255, 255),\n",
       " (255, 255, 255),\n",
       " (255, 255, 255),\n",
       " (255, 255, 255),\n",
       " (255, 255, 255),\n",
       " (255, 255, 255),\n",
       " (255, 255, 255),\n",
       " (255, 255, 255),\n",
       " (255, 255, 255),\n",
       " (255, 255, 255),\n",
       " (255, 255, 255),\n",
       " (255, 255, 255),\n",
       " (255, 255, 255),\n",
       " (255, 255, 255),\n",
       " (255, 255, 255),\n",
       " (255, 255, 255),\n",
       " (255, 255, 255),\n",
       " (255, 255, 255),\n",
       " (255, 255, 255),\n",
       " (255, 255, 255),\n",
       " (255, 255, 255),\n",
       " (255, 255, 255),\n",
       " (255, 255, 255),\n",
       " (255, 255, 255),\n",
       " (255, 255, 255),\n",
       " (255, 255, 255),\n",
       " (255, 255, 255),\n",
       " (255, 255, 255),\n",
       " (255, 255, 255),\n",
       " (255, 255, 255),\n",
       " (255, 255, 255),\n",
       " (255, 255, 255),\n",
       " (255, 255, 255),\n",
       " (255, 255, 255),\n",
       " (255, 255, 255),\n",
       " (255, 255, 255),\n",
       " (255, 255, 255),\n",
       " (255, 255, 255),\n",
       " (255, 255, 255),\n",
       " (255, 255, 255),\n",
       " (255, 255, 255),\n",
       " (255, 255, 255),\n",
       " (255, 255, 255),\n",
       " (255, 255, 255),\n",
       " (255, 255, 255),\n",
       " (255, 255, 255),\n",
       " (255, 255, 255),\n",
       " (255, 255, 255),\n",
       " (255, 255, 255),\n",
       " (255, 255, 255),\n",
       " (255, 255, 255),\n",
       " (255, 255, 255),\n",
       " (255, 255, 255),\n",
       " (255, 255, 255),\n",
       " (255, 255, 255),\n",
       " (255, 255, 255),\n",
       " (255, 255, 255),\n",
       " (255, 255, 255),\n",
       " (255, 255, 255),\n",
       " (255, 255, 255),\n",
       " (255, 255, 255),\n",
       " (255, 255, 255),\n",
       " (255, 255, 255),\n",
       " (255, 255, 255),\n",
       " (255, 255, 255),\n",
       " (255, 255, 255),\n",
       " (255, 255, 255),\n",
       " (255, 255, 255),\n",
       " (255, 255, 255),\n",
       " (255, 255, 255),\n",
       " (255, 255, 255),\n",
       " (255, 255, 255),\n",
       " (255, 255, 255),\n",
       " (255, 255, 255),\n",
       " (255, 255, 255),\n",
       " (255, 255, 255),\n",
       " (255, 255, 255),\n",
       " (255, 255, 255),\n",
       " (255, 255, 255),\n",
       " (255, 255, 255),\n",
       " (255, 255, 255),\n",
       " (255, 255, 255),\n",
       " (255, 255, 255),\n",
       " (255, 255, 255),\n",
       " (255, 255, 255),\n",
       " (255, 255, 255),\n",
       " (255, 255, 255),\n",
       " (255, 255, 255),\n",
       " (255, 255, 255),\n",
       " (255, 255, 255),\n",
       " (255, 255, 255),\n",
       " (255, 255, 255),\n",
       " (255, 255, 255),\n",
       " (255, 255, 255),\n",
       " (255, 255, 255),\n",
       " (255, 255, 255),\n",
       " (255, 255, 255),\n",
       " (255, 255, 255),\n",
       " (255, 255, 255),\n",
       " (255, 255, 255),\n",
       " (255, 255, 255),\n",
       " (255, 255, 255),\n",
       " (255, 255, 255),\n",
       " (255, 255, 255),\n",
       " (255, 255, 255),\n",
       " (255, 255, 255),\n",
       " (255, 255, 255),\n",
       " (255, 255, 255),\n",
       " (255, 255, 255),\n",
       " (255, 255, 255),\n",
       " (255, 255, 255),\n",
       " (255, 255, 255),\n",
       " (255, 255, 255),\n",
       " (255, 255, 255),\n",
       " (255, 255, 255),\n",
       " (255, 255, 255),\n",
       " (255, 255, 255),\n",
       " (255, 255, 255),\n",
       " (255, 255, 255),\n",
       " (255, 255, 255),\n",
       " (255, 255, 255),\n",
       " (255, 255, 255),\n",
       " (255, 255, 255),\n",
       " (255, 255, 255),\n",
       " (255, 255, 255),\n",
       " (255, 255, 255),\n",
       " (255, 255, 255),\n",
       " (255, 255, 255),\n",
       " (255, 255, 255),\n",
       " (255, 255, 255),\n",
       " (255, 255, 255),\n",
       " (255, 255, 255),\n",
       " (255, 255, 255),\n",
       " (255, 255, 255),\n",
       " (255, 255, 255),\n",
       " ...]"
      ]
     },
     "execution_count": 81,
     "metadata": {},
     "output_type": "execute_result"
    }
   ],
   "source": [
    "list(imagem.getdata())"
   ]
  },
  {
   "cell_type": "code",
   "execution_count": null,
   "id": "6e72744b",
   "metadata": {
    "ExecuteTime": {
     "end_time": "2021-10-05T22:27:05.752242Z",
     "start_time": "2021-10-05T22:27:05.740273Z"
    }
   },
   "outputs": [],
   "source": [
    "img = Image.open('imagens teste/s.png').convert('L')  # convert image to 8-bit grayscale\n",
    "img= img.resize((28,28))\n",
    "WIDTH, HEIGHT = img.size\n",
    "\n",
    "newdata = list(img.getdata()) # convert image data to a list of integers\n",
    "# convert that to 2D list (list of lists of integers)\n",
    "newdata = [newdata[offset:offset+WIDTH]for offset in range(0, WIDTH*HEIGHT, WIDTH)]\n"
   ]
  },
  {
   "cell_type": "code",
   "execution_count": 103,
   "id": "63efc756",
   "metadata": {
    "ExecuteTime": {
     "end_time": "2021-10-05T22:27:36.896314Z",
     "start_time": "2021-10-05T22:27:36.892324Z"
    }
   },
   "outputs": [],
   "source": [
    "newdata=np.array(data)/255"
   ]
  },
  {
   "cell_type": "code",
   "execution_count": 107,
   "id": "9cf8106e",
   "metadata": {
    "ExecuteTime": {
     "end_time": "2021-10-05T22:28:34.146041Z",
     "start_time": "2021-10-05T22:28:33.859730Z"
    }
   },
   "outputs": [
    {
     "data": {
      "text/plain": [
       "<matplotlib.image.AxesImage at 0x1e6be80ed60>"
      ]
     },
     "execution_count": 107,
     "metadata": {},
     "output_type": "execute_result"
    },
    {
     "data": {
      "image/png": "[encoded data removed]",
      "text/plain": [
       "<Figure size 432x288 with 1 Axes>"
      ]
     },
     "metadata": {
      "needs_background": "light"
     },
     "output_type": "display_data"
    }
   ],
   "source": [
    "plt.imshow(np.array(newdata).reshape(28,28,1))"
   ]
  },
  {
   "cell_type": "code",
   "execution_count": 141,
   "id": "10e1d455",
   "metadata": {
    "ExecuteTime": {
     "end_time": "2021-10-05T22:42:54.517377Z",
     "start_time": "2021-10-05T22:42:54.506373Z"
    }
   },
   "outputs": [],
   "source": [
    "newdata=newdata.reshape(1,28,28,1)"
   ]
  },
  {
   "cell_type": "code",
   "execution_count": 142,
   "id": "d0db8bbb",
   "metadata": {
    "ExecuteTime": {
     "end_time": "2021-10-05T22:42:55.573905Z",
     "start_time": "2021-10-05T22:42:55.565926Z"
    }
   },
   "outputs": [
    {
     "data": {
      "text/plain": [
       "(1, 28, 28, 1)"
      ]
     },
     "execution_count": 142,
     "metadata": {},
     "output_type": "execute_result"
    }
   ],
   "source": [
    "newdata.shape"
   ]
  },
  {
   "cell_type": "code",
   "execution_count": 144,
   "id": "48985108",
   "metadata": {
    "ExecuteTime": {
     "end_time": "2021-10-05T22:43:38.423252Z",
     "start_time": "2021-10-05T22:43:38.362459Z"
    }
   },
   "outputs": [],
   "source": [
    "predict=loaded_model.predict(newdata)"
   ]
  },
  {
   "cell_type": "code",
   "execution_count": 145,
   "id": "4c995abd",
   "metadata": {
    "ExecuteTime": {
     "end_time": "2021-10-05T22:43:53.730353Z",
     "start_time": "2021-10-05T22:43:53.717386Z"
    }
   },
   "outputs": [
    {
     "data": {
      "text/plain": [
       "18"
      ]
     },
     "execution_count": 145,
     "metadata": {},
     "output_type": "execute_result"
    }
   ],
   "source": [
    "predict.argmax()"
   ]
  },
  {
   "cell_type": "code",
   "execution_count": 147,
   "id": "f1c3ac03",
   "metadata": {
    "ExecuteTime": {
     "end_time": "2021-10-05T22:50:46.635996Z",
     "start_time": "2021-10-05T22:50:46.629980Z"
    }
   },
   "outputs": [],
   "source": [
    "word_dict = {0:'A',1:'B',2:'C',3:'D',4:'E',5:'F',6:'G',7:'H',8:'I',9:'J',10:'K',11:'L',12:'M',13:'N',14:'O',15:'P',16:'Q',17:'R',18:'S',19:'T',20:'U',21:'V',22:'W',23:'X', 24:'Y',25:'Z'}"
   ]
  },
  {
   "cell_type": "code",
   "execution_count": 151,
   "id": "c174a42d",
   "metadata": {
    "ExecuteTime": {
     "end_time": "2021-10-05T22:51:22.336707Z",
     "start_time": "2021-10-05T22:51:22.330723Z"
    }
   },
   "outputs": [
    {
     "data": {
      "text/plain": [
       "['A',\n",
       " 'B',\n",
       " 'C',\n",
       " 'D',\n",
       " 'E',\n",
       " 'F',\n",
       " 'G',\n",
       " 'H',\n",
       " 'I',\n",
       " 'J',\n",
       " 'K',\n",
       " 'L',\n",
       " 'M',\n",
       " 'N',\n",
       " 'O',\n",
       " 'P',\n",
       " 'Q',\n",
       " 'R',\n",
       " 'S',\n",
       " 'T',\n",
       " 'U',\n",
       " 'V',\n",
       " 'W',\n",
       " 'X',\n",
       " 'Y',\n",
       " 'Z']"
      ]
     },
     "execution_count": 151,
     "metadata": {},
     "output_type": "execute_result"
    }
   ],
   "source": [
    "list(word_dict.values())"
   ]
  },
  {
   "cell_type": "code",
   "execution_count": null,
   "id": "e2e8d291",
   "metadata": {},
   "outputs": [],
   "source": []
  },
  {
   "cell_type": "code",
   "execution_count": null,
   "id": "3dd9cf9d",
   "metadata": {},
   "outputs": [],
   "source": []
  },
  {
   "cell_type": "code",
   "execution_count": null,
   "id": "acf15331",
   "metadata": {},
   "outputs": [],
   "source": [
    "model.evaluate(X_test,y_test, verbose=0)"
   ]
  },
  {
   "cell_type": "code",
   "execution_count": null,
   "id": "1ee7566f",
   "metadata": {},
   "outputs": [],
   "source": []
  }
 ],
 "metadata": {
  "kernelspec": {
   "display_name": "Python 3",
   "language": "python",
   "name": "python3"
  },
  "language_info": {
   "codemirror_mode": {
    "name": "ipython",
    "version": 3
   },
   "file_extension": ".py",
   "mimetype": "text/x-python",
   "name": "python",
   "nbconvert_exporter": "python",
   "pygments_lexer": "ipython3",
   "version": "3.8.8"
  },
  "toc": {
   "base_numbering": 1,
   "nav_menu": {},
   "number_sections": true,
   "sideBar": true,
   "skip_h1_title": false,
   "title_cell": "Table of Contents",
   "title_sidebar": "Contents",
   "toc_cell": false,
   "toc_position": {},
   "toc_section_display": true,
   "toc_window_display": false
  },
  "varInspector": {
   "cols": {
    "lenName": 16,
    "lenType": 16,
    "lenVar": 40
   },
   "kernels_config": {
    "python": {
     "delete_cmd_postfix": "",
     "delete_cmd_prefix": "del ",
     "library": "var_list.py",
     "varRefreshCmd": "print(var_dic_list())"
    },
    "r": {
     "delete_cmd_postfix": ") ",
     "delete_cmd_prefix": "rm(",
     "library": "var_list.r",
     "varRefreshCmd": "cat(var_dic_list()) "
    }
   },
   "types_to_exclude": [
    "module",
    "function",
    "builtin_function_or_method",
    "instance",
    "_Feature"
   ],
   "window_display": false
  }
 },
 "nbformat": 4,
 "nbformat_minor": 5
}
