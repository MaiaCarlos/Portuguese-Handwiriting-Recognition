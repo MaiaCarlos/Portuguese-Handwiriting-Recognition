{
 "cells": [
  {
   "cell_type": "code",
   "execution_count": 11,
   "id": "41f308ed",
   "metadata": {
    "ExecuteTime": {
     "end_time": "2021-10-07T15:58:10.184046Z",
     "start_time": "2021-10-07T15:58:10.161073Z"
    }
   },
   "outputs": [],
   "source": [
    "def draw():\n",
    "    import tkinter\n",
    "    from PIL import Image, ImageTk, ImageDraw\n",
    "    import PIL\n",
    "    \n",
    "    width=500\n",
    "    height=500\n",
    "    white = (255, 255, 255)\n",
    "\n",
    "    def save_picture():\n",
    "        filename =\"image.png\"\n",
    "        image1.save(filename)\n",
    "\n",
    "    def paint(event):\n",
    "        x1,y1=(event.x-6),(event.y-6)\n",
    "        x2,y2 = (event.x+6), (event.y+6)\n",
    "        canvas.create_oval(x1,y1,x2,y2, fill='red', width=25)\n",
    "        draw.line([x1,y1,x2,y2], fill='black',width=25)\n",
    "\n",
    "\n",
    "    app = tkinter.Tk()\n",
    "    canvas = tkinter.Canvas(app, width=width, height=height, bg='white')\n",
    "    canvas.pack()\n",
    "\n",
    "\n",
    "\n",
    "    image1=PIL.Image.new('RGB', (width, height), white)\n",
    "    draw=ImageDraw.Draw(image1)\n",
    "\n",
    "    canvas.pack(expand=YES, fill=BOTH)\n",
    "\n",
    "    canvas.bind(\"<B1-Motion>\", paint)\n",
    "\n",
    "\n",
    "    button = tkinter.Button(\n",
    "        text=\"Save Picture!\",\n",
    "        width=25,\n",
    "        height=5,\n",
    "        bg=\"blue\",\n",
    "        fg=\"yellow\",\n",
    "        command=save_picture\n",
    "    )\n",
    "\n",
    "\n",
    "    button.pack()\n",
    "\n",
    "    app.mainloop()\n",
    "\n",
    "\n",
    "\n",
    "\n"
   ]
  },
  {
   "cell_type": "code",
   "execution_count": 12,
   "id": "afcb0d4e",
   "metadata": {
    "ExecuteTime": {
     "end_time": "2021-10-07T15:58:42.805192Z",
     "start_time": "2021-10-07T15:58:35.483539Z"
    }
   },
   "outputs": [],
   "source": [
    "draw()"
   ]
  },
  {
   "cell_type": "code",
   "execution_count": null,
   "id": "ee768762",
   "metadata": {},
   "outputs": [],
   "source": []
  }
 ],
 "metadata": {
  "kernelspec": {
   "display_name": "Python 3",
   "language": "python",
   "name": "python3"
  },
  "language_info": {
   "codemirror_mode": {
    "name": "ipython",
    "version": 3
   },
   "file_extension": ".py",
   "mimetype": "text/x-python",
   "name": "python",
   "nbconvert_exporter": "python",
   "pygments_lexer": "ipython3",
   "version": "3.8.8"
  },
  "toc": {
   "base_numbering": 1,
   "nav_menu": {},
   "number_sections": true,
   "sideBar": true,
   "skip_h1_title": false,
   "title_cell": "Table of Contents",
   "title_sidebar": "Contents",
   "toc_cell": false,
   "toc_position": {},
   "toc_section_display": true,
   "toc_window_display": false
  },
  "varInspector": {
   "cols": {
    "lenName": 16,
    "lenType": 16,
    "lenVar": 40
   },
   "kernels_config": {
    "python": {
     "delete_cmd_postfix": "",
     "delete_cmd_prefix": "del ",
     "library": "var_list.py",
     "varRefreshCmd": "print(var_dic_list())"
    },
    "r": {
     "delete_cmd_postfix": ") ",
     "delete_cmd_prefix": "rm(",
     "library": "var_list.r",
     "varRefreshCmd": "cat(var_dic_list()) "
    }
   },
   "types_to_exclude": [
    "module",
    "function",
    "builtin_function_or_method",
    "instance",
    "_Feature"
   ],
   "window_display": false
  }
 },
 "nbformat": 4,
 "nbformat_minor": 5
}
