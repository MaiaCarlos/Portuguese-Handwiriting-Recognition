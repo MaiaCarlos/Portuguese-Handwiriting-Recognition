{
 "cells": [
  {
   "cell_type": "code",
   "execution_count": 1,
   "id": "740c4e42",
   "metadata": {
    "ExecuteTime": {
     "end_time": "2021-10-07T16:25:48.751837Z",
     "start_time": "2021-10-07T16:25:48.729647Z"
    }
   },
   "outputs": [],
   "source": [
    "from Libraries_Recognize import draw, image_treat"
   ]
  },
  {
   "cell_type": "markdown",
   "id": "27b6b747",
   "metadata": {
    "ExecuteTime": {
     "end_time": "2021-10-07T16:27:15.553260Z",
     "start_time": "2021-10-07T16:27:15.545270Z"
    }
   },
   "source": [
    "# Desenhar "
   ]
  },
  {
   "cell_type": "code",
   "execution_count": 11,
   "id": "99afa343",
   "metadata": {
    "ExecuteTime": {
     "end_time": "2021-10-07T16:36:32.793987Z",
     "start_time": "2021-10-07T16:36:20.013910Z"
    }
   },
   "outputs": [],
   "source": [
    "draw()"
   ]
  },
  {
   "cell_type": "markdown",
   "id": "b930f401",
   "metadata": {
    "ExecuteTime": {
     "end_time": "2021-10-07T16:27:44.875279Z",
     "start_time": "2021-10-07T16:27:44.862313Z"
    }
   },
   "source": [
    "# Tratamento de Imagem"
   ]
  },
  {
   "cell_type": "code",
   "execution_count": 12,
   "id": "f0417bc2",
   "metadata": {
    "ExecuteTime": {
     "end_time": "2021-10-07T16:36:33.981023Z",
     "start_time": "2021-10-07T16:36:33.853969Z"
    }
   },
   "outputs": [
    {
     "data": {
      "image/png": "[encoded data removed]",
      "text/plain": [
       "<Figure size 432x288 with 1 Axes>"
      ]
     },
     "metadata": {
      "needs_background": "light"
     },
     "output_type": "display_data"
    }
   ],
   "source": [
    "image_treat()"
   ]
  },
  {
   "cell_type": "markdown",
   "id": "28a1bc8e",
   "metadata": {},
   "source": [
    "# LGBM Predict"
   ]
  },
  {
   "cell_type": "code",
   "execution_count": null,
   "id": "ef07b7e4",
   "metadata": {},
   "outputs": [],
   "source": []
  }
 ],
 "metadata": {
  "kernelspec": {
   "display_name": "Python 3",
   "language": "python",
   "name": "python3"
  },
  "language_info": {
   "codemirror_mode": {
    "name": "ipython",
    "version": 3
   },
   "file_extension": ".py",
   "mimetype": "text/x-python",
   "name": "python",
   "nbconvert_exporter": "python",
   "pygments_lexer": "ipython3",
   "version": "3.8.8"
  },
  "toc": {
   "base_numbering": 1,
   "nav_menu": {},
   "number_sections": true,
   "sideBar": true,
   "skip_h1_title": false,
   "title_cell": "Table of Contents",
   "title_sidebar": "Contents",
   "toc_cell": false,
   "toc_position": {},
   "toc_section_display": true,
   "toc_window_display": false
  },
  "varInspector": {
   "cols": {
    "lenName": 16,
    "lenType": 16,
    "lenVar": 40
   },
   "kernels_config": {
    "python": {
     "delete_cmd_postfix": "",
     "delete_cmd_prefix": "del ",
     "library": "var_list.py",
     "varRefreshCmd": "print(var_dic_list())"
    },
    "r": {
     "delete_cmd_postfix": ") ",
     "delete_cmd_prefix": "rm(",
     "library": "var_list.r",
     "varRefreshCmd": "cat(var_dic_list()) "
    }
   },
   "types_to_exclude": [
    "module",
    "function",
    "builtin_function_or_method",
    "instance",
    "_Feature"
   ],
   "window_display": false
  }
 },
 "nbformat": 4,
 "nbformat_minor": 5
}
