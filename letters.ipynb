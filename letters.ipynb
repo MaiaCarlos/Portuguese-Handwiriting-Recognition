{
 "cells": [
  {
   "cell_type": "markdown",
   "id": "8f53c2a6",
   "metadata": {},
   "source": [
    "# **IMPORTING THE LIBRARIES**"
   ]
  },
  {
   "cell_type": "code",
   "execution_count": 1,
   "id": "0d4f3dc7",
   "metadata": {
    "ExecuteTime": {
     "end_time": "2021-10-06T22:26:33.819449Z",
     "start_time": "2021-10-06T22:26:28.070254Z"
    }
   },
   "outputs": [],
   "source": [
    "from tensorflow import keras "
   ]
  },
  {
   "cell_type": "code",
   "execution_count": 2,
   "id": "84a9959b",
   "metadata": {
    "ExecuteTime": {
     "end_time": "2021-10-06T22:26:37.422006Z",
     "start_time": "2021-10-06T22:26:34.415153Z"
    }
   },
   "outputs": [],
   "source": [
    "import pandas as pd\n",
    "import numpy as pn\n",
    "import matplotlib.pyplot as plt\n",
    "from lightgbm import LGBMClassifier\n",
    "from sklearn.model_selection import train_test_split\n",
    "from sklearn.metrics import roc_auc_score\n",
    "from lightgbm import plot_importance\n",
    "from sklearn.model_selection import learning_curve\n",
    "from sklearn.metrics import plot_confusion_matrix, confusion_matrix\n",
    "import seaborn as sns\n",
    "from keras.utils import np_utils\n",
    "from keras.models import model_from_json\n",
    "\n",
    "\n",
    "import cv2\n",
    "from keras.models import Sequential\n",
    "from keras.layers import Dense, Flatten, Conv2D, MaxPool2D, Dropout\n",
    "#from keras.optimizers import  Adam\n",
    "from keras.callbacks import ReduceLROnPlateau, EarlyStopping\n",
    "#from keras.utils import to_categorical\n",
    "from tensorflow.keras.optimizers import Adam\n",
    "from sklearn.utils import shuffle\n",
    "\n",
    "\n",
    "import numpy as np \n",
    "import pandas as pd \n",
    "import matplotlib.pyplot as plt\n",
    "import seaborn as sns\n",
    "import os\n",
    "from sklearn.preprocessing import MinMaxScaler\n",
    "import tensorflow as tf\n",
    "from keras.models import Sequential\n",
    "from keras.layers import Dense\n",
    "from keras.layers import Dropout\n",
    "from keras.layers import Flatten\n",
    "from keras.layers.convolutional import Conv2D\n",
    "from keras.layers.convolutional import MaxPooling2D\n",
    "from keras import backend as K\n",
    "from keras.utils import np_utils\n",
    "from sklearn.model_selection import train_test_split\n",
    "from sklearn.metrics import confusion_matrix\n",
    "\n",
    "#ignore warning messages \n",
    "import warnings\n",
    "warnings.filterwarnings('ignore') "
   ]
  },
  {
   "cell_type": "markdown",
   "id": "b82fac95",
   "metadata": {},
   "source": [
    "# **LOADING THE DATASET**"
   ]
  },
  {
   "cell_type": "code",
   "execution_count": 3,
   "id": "4a70fb11",
   "metadata": {
    "ExecuteTime": {
     "end_time": "2021-10-06T22:26:40.317877Z",
     "start_time": "2021-10-06T22:26:40.303909Z"
    }
   },
   "outputs": [],
   "source": [
    "listapixel=[f'pixel_{x}'for x in range(784)]\n",
    "listapixel= ['target']+listapixel"
   ]
  },
  {
   "cell_type": "code",
   "execution_count": 4,
   "id": "7c290163",
   "metadata": {
    "ExecuteTime": {
     "end_time": "2021-10-06T22:27:01.457500Z",
     "start_time": "2021-10-06T22:26:42.426113Z"
    }
   },
   "outputs": [],
   "source": [
    "data= pd.read_csv('A_Z Handwritten Data.csv', names= listapixel)"
   ]
  },
  {
   "cell_type": "markdown",
   "id": "52d7e8a7",
   "metadata": {},
   "source": [
    "# EXPLORATORY DATA ANALYSIS"
   ]
  },
  {
   "cell_type": "code",
   "execution_count": 5,
   "id": "3f8182d9",
   "metadata": {
    "ExecuteTime": {
     "end_time": "2021-10-06T22:27:14.787518Z",
     "start_time": "2021-10-06T22:27:14.767264Z"
    }
   },
   "outputs": [
    {
     "data": {
      "text/html": [
       "<div>\n",
       "<style scoped>\n",
       "    .dataframe tbody tr th:only-of-type {\n",
       "        vertical-align: middle;\n",
       "    }\n",
       "\n",
       "    .dataframe tbody tr th {\n",
       "        vertical-align: top;\n",
       "    }\n",
       "\n",
       "    .dataframe thead th {\n",
       "        text-align: right;\n",
       "    }\n",
       "</style>\n",
       "<table border=\"1\" class=\"dataframe\">\n",
       "  <thead>\n",
       "    <tr style=\"text-align: right;\">\n",
       "      <th></th>\n",
       "      <th>target</th>\n",
       "      <th>pixel_0</th>\n",
       "      <th>pixel_1</th>\n",
       "      <th>pixel_2</th>\n",
       "      <th>pixel_3</th>\n",
       "      <th>pixel_4</th>\n",
       "      <th>pixel_5</th>\n",
       "      <th>pixel_6</th>\n",
       "      <th>pixel_7</th>\n",
       "      <th>pixel_8</th>\n",
       "      <th>...</th>\n",
       "      <th>pixel_774</th>\n",
       "      <th>pixel_775</th>\n",
       "      <th>pixel_776</th>\n",
       "      <th>pixel_777</th>\n",
       "      <th>pixel_778</th>\n",
       "      <th>pixel_779</th>\n",
       "      <th>pixel_780</th>\n",
       "      <th>pixel_781</th>\n",
       "      <th>pixel_782</th>\n",
       "      <th>pixel_783</th>\n",
       "    </tr>\n",
       "  </thead>\n",
       "  <tbody>\n",
       "    <tr>\n",
       "      <th>372446</th>\n",
       "      <td>25</td>\n",
       "      <td>0</td>\n",
       "      <td>0</td>\n",
       "      <td>0</td>\n",
       "      <td>0</td>\n",
       "      <td>0</td>\n",
       "      <td>0</td>\n",
       "      <td>0</td>\n",
       "      <td>0</td>\n",
       "      <td>0</td>\n",
       "      <td>...</td>\n",
       "      <td>0</td>\n",
       "      <td>0</td>\n",
       "      <td>0</td>\n",
       "      <td>0</td>\n",
       "      <td>0</td>\n",
       "      <td>0</td>\n",
       "      <td>0</td>\n",
       "      <td>0</td>\n",
       "      <td>0</td>\n",
       "      <td>0</td>\n",
       "    </tr>\n",
       "    <tr>\n",
       "      <th>372447</th>\n",
       "      <td>25</td>\n",
       "      <td>0</td>\n",
       "      <td>0</td>\n",
       "      <td>0</td>\n",
       "      <td>0</td>\n",
       "      <td>0</td>\n",
       "      <td>0</td>\n",
       "      <td>0</td>\n",
       "      <td>0</td>\n",
       "      <td>0</td>\n",
       "      <td>...</td>\n",
       "      <td>0</td>\n",
       "      <td>0</td>\n",
       "      <td>0</td>\n",
       "      <td>0</td>\n",
       "      <td>0</td>\n",
       "      <td>0</td>\n",
       "      <td>0</td>\n",
       "      <td>0</td>\n",
       "      <td>0</td>\n",
       "      <td>0</td>\n",
       "    </tr>\n",
       "    <tr>\n",
       "      <th>372448</th>\n",
       "      <td>25</td>\n",
       "      <td>0</td>\n",
       "      <td>0</td>\n",
       "      <td>0</td>\n",
       "      <td>0</td>\n",
       "      <td>0</td>\n",
       "      <td>0</td>\n",
       "      <td>0</td>\n",
       "      <td>0</td>\n",
       "      <td>0</td>\n",
       "      <td>...</td>\n",
       "      <td>0</td>\n",
       "      <td>0</td>\n",
       "      <td>0</td>\n",
       "      <td>0</td>\n",
       "      <td>0</td>\n",
       "      <td>0</td>\n",
       "      <td>0</td>\n",
       "      <td>0</td>\n",
       "      <td>0</td>\n",
       "      <td>0</td>\n",
       "    </tr>\n",
       "    <tr>\n",
       "      <th>372449</th>\n",
       "      <td>25</td>\n",
       "      <td>0</td>\n",
       "      <td>0</td>\n",
       "      <td>0</td>\n",
       "      <td>0</td>\n",
       "      <td>0</td>\n",
       "      <td>0</td>\n",
       "      <td>0</td>\n",
       "      <td>0</td>\n",
       "      <td>0</td>\n",
       "      <td>...</td>\n",
       "      <td>0</td>\n",
       "      <td>0</td>\n",
       "      <td>0</td>\n",
       "      <td>0</td>\n",
       "      <td>0</td>\n",
       "      <td>0</td>\n",
       "      <td>0</td>\n",
       "      <td>0</td>\n",
       "      <td>0</td>\n",
       "      <td>0</td>\n",
       "    </tr>\n",
       "    <tr>\n",
       "      <th>372450</th>\n",
       "      <td>25</td>\n",
       "      <td>0</td>\n",
       "      <td>0</td>\n",
       "      <td>0</td>\n",
       "      <td>0</td>\n",
       "      <td>0</td>\n",
       "      <td>0</td>\n",
       "      <td>0</td>\n",
       "      <td>0</td>\n",
       "      <td>0</td>\n",
       "      <td>...</td>\n",
       "      <td>0</td>\n",
       "      <td>0</td>\n",
       "      <td>0</td>\n",
       "      <td>0</td>\n",
       "      <td>0</td>\n",
       "      <td>0</td>\n",
       "      <td>0</td>\n",
       "      <td>0</td>\n",
       "      <td>0</td>\n",
       "      <td>0</td>\n",
       "    </tr>\n",
       "  </tbody>\n",
       "</table>\n",
       "<p>5 rows × 785 columns</p>\n",
       "</div>"
      ],
      "text/plain": [
       "        target  pixel_0  pixel_1  pixel_2  pixel_3  pixel_4  pixel_5  pixel_6  \\\n",
       "372446      25        0        0        0        0        0        0        0   \n",
       "372447      25        0        0        0        0        0        0        0   \n",
       "372448      25        0        0        0        0        0        0        0   \n",
       "372449      25        0        0        0        0        0        0        0   \n",
       "372450      25        0        0        0        0        0        0        0   \n",
       "\n",
       "        pixel_7  pixel_8  ...  pixel_774  pixel_775  pixel_776  pixel_777  \\\n",
       "372446        0        0  ...          0          0          0          0   \n",
       "372447        0        0  ...          0          0          0          0   \n",
       "372448        0        0  ...          0          0          0          0   \n",
       "372449        0        0  ...          0          0          0          0   \n",
       "372450        0        0  ...          0          0          0          0   \n",
       "\n",
       "        pixel_778  pixel_779  pixel_780  pixel_781  pixel_782  pixel_783  \n",
       "372446          0          0          0          0          0          0  \n",
       "372447          0          0          0          0          0          0  \n",
       "372448          0          0          0          0          0          0  \n",
       "372449          0          0          0          0          0          0  \n",
       "372450          0          0          0          0          0          0  \n",
       "\n",
       "[5 rows x 785 columns]"
      ]
     },
     "execution_count": 5,
     "metadata": {},
     "output_type": "execute_result"
    }
   ],
   "source": [
    "data.tail()"
   ]
  },
  {
   "cell_type": "code",
   "execution_count": 6,
   "id": "20ac5f76",
   "metadata": {
    "ExecuteTime": {
     "end_time": "2021-10-06T22:27:16.138882Z",
     "start_time": "2021-10-06T22:27:15.994714Z"
    }
   },
   "outputs": [
    {
     "data": {
      "text/plain": [
       "<matplotlib.image.AxesImage at 0x166edb904c0>"
      ]
     },
     "execution_count": 6,
     "metadata": {},
     "output_type": "execute_result"
    },
    {
     "data": {
      "image/png": "[encoded data removed]",
      "text/plain": [
       "<Figure size 432x288 with 1 Axes>"
      ]
     },
     "metadata": {
      "needs_background": "light"
     },
     "output_type": "display_data"
    }
   ],
   "source": [
    "plt.imshow(data.iloc[2,1:].to_numpy().reshape(28,28))"
   ]
  },
  {
   "cell_type": "code",
   "execution_count": 7,
   "id": "57d22705",
   "metadata": {
    "ExecuteTime": {
     "end_time": "2021-10-06T22:27:18.798227Z",
     "start_time": "2021-10-06T22:27:18.671965Z"
    }
   },
   "outputs": [
    {
     "data": {
      "text/plain": [
       "<matplotlib.image.AxesImage at 0x166f4b777c0>"
      ]
     },
     "execution_count": 7,
     "metadata": {},
     "output_type": "execute_result"
    },
    {
     "data": {
      "image/png": "[encoded data removed]",
      "text/plain": [
       "<Figure size 432x288 with 1 Axes>"
      ]
     },
     "metadata": {
      "needs_background": "light"
     },
     "output_type": "display_data"
    }
   ],
   "source": [
    "plt.imshow(data.iloc[352340,1:].to_numpy().reshape(28,28))"
   ]
  },
  {
   "cell_type": "code",
   "execution_count": null,
   "id": "c9a97600",
   "metadata": {},
   "outputs": [],
   "source": []
  },
  {
   "cell_type": "markdown",
   "id": "205ae086",
   "metadata": {},
   "source": [
    "# DATA PREPARATION\n"
   ]
  },
  {
   "cell_type": "code",
   "execution_count": 8,
   "id": "f9a0053f",
   "metadata": {
    "ExecuteTime": {
     "end_time": "2021-10-06T22:27:23.265298Z",
     "start_time": "2021-10-06T22:27:22.697375Z"
    }
   },
   "outputs": [],
   "source": [
    "X=data.drop('target', axis=1)\n",
    "y=data['target']"
   ]
  },
  {
   "cell_type": "code",
   "execution_count": 9,
   "id": "f2438a4f",
   "metadata": {
    "ExecuteTime": {
     "end_time": "2021-10-06T22:27:26.517797Z",
     "start_time": "2021-10-06T22:27:23.470220Z"
    }
   },
   "outputs": [],
   "source": [
    "X_train, X_test, Y_train, Y_test = train_test_split(X, y, test_size = 0.2)\n",
    "\n",
    "#X_train = X_train.to_numpy().reshape(X_train.shape[0], 28, 28, 1).astype('float32')\n",
    "#X_test = X_test.to_numpy().reshape(X_test.shape[0], 28, 28, 1).astype('float32')"
   ]
  },
  {
   "cell_type": "code",
   "execution_count": 10,
   "id": "8d58edc8",
   "metadata": {
    "ExecuteTime": {
     "end_time": "2021-10-06T22:28:52.093608Z",
     "start_time": "2021-10-06T22:27:26.817939Z"
    }
   },
   "outputs": [
    {
     "data": {
      "text/plain": [
       "LGBMClassifier(colsample_bytree=0.33, max_depth=3, n_estimators=50)"
      ]
     },
     "execution_count": 10,
     "metadata": {},
     "output_type": "execute_result"
    }
   ],
   "source": [
    "lgb = LGBMClassifier(max_depth=3, n_estimators=50, colsample_bytree=.33, n_jobs=-1)\n",
    "lgb.fit(X_train,Y_train)"
   ]
  },
  {
   "cell_type": "code",
   "execution_count": 11,
   "id": "a4549bf4",
   "metadata": {
    "ExecuteTime": {
     "end_time": "2021-10-06T22:29:02.149972Z",
     "start_time": "2021-10-06T22:28:55.764349Z"
    }
   },
   "outputs": [
    {
     "data": {
      "text/plain": [
       "<AxesSubplot:>"
      ]
     },
     "execution_count": 11,
     "metadata": {},
     "output_type": "execute_result"
    },
    {
     "data": {
      "image/png": "[encoded data removed]",
      "text/plain": [
       "<Figure size 1440x2160 with 2 Axes>"
      ]
     },
     "metadata": {
      "needs_background": "light"
     },
     "output_type": "display_data"
    }
   ],
   "source": [
    "fig, ax = plt.subplots(figsize=(20,30) )\n",
    "sns.heatmap(confusion_matrix(Y_test,lgb.predict(X_test)), annot= True, fmt='g')"
   ]
  },
  {
   "cell_type": "code",
   "execution_count": 12,
   "id": "883bfd6d",
   "metadata": {
    "ExecuteTime": {
     "end_time": "2021-10-06T22:29:29.736253Z",
     "start_time": "2021-10-06T22:29:16.710010Z"
    }
   },
   "outputs": [
    {
     "name": "stdout",
     "output_type": "stream",
     "text": [
      "0.9942901361467714\n",
      "0.9929742547674839\n"
     ]
    }
   ],
   "source": [
    "#print(roc_auc_score(Y_train, lgb.predict_proba(X_train)[:, 1],  multi_class='ovr'))\n",
    "\n",
    "print(roc_auc_score(Y_train, lgb.predict_proba(X_train), multi_class='ovo'))\n",
    "print(roc_auc_score(Y_test, lgb.predict_proba(X_test), multi_class='ovo'))"
   ]
  },
  {
   "cell_type": "markdown",
   "id": "a145a9da",
   "metadata": {
    "ExecuteTime": {
     "end_time": "2021-10-04T19:49:19.925912Z",
     "start_time": "2021-10-04T19:49:19.918896Z"
    }
   },
   "source": [
    "# Classification Using CNN"
   ]
  },
  {
   "cell_type": "code",
   "execution_count": 13,
   "id": "aeb6a061",
   "metadata": {
    "ExecuteTime": {
     "end_time": "2021-10-06T22:29:39.121359Z",
     "start_time": "2021-10-06T22:29:35.691797Z"
    }
   },
   "outputs": [],
   "source": [
    "X_train, X_test, y_train, y_test = train_test_split(X, y, test_size = 0.2)\n",
    "X_train = np.reshape(X_train.values, (X_train.shape[0], 28,28,1))\n",
    "X_test = np.reshape(X_test.values, (X_test.shape[0], 28,28,1))\n",
    "\n",
    "#X_test = X_test.reshape(X_test.shape[0],X_test.shape[1],X_test.shape[2],1)).astype('float32')\n",
    "\n",
    "X_train=X_train/255\n",
    "X_test=X_test/255\n",
    "\n",
    "num_classes = len(y.unique())\n",
    "\n",
    "y_train=np_utils.to_categorical(y_train, num_classes=num_classes, dtype='int')\n",
    "y_test=np_utils.to_categorical(y_test, num_classes=num_classes, dtype='int')\n",
    "\n"
   ]
  },
  {
   "cell_type": "markdown",
   "id": "80434127",
   "metadata": {},
   "source": [
    "# Rodar programa até aqui"
   ]
  },
  {
   "cell_type": "code",
   "execution_count": 15,
   "id": "d35992b6",
   "metadata": {
    "ExecuteTime": {
     "end_time": "2021-10-06T22:42:24.156847Z",
     "start_time": "2021-10-06T22:42:23.803305Z"
    }
   },
   "outputs": [
    {
     "name": "stdout",
     "output_type": "stream",
     "text": [
      "Model: \"sequential\"\n",
      "_________________________________________________________________\n",
      "Layer (type)                 Output Shape              Param #   \n",
      "=================================================================\n",
      "conv2d (Conv2D)              (None, 26, 26, 30)        300       \n",
      "_________________________________________________________________\n",
      "max_pooling2d (MaxPooling2D) (None, 25, 25, 30)        0         \n",
      "_________________________________________________________________\n",
      "conv2d_1 (Conv2D)            (None, 23, 23, 30)        8130      \n",
      "_________________________________________________________________\n",
      "max_pooling2d_1 (MaxPooling2 (None, 22, 22, 30)        0         \n",
      "_________________________________________________________________\n",
      "dropout (Dropout)            (None, 22, 22, 30)        0         \n",
      "_________________________________________________________________\n",
      "flatten (Flatten)            (None, 14520)             0         \n",
      "_________________________________________________________________\n",
      "dense (Dense)                (None, 128)               1858688   \n",
      "_________________________________________________________________\n",
      "dense_1 (Dense)              (None, 64)                8256      \n",
      "_________________________________________________________________\n",
      "dense_2 (Dense)              (None, 32)                2080      \n",
      "_________________________________________________________________\n",
      "predict (Dense)              (None, 26)                858       \n",
      "=================================================================\n",
      "Total params: 1,878,312\n",
      "Trainable params: 1,878,312\n",
      "Non-trainable params: 0\n",
      "_________________________________________________________________\n"
     ]
    }
   ],
   "source": [
    "model = Sequential()\n",
    "\n",
    "model.add(Conv2D(filters=30, kernel_size=(3, 3), activation='relu', input_shape=(28,28,1)))\n",
    "model.add(MaxPool2D(pool_size=(2, 2), strides=1))\n",
    "model.add(Conv2D(filters=30, kernel_size=(3, 3), activation='relu', input_shape=(28,28,1)))\n",
    "model.add(MaxPool2D(pool_size=(2, 2), strides=1))\n",
    "model.add(Dropout(0.2))\n",
    "\n",
    "model.add(Flatten()) # transforma a imagem 28 x 28 em 1D para entrada\n",
    "\n",
    "model.add(Dense(128,activation =\"relu\")) #camda ocultacom 128 neuronios\n",
    "model.add(Dense(64,activation =\"relu\")) # camada oculta com 64 neuronios\n",
    "model.add(Dense(32,activation =\"relu\")) # camada oculta com 32 neuronios\n",
    "\n",
    "model.add(Dense(num_classes,activation =\"softmax\", name='predict')) #camada de saída\n",
    "\n",
    "model.compile(loss = 'categorical_crossentropy', optimizer='adam', metrics = ['accuracy']) # loss é a função de perda devemos diminuir este valor\n",
    "model.summary()\n",
    "\n",
    "#history = model.fit(X_train, y_train, validation_data=(X_test, y_test), epochs=18, batch_size=200, verbose=2)"
   ]
  },
  {
   "cell_type": "code",
   "execution_count": 18,
   "id": "e17b7bdb",
   "metadata": {
    "ExecuteTime": {
     "end_time": "2021-10-06T23:45:21.036987Z",
     "start_time": "2021-10-06T22:52:27.705981Z"
    }
   },
   "outputs": [
    {
     "name": "stdout",
     "output_type": "stream",
     "text": [
      "Epoch 1/10\n",
      "1490/1490 [==============================] - 313s 210ms/step - loss: 0.0464 - accuracy: 0.9866 - val_loss: 0.0535 - val_accuracy: 0.9841\n",
      "Epoch 2/10\n",
      "1490/1490 [==============================] - 316s 212ms/step - loss: 0.0353 - accuracy: 0.9895 - val_loss: 0.0373 - val_accuracy: 0.9897\n",
      "Epoch 3/10\n",
      "1490/1490 [==============================] - 329s 221ms/step - loss: 0.0273 - accuracy: 0.9917 - val_loss: 0.0401 - val_accuracy: 0.9886\n",
      "Epoch 4/10\n",
      "1490/1490 [==============================] - 313s 210ms/step - loss: 0.0224 - accuracy: 0.9930 - val_loss: 0.0348 - val_accuracy: 0.9902\n",
      "Epoch 5/10\n",
      "1490/1490 [==============================] - 343s 230ms/step - loss: 0.0176 - accuracy: 0.9943 - val_loss: 0.0380 - val_accuracy: 0.9902\n",
      "Epoch 6/10\n",
      "1490/1490 [==============================] - 309s 207ms/step - loss: 0.0157 - accuracy: 0.9949 - val_loss: 0.0311 - val_accuracy: 0.9919\n",
      "Epoch 7/10\n",
      "1490/1490 [==============================] - 316s 212ms/step - loss: 0.0126 - accuracy: 0.9959 - val_loss: 0.0333 - val_accuracy: 0.9915\n",
      "Epoch 8/10\n",
      "1490/1490 [==============================] - 314s 211ms/step - loss: 0.0122 - accuracy: 0.9960 - val_loss: 0.0284 - val_accuracy: 0.9938\n",
      "Epoch 9/10\n",
      "1490/1490 [==============================] - 310s 208ms/step - loss: 0.0110 - accuracy: 0.9964 - val_loss: 0.0289 - val_accuracy: 0.9940\n",
      "Epoch 10/10\n",
      "1490/1490 [==============================] - 310s 208ms/step - loss: 0.0098 - accuracy: 0.9967 - val_loss: 0.0304 - val_accuracy: 0.9934\n"
     ]
    },
    {
     "data": {
      "text/plain": [
       "<keras.callbacks.History at 0x1664cd1d460>"
      ]
     },
     "execution_count": 18,
     "metadata": {},
     "output_type": "execute_result"
    }
   ],
   "source": [
    "model.fit(X_train, y_train, validation_data=(X_test, y_test),epochs=10, batch_size =200 )"
   ]
  },
  {
   "cell_type": "code",
   "execution_count": 19,
   "id": "60419c99",
   "metadata": {
    "ExecuteTime": {
     "end_time": "2021-10-06T23:48:36.272248Z",
     "start_time": "2021-10-06T23:48:16.730913Z"
    }
   },
   "outputs": [
    {
     "data": {
      "text/plain": [
       "<AxesSubplot:>"
      ]
     },
     "execution_count": 19,
     "metadata": {},
     "output_type": "execute_result"
    },
    {
     "data": {
      "image/png": "[encoded data removed]",
      "text/plain": [
       "<Figure size 1440x2160 with 2 Axes>"
      ]
     },
     "metadata": {
      "needs_background": "light"
     },
     "output_type": "display_data"
    }
   ],
   "source": [
    "fig, ax = plt.subplots(figsize=(20,30) )\n",
    "sns.heatmap(confusion_matrix(y_test.argmax(axis=1),model.predict(X_test).argmax(axis=1)), annot= True, fmt='g')"
   ]
  },
  {
   "cell_type": "code",
   "execution_count": 21,
   "id": "1b75028e",
   "metadata": {
    "ExecuteTime": {
     "end_time": "2021-10-06T23:50:31.754844Z",
     "start_time": "2021-10-06T23:48:59.258891Z"
    }
   },
   "outputs": [
    {
     "name": "stdout",
     "output_type": "stream",
     "text": [
      "0.9999993904424596\n",
      "0.9999269482160538\n"
     ]
    }
   ],
   "source": [
    "print(roc_auc_score(y_train.argmax(axis=1), model.predict(X_train), multi_class='ovo'))\n",
    "print(roc_auc_score(y_test.argmax(axis=1), model.predict(X_test), multi_class='ovo'))\n"
   ]
  },
  {
   "cell_type": "markdown",
   "id": "2217d5b5",
   "metadata": {
    "cell_style": "center"
   },
   "source": [
    "# Save Model"
   ]
  },
  {
   "cell_type": "code",
   "execution_count": 22,
   "id": "f051eecb",
   "metadata": {
    "ExecuteTime": {
     "end_time": "2021-10-06T23:52:23.485138Z",
     "start_time": "2021-10-06T23:52:23.373280Z"
    }
   },
   "outputs": [],
   "source": [
    "model_json=model.to_json()\n",
    "with open ('model.json', 'w') as json_file:\n",
    "    json_file.write(model_json)\n",
    "model.save_weights('letter.h5')"
   ]
  },
  {
   "cell_type": "markdown",
   "id": "9dab7966",
   "metadata": {
    "ExecuteTime": {
     "end_time": "2021-10-05T18:01:50.537918Z",
     "start_time": "2021-10-05T18:01:50.520962Z"
    }
   },
   "source": [
    "# Load Model"
   ]
  },
  {
   "cell_type": "code",
   "execution_count": 23,
   "id": "81e6fe53",
   "metadata": {
    "ExecuteTime": {
     "end_time": "2021-10-06T23:52:28.549812Z",
     "start_time": "2021-10-06T23:52:28.476763Z"
    }
   },
   "outputs": [],
   "source": [
    "json_file = open ('model.json', 'r')\n",
    "loaded_model_json= json_file.read()\n",
    "json_file.close()\n",
    "\n",
    "loaded_model= model_from_json(loaded_model_json)\n",
    "loaded_model.load_weights('letter.h5')"
   ]
  },
  {
   "cell_type": "code",
   "execution_count": 24,
   "id": "ebfecfc1",
   "metadata": {
    "ExecuteTime": {
     "end_time": "2021-10-06T23:52:30.969397Z",
     "start_time": "2021-10-06T23:52:30.949687Z"
    }
   },
   "outputs": [],
   "source": [
    "loaded_model.compile(optimizer='adam', loss='categorical_crossentropy', metrics='accuracy')"
   ]
  },
  {
   "cell_type": "code",
   "execution_count": null,
   "id": "d64e7996",
   "metadata": {},
   "outputs": [],
   "source": []
  },
  {
   "cell_type": "code",
   "execution_count": 450,
   "id": "b39f5b1f",
   "metadata": {
    "ExecuteTime": {
     "end_time": "2021-10-06T15:51:34.334755Z",
     "start_time": "2021-10-06T15:51:34.322755Z"
    }
   },
   "outputs": [],
   "source": [
    "#perda_teste, acuracia_teste = loaded_model.evaluate(X_test,y_test)"
   ]
  },
  {
   "cell_type": "code",
   "execution_count": null,
   "id": "9f2f46ea",
   "metadata": {},
   "outputs": [],
   "source": []
  },
  {
   "cell_type": "markdown",
   "id": "e7d85274",
   "metadata": {},
   "source": [
    "window = Tk()\n",
    "window.geometry('0x0')     \n",
    "messagebox.showinfo(\"information\",\"Escolha o Ficheiro de Excel Onde Estão Os Dados Da Turma\")  # dá mensagem para escolher ficheiro excel \n",
    "filepath = filedialog.askopenfilename()\n",
    "window.withdraw()\n",
    "endereco=filepath.replace('\\\\', '/')"
   ]
  },
  {
   "cell_type": "code",
   "execution_count": 25,
   "id": "88a88e8f",
   "metadata": {
    "ExecuteTime": {
     "end_time": "2021-10-06T23:52:40.246590Z",
     "start_time": "2021-10-06T23:52:40.225680Z"
    }
   },
   "outputs": [],
   "source": [
    "from PIL import Image, ImageOps, ImageEnhance"
   ]
  },
  {
   "cell_type": "code",
   "execution_count": 418,
   "id": "8048b086",
   "metadata": {
    "ExecuteTime": {
     "end_time": "2021-10-06T15:27:56.299125Z",
     "start_time": "2021-10-06T15:27:56.285162Z"
    }
   },
   "outputs": [],
   "source": [
    "#image=Image.open('imagens teste/A.png')\n",
    "#image.show()"
   ]
  },
  {
   "cell_type": "code",
   "execution_count": 308,
   "id": "f2607c28",
   "metadata": {
    "ExecuteTime": {
     "end_time": "2021-10-07T00:26:52.747437Z",
     "start_time": "2021-10-07T00:26:52.323996Z"
    }
   },
   "outputs": [
    {
     "data": {
      "text/html": [
       "<div>\n",
       "<style scoped>\n",
       "    .dataframe tbody tr th:only-of-type {\n",
       "        vertical-align: middle;\n",
       "    }\n",
       "\n",
       "    .dataframe tbody tr th {\n",
       "        vertical-align: top;\n",
       "    }\n",
       "\n",
       "    .dataframe thead th {\n",
       "        text-align: right;\n",
       "    }\n",
       "</style>\n",
       "<table border=\"1\" class=\"dataframe\">\n",
       "  <thead>\n",
       "    <tr style=\"text-align: right;\">\n",
       "      <th></th>\n",
       "      <th>target</th>\n",
       "      <th>pixel_0</th>\n",
       "      <th>pixel_1</th>\n",
       "      <th>pixel_2</th>\n",
       "      <th>pixel_3</th>\n",
       "      <th>pixel_4</th>\n",
       "      <th>pixel_5</th>\n",
       "      <th>pixel_6</th>\n",
       "      <th>pixel_7</th>\n",
       "      <th>pixel_8</th>\n",
       "      <th>...</th>\n",
       "      <th>pixel_774</th>\n",
       "      <th>pixel_775</th>\n",
       "      <th>pixel_776</th>\n",
       "      <th>pixel_777</th>\n",
       "      <th>pixel_778</th>\n",
       "      <th>pixel_779</th>\n",
       "      <th>pixel_780</th>\n",
       "      <th>pixel_781</th>\n",
       "      <th>pixel_782</th>\n",
       "      <th>pixel_783</th>\n",
       "    </tr>\n",
       "  </thead>\n",
       "  <tbody>\n",
       "    <tr>\n",
       "      <th>139812</th>\n",
       "      <td>14</td>\n",
       "      <td>0</td>\n",
       "      <td>0</td>\n",
       "      <td>0</td>\n",
       "      <td>0</td>\n",
       "      <td>0</td>\n",
       "      <td>0</td>\n",
       "      <td>0</td>\n",
       "      <td>0</td>\n",
       "      <td>0</td>\n",
       "      <td>...</td>\n",
       "      <td>0</td>\n",
       "      <td>0</td>\n",
       "      <td>0</td>\n",
       "      <td>0</td>\n",
       "      <td>0</td>\n",
       "      <td>0</td>\n",
       "      <td>0</td>\n",
       "      <td>0</td>\n",
       "      <td>0</td>\n",
       "      <td>0</td>\n",
       "    </tr>\n",
       "    <tr>\n",
       "      <th>139813</th>\n",
       "      <td>14</td>\n",
       "      <td>0</td>\n",
       "      <td>0</td>\n",
       "      <td>0</td>\n",
       "      <td>0</td>\n",
       "      <td>0</td>\n",
       "      <td>0</td>\n",
       "      <td>0</td>\n",
       "      <td>0</td>\n",
       "      <td>0</td>\n",
       "      <td>...</td>\n",
       "      <td>0</td>\n",
       "      <td>0</td>\n",
       "      <td>0</td>\n",
       "      <td>0</td>\n",
       "      <td>0</td>\n",
       "      <td>0</td>\n",
       "      <td>0</td>\n",
       "      <td>0</td>\n",
       "      <td>0</td>\n",
       "      <td>0</td>\n",
       "    </tr>\n",
       "    <tr>\n",
       "      <th>139814</th>\n",
       "      <td>14</td>\n",
       "      <td>0</td>\n",
       "      <td>0</td>\n",
       "      <td>0</td>\n",
       "      <td>0</td>\n",
       "      <td>0</td>\n",
       "      <td>0</td>\n",
       "      <td>0</td>\n",
       "      <td>0</td>\n",
       "      <td>0</td>\n",
       "      <td>...</td>\n",
       "      <td>0</td>\n",
       "      <td>0</td>\n",
       "      <td>0</td>\n",
       "      <td>0</td>\n",
       "      <td>0</td>\n",
       "      <td>0</td>\n",
       "      <td>0</td>\n",
       "      <td>0</td>\n",
       "      <td>0</td>\n",
       "      <td>0</td>\n",
       "    </tr>\n",
       "    <tr>\n",
       "      <th>139815</th>\n",
       "      <td>14</td>\n",
       "      <td>0</td>\n",
       "      <td>0</td>\n",
       "      <td>0</td>\n",
       "      <td>0</td>\n",
       "      <td>0</td>\n",
       "      <td>0</td>\n",
       "      <td>0</td>\n",
       "      <td>0</td>\n",
       "      <td>0</td>\n",
       "      <td>...</td>\n",
       "      <td>0</td>\n",
       "      <td>0</td>\n",
       "      <td>0</td>\n",
       "      <td>0</td>\n",
       "      <td>0</td>\n",
       "      <td>0</td>\n",
       "      <td>0</td>\n",
       "      <td>0</td>\n",
       "      <td>0</td>\n",
       "      <td>0</td>\n",
       "    </tr>\n",
       "    <tr>\n",
       "      <th>139816</th>\n",
       "      <td>14</td>\n",
       "      <td>0</td>\n",
       "      <td>0</td>\n",
       "      <td>0</td>\n",
       "      <td>0</td>\n",
       "      <td>0</td>\n",
       "      <td>0</td>\n",
       "      <td>0</td>\n",
       "      <td>0</td>\n",
       "      <td>0</td>\n",
       "      <td>...</td>\n",
       "      <td>0</td>\n",
       "      <td>0</td>\n",
       "      <td>0</td>\n",
       "      <td>0</td>\n",
       "      <td>0</td>\n",
       "      <td>0</td>\n",
       "      <td>0</td>\n",
       "      <td>0</td>\n",
       "      <td>0</td>\n",
       "      <td>0</td>\n",
       "    </tr>\n",
       "    <tr>\n",
       "      <th>...</th>\n",
       "      <td>...</td>\n",
       "      <td>...</td>\n",
       "      <td>...</td>\n",
       "      <td>...</td>\n",
       "      <td>...</td>\n",
       "      <td>...</td>\n",
       "      <td>...</td>\n",
       "      <td>...</td>\n",
       "      <td>...</td>\n",
       "      <td>...</td>\n",
       "      <td>...</td>\n",
       "      <td>...</td>\n",
       "      <td>...</td>\n",
       "      <td>...</td>\n",
       "      <td>...</td>\n",
       "      <td>...</td>\n",
       "      <td>...</td>\n",
       "      <td>...</td>\n",
       "      <td>...</td>\n",
       "      <td>...</td>\n",
       "      <td>...</td>\n",
       "    </tr>\n",
       "    <tr>\n",
       "      <th>197632</th>\n",
       "      <td>14</td>\n",
       "      <td>0</td>\n",
       "      <td>0</td>\n",
       "      <td>0</td>\n",
       "      <td>0</td>\n",
       "      <td>0</td>\n",
       "      <td>0</td>\n",
       "      <td>0</td>\n",
       "      <td>0</td>\n",
       "      <td>0</td>\n",
       "      <td>...</td>\n",
       "      <td>0</td>\n",
       "      <td>0</td>\n",
       "      <td>0</td>\n",
       "      <td>0</td>\n",
       "      <td>0</td>\n",
       "      <td>0</td>\n",
       "      <td>0</td>\n",
       "      <td>0</td>\n",
       "      <td>0</td>\n",
       "      <td>0</td>\n",
       "    </tr>\n",
       "    <tr>\n",
       "      <th>197633</th>\n",
       "      <td>14</td>\n",
       "      <td>0</td>\n",
       "      <td>0</td>\n",
       "      <td>0</td>\n",
       "      <td>0</td>\n",
       "      <td>0</td>\n",
       "      <td>0</td>\n",
       "      <td>0</td>\n",
       "      <td>0</td>\n",
       "      <td>0</td>\n",
       "      <td>...</td>\n",
       "      <td>0</td>\n",
       "      <td>0</td>\n",
       "      <td>0</td>\n",
       "      <td>0</td>\n",
       "      <td>0</td>\n",
       "      <td>0</td>\n",
       "      <td>0</td>\n",
       "      <td>0</td>\n",
       "      <td>0</td>\n",
       "      <td>0</td>\n",
       "    </tr>\n",
       "    <tr>\n",
       "      <th>197634</th>\n",
       "      <td>14</td>\n",
       "      <td>0</td>\n",
       "      <td>0</td>\n",
       "      <td>0</td>\n",
       "      <td>0</td>\n",
       "      <td>0</td>\n",
       "      <td>0</td>\n",
       "      <td>0</td>\n",
       "      <td>0</td>\n",
       "      <td>0</td>\n",
       "      <td>...</td>\n",
       "      <td>0</td>\n",
       "      <td>0</td>\n",
       "      <td>0</td>\n",
       "      <td>0</td>\n",
       "      <td>0</td>\n",
       "      <td>0</td>\n",
       "      <td>0</td>\n",
       "      <td>0</td>\n",
       "      <td>0</td>\n",
       "      <td>0</td>\n",
       "    </tr>\n",
       "    <tr>\n",
       "      <th>197635</th>\n",
       "      <td>14</td>\n",
       "      <td>0</td>\n",
       "      <td>0</td>\n",
       "      <td>0</td>\n",
       "      <td>0</td>\n",
       "      <td>0</td>\n",
       "      <td>0</td>\n",
       "      <td>0</td>\n",
       "      <td>0</td>\n",
       "      <td>0</td>\n",
       "      <td>...</td>\n",
       "      <td>0</td>\n",
       "      <td>0</td>\n",
       "      <td>0</td>\n",
       "      <td>0</td>\n",
       "      <td>0</td>\n",
       "      <td>0</td>\n",
       "      <td>0</td>\n",
       "      <td>0</td>\n",
       "      <td>0</td>\n",
       "      <td>0</td>\n",
       "    </tr>\n",
       "    <tr>\n",
       "      <th>197636</th>\n",
       "      <td>14</td>\n",
       "      <td>0</td>\n",
       "      <td>0</td>\n",
       "      <td>0</td>\n",
       "      <td>0</td>\n",
       "      <td>0</td>\n",
       "      <td>0</td>\n",
       "      <td>0</td>\n",
       "      <td>0</td>\n",
       "      <td>0</td>\n",
       "      <td>...</td>\n",
       "      <td>0</td>\n",
       "      <td>0</td>\n",
       "      <td>0</td>\n",
       "      <td>0</td>\n",
       "      <td>0</td>\n",
       "      <td>0</td>\n",
       "      <td>0</td>\n",
       "      <td>0</td>\n",
       "      <td>0</td>\n",
       "      <td>0</td>\n",
       "    </tr>\n",
       "  </tbody>\n",
       "</table>\n",
       "<p>57825 rows × 785 columns</p>\n",
       "</div>"
      ],
      "text/plain": [
       "        target  pixel_0  pixel_1  pixel_2  pixel_3  pixel_4  pixel_5  pixel_6  \\\n",
       "139812      14        0        0        0        0        0        0        0   \n",
       "139813      14        0        0        0        0        0        0        0   \n",
       "139814      14        0        0        0        0        0        0        0   \n",
       "139815      14        0        0        0        0        0        0        0   \n",
       "139816      14        0        0        0        0        0        0        0   \n",
       "...        ...      ...      ...      ...      ...      ...      ...      ...   \n",
       "197632      14        0        0        0        0        0        0        0   \n",
       "197633      14        0        0        0        0        0        0        0   \n",
       "197634      14        0        0        0        0        0        0        0   \n",
       "197635      14        0        0        0        0        0        0        0   \n",
       "197636      14        0        0        0        0        0        0        0   \n",
       "\n",
       "        pixel_7  pixel_8  ...  pixel_774  pixel_775  pixel_776  pixel_777  \\\n",
       "139812        0        0  ...          0          0          0          0   \n",
       "139813        0        0  ...          0          0          0          0   \n",
       "139814        0        0  ...          0          0          0          0   \n",
       "139815        0        0  ...          0          0          0          0   \n",
       "139816        0        0  ...          0          0          0          0   \n",
       "...         ...      ...  ...        ...        ...        ...        ...   \n",
       "197632        0        0  ...          0          0          0          0   \n",
       "197633        0        0  ...          0          0          0          0   \n",
       "197634        0        0  ...          0          0          0          0   \n",
       "197635        0        0  ...          0          0          0          0   \n",
       "197636        0        0  ...          0          0          0          0   \n",
       "\n",
       "        pixel_778  pixel_779  pixel_780  pixel_781  pixel_782  pixel_783  \n",
       "139812          0          0          0          0          0          0  \n",
       "139813          0          0          0          0          0          0  \n",
       "139814          0          0          0          0          0          0  \n",
       "139815          0          0          0          0          0          0  \n",
       "139816          0          0          0          0          0          0  \n",
       "...           ...        ...        ...        ...        ...        ...  \n",
       "197632          0          0          0          0          0          0  \n",
       "197633          0          0          0          0          0          0  \n",
       "197634          0          0          0          0          0          0  \n",
       "197635          0          0          0          0          0          0  \n",
       "197636          0          0          0          0          0          0  \n",
       "\n",
       "[57825 rows x 785 columns]"
      ]
     },
     "execution_count": 308,
     "metadata": {},
     "output_type": "execute_result"
    }
   ],
   "source": [
    "data.loc[data['target']==14]"
   ]
  },
  {
   "cell_type": "code",
   "execution_count": 315,
   "id": "5a81e839",
   "metadata": {
    "ExecuteTime": {
     "end_time": "2021-10-07T00:27:26.849311Z",
     "start_time": "2021-10-07T00:27:26.734408Z"
    }
   },
   "outputs": [
    {
     "data": {
      "text/plain": [
       "<matplotlib.image.AxesImage at 0x167117cecd0>"
      ]
     },
     "execution_count": 315,
     "metadata": {},
     "output_type": "execute_result"
    },
    {
     "data": {
      "image/png": "[encoded data removed]",
      "text/plain": [
       "<Figure size 432x288 with 1 Axes>"
      ]
     },
     "metadata": {
      "needs_background": "light"
     },
     "output_type": "display_data"
    }
   ],
   "source": [
    "plt.imshow(data.iloc[139824,1:].to_numpy().reshape(28,28))\n",
    "#plt.imshow(data.iloc[108466,108467:].to_numpy().reshape(28,28))\n",
    "\n"
   ]
  },
  {
   "cell_type": "code",
   "execution_count": 419,
   "id": "1f267c24",
   "metadata": {
    "ExecuteTime": {
     "end_time": "2021-10-06T15:27:56.802890Z",
     "start_time": "2021-10-06T15:27:56.791922Z"
    }
   },
   "outputs": [],
   "source": [
    "#image.convert('1')"
   ]
  },
  {
   "cell_type": "code",
   "execution_count": 26,
   "id": "5545eb22",
   "metadata": {
    "ExecuteTime": {
     "end_time": "2021-10-06T23:52:57.819260Z",
     "start_time": "2021-10-06T23:52:57.812305Z"
    }
   },
   "outputs": [],
   "source": [
    "word_dict = {0:'A',1:'B',2:'C',3:'D',4:'E',5:'F',6:'G',7:'H',8:'I',9:'J',10:'K',11:'L',12:'M',13:'N',14:'O',15:'P',16:'Q',17:'R',18:'S',19:'T',20:'U',21:'V',22:'W',23:'X', 24:'Y',25:'Z'}"
   ]
  },
  {
   "cell_type": "markdown",
   "id": "6507a77e",
   "metadata": {},
   "source": [
    "# Image Enhance"
   ]
  },
  {
   "cell_type": "code",
   "execution_count": 30,
   "id": "6e72744b",
   "metadata": {
    "ExecuteTime": {
     "end_time": "2021-10-06T23:54:25.845727Z",
     "start_time": "2021-10-06T23:54:25.825587Z"
    }
   },
   "outputs": [],
   "source": [
    "img = Image.open('imagens teste/N.png').convert('L')  # convert image to 8-bit grayscale\n",
    "img=ImageEnhance.Brightness(img).enhance(2)\n",
    "#img=ImageEnhance.Sharpness(img).enhance(0)\n",
    "img=ImageEnhance.Contrast(img).enhance(10)\n",
    "img=ImageEnhance.Sharpness(img).enhance(10)\n",
    "img=ImageOps.invert(img)\n",
    "\n",
    "img=img.resize((28,28))\n",
    "\n",
    "WIDTH, HEIGHT = img.size\n",
    "\n",
    "newdata = list(img.getdata()) # convert image data to a list of integers\n",
    "# convert that to 2D list (list of lists of integers)\n",
    "newdata = [newdata[offset:offset+WIDTH]for offset in range(0, WIDTH*HEIGHT, WIDTH)]\n",
    "newdata=np.array(newdata)"
   ]
  },
  {
   "cell_type": "code",
   "execution_count": 31,
   "id": "ce1bf365",
   "metadata": {
    "ExecuteTime": {
     "end_time": "2021-10-06T23:54:26.913274Z",
     "start_time": "2021-10-06T23:54:26.798081Z"
    },
    "cell_style": "center"
   },
   "outputs": [
    {
     "data": {
      "text/plain": [
       "<matplotlib.image.AxesImage at 0x166f5b84fa0>"
      ]
     },
     "execution_count": 31,
     "metadata": {},
     "output_type": "execute_result"
    },
    {
     "data": {
      "image/png": "[encoded data removed]",
      "text/plain": [
       "<Figure size 432x288 with 1 Axes>"
      ]
     },
     "metadata": {
      "needs_background": "light"
     },
     "output_type": "display_data"
    }
   ],
   "source": [
    "plt.imshow(newdata.reshape(28,28))"
   ]
  },
  {
   "cell_type": "markdown",
   "id": "2c5f069e",
   "metadata": {},
   "source": [
    "# Model CNN - Predict"
   ]
  },
  {
   "cell_type": "code",
   "execution_count": 32,
   "id": "b6803177",
   "metadata": {
    "ExecuteTime": {
     "end_time": "2021-10-06T23:54:29.686061Z",
     "start_time": "2021-10-06T23:54:29.600431Z"
    }
   },
   "outputs": [
    {
     "name": "stdout",
     "output_type": "stream",
     "text": [
      "Letra que foi escrita é:  N com probabilidade de acertar de:  99.96 %\n"
     ]
    }
   ],
   "source": [
    "newdata=newdata/255\n",
    "newdata=newdata.reshape(1,28,28,1)\n",
    "predict=loaded_model.predict(newdata)\n",
    "letter=predict.argmax()\n",
    "print('Letra que foi escrita é: ',word_dict[letter], 'com probabilidade de acertar de: ',\"%.2f\" % (predict[0][letter]*100),\"%\")"
   ]
  },
  {
   "cell_type": "markdown",
   "id": "bc3ce95b",
   "metadata": {
    "ExecuteTime": {
     "end_time": "2021-10-06T14:58:51.250367Z",
     "start_time": "2021-10-06T14:58:51.239363Z"
    }
   },
   "source": [
    "# Model LGBM  - Predict"
   ]
  },
  {
   "cell_type": "code",
   "execution_count": 728,
   "id": "a9931aad",
   "metadata": {
    "ExecuteTime": {
     "end_time": "2021-10-06T17:47:41.296163Z",
     "start_time": "2021-10-06T17:47:41.282201Z"
    }
   },
   "outputs": [
    {
     "data": {
      "text/plain": [
       "0.002736045"
      ]
     },
     "execution_count": 728,
     "metadata": {},
     "output_type": "execute_result"
    }
   ],
   "source": [
    "predict[0][9]"
   ]
  },
  {
   "cell_type": "code",
   "execution_count": 33,
   "id": "e2e8d291",
   "metadata": {
    "ExecuteTime": {
     "end_time": "2021-10-06T23:54:38.419380Z",
     "start_time": "2021-10-06T23:54:38.410404Z"
    }
   },
   "outputs": [
    {
     "name": "stdout",
     "output_type": "stream",
     "text": [
      "Letra que foi escrita é:  J com probabilidade de acertar de:  16.85 %\n"
     ]
    }
   ],
   "source": [
    "newdata=newdata.reshape(1,784)\n",
    "predict=lgb.predict_proba(newdata)\n",
    "letter=predict.argmax()\n",
    "print('Letra que foi escrita é: ',word_dict[letter], 'com probabilidade de acertar de: ',\"%.2f\" % (predict[0][letter]*100),\"%\")"
   ]
  },
  {
   "cell_type": "code",
   "execution_count": null,
   "id": "f5c5d9f6",
   "metadata": {},
   "outputs": [],
   "source": []
  },
  {
   "cell_type": "code",
   "execution_count": null,
   "id": "435102db",
   "metadata": {},
   "outputs": [],
   "source": []
  },
  {
   "cell_type": "code",
   "execution_count": 609,
   "id": "acf15331",
   "metadata": {
    "ExecuteTime": {
     "end_time": "2021-10-07T00:58:23.838900Z",
     "start_time": "2021-10-07T00:58:14.454394Z"
    }
   },
   "outputs": [],
   "source": [
    "from tkinter import *\n",
    "from PIL import Image, ImageTk, ImageDraw\n",
    "import PIL\n",
    "\n",
    "\n",
    "width=500\n",
    "height=500\n",
    "white = (255, 255, 255)\n",
    "\n",
    "def save_picture():\n",
    "    filename =\"image.png\"\n",
    "    image1.save(filename)\n",
    "    \n",
    "def paint(event):\n",
    "    x1,y1=(event.x-6),(event.y-6)\n",
    "    x2,y2 = (event.x+6), (event.y+6)\n",
    "    canvas.create_oval(x1,y1,x2,y2, fill='red', width=25)\n",
    "    draw.line([x1,y1,x2,y2], fill='black',width=25)\n",
    "\n",
    "    \n",
    "app = Tk()\n",
    "canvas = Canvas(app, width=width, height=height, bg='white')\n",
    "canvas.pack()\n",
    "\n",
    "\n",
    "\n",
    "image1=PIL.Image.new('RGB', (width, height), white)\n",
    "draw=ImageDraw.Draw(image1)\n",
    "\n",
    "canvas.pack(expand=YES, fill=BOTH)\n",
    "\n",
    "canvas.bind(\"<B1-Motion>\", paint)\n",
    "\n",
    "\n",
    "button = Button(\n",
    "    text=\"Save Picture!\",\n",
    "    width=25,\n",
    "    height=5,\n",
    "    bg=\"blue\",\n",
    "    fg=\"yellow\",\n",
    "    command=save_picture\n",
    ")\n",
    "\n",
    "\n",
    "button.pack()\n",
    "\n",
    "app.mainloop()\n",
    "\n"
   ]
  },
  {
   "cell_type": "code",
   "execution_count": 610,
   "id": "b58c274b",
   "metadata": {
    "ExecuteTime": {
     "end_time": "2021-10-07T00:58:24.316528Z",
     "start_time": "2021-10-07T00:58:24.284525Z"
    }
   },
   "outputs": [],
   "source": [
    "img = Image.open('image.png').convert('L')  # convert image to 8-bit grayscale\n",
    "img=ImageEnhance.Sharpness(img).enhance(30)\n",
    "img=ImageEnhance.Brightness(img).enhance(0.9)\n",
    "img=ImageEnhance.Contrast(img).enhance(20)\n",
    "#img=ImageEnhance.Sharpness(img).enhance(0)\n",
    "img=ImageOps.invert(img)\n",
    "\n",
    "img=img.resize((28,28))\n",
    "\n",
    "WIDTH, HEIGHT = img.size\n",
    "\n",
    "newdata = list(img.getdata()) # convert image data to a list of integers\n",
    "# convert that to 2D list (list of lists of integers)\n",
    "newdata = [newdata[offset:offset+WIDTH]for offset in range(0, WIDTH*HEIGHT, WIDTH)]\n",
    "newdata=np.array(newdata)"
   ]
  },
  {
   "cell_type": "code",
   "execution_count": 611,
   "id": "2c60c3e4",
   "metadata": {
    "ExecuteTime": {
     "end_time": "2021-10-07T00:58:24.844562Z",
     "start_time": "2021-10-07T00:58:24.716551Z"
    },
    "cell_style": "split"
   },
   "outputs": [
    {
     "data": {
      "text/plain": [
       "<matplotlib.image.AxesImage at 0x16714147c40>"
      ]
     },
     "execution_count": 611,
     "metadata": {},
     "output_type": "execute_result"
    },
    {
     "data": {
      "image/png": "[encoded data removed]",
      "text/plain": [
       "<Figure size 432x288 with 1 Axes>"
      ]
     },
     "metadata": {
      "needs_background": "light"
     },
     "output_type": "display_data"
    }
   ],
   "source": [
    "plt.imshow(newdata.reshape(28,28))"
   ]
  },
  {
   "cell_type": "code",
   "execution_count": 612,
   "id": "852ba7bf",
   "metadata": {
    "ExecuteTime": {
     "end_time": "2021-10-07T00:58:25.292527Z",
     "start_time": "2021-10-07T00:58:25.164528Z"
    },
    "cell_style": "split"
   },
   "outputs": [
    {
     "data": {
      "text/plain": [
       "<matplotlib.image.AxesImage at 0x167141aa970>"
      ]
     },
     "execution_count": 612,
     "metadata": {},
     "output_type": "execute_result"
    },
    {
     "data": {
      "image/png": "[encoded data removed]",
      "text/plain": [
       "<Figure size 432x288 with 1 Axes>"
      ]
     },
     "metadata": {
      "needs_background": "light"
     },
     "output_type": "display_data"
    }
   ],
   "source": [
    "plt.imshow(newdata.reshape(28,28))"
   ]
  },
  {
   "cell_type": "code",
   "execution_count": 613,
   "id": "b67e6cfe",
   "metadata": {
    "ExecuteTime": {
     "end_time": "2021-10-07T00:58:25.604562Z",
     "start_time": "2021-10-07T00:58:25.548530Z"
    }
   },
   "outputs": [
    {
     "name": "stdout",
     "output_type": "stream",
     "text": [
      "Letra que foi escrita é:  A com probabilidade de acertar de:  100.00 %\n"
     ]
    }
   ],
   "source": [
    "newdata=newdata/255\n",
    "newdata=newdata.reshape(1,28,28,1)\n",
    "predict=loaded_model.predict(newdata)\n",
    "letter=predict.argmax()\n",
    "print('Letra que foi escrita é: ',word_dict[letter], 'com probabilidade de acertar de: ',\"%.2f\" % (predict[0][letter]*100),\"%\")"
   ]
  },
  {
   "cell_type": "code",
   "execution_count": null,
   "id": "b9b81855",
   "metadata": {},
   "outputs": [],
   "source": []
  },
  {
   "cell_type": "code",
   "execution_count": null,
   "id": "72bb4677",
   "metadata": {},
   "outputs": [],
   "source": []
  },
  {
   "cell_type": "code",
   "execution_count": null,
   "id": "f1af6069",
   "metadata": {},
   "outputs": [],
   "source": []
  },
  {
   "cell_type": "code",
   "execution_count": null,
   "id": "c75712b0",
   "metadata": {},
   "outputs": [],
   "source": []
  },
  {
   "cell_type": "code",
   "execution_count": null,
   "id": "a00f430a",
   "metadata": {},
   "outputs": [],
   "source": []
  },
  {
   "cell_type": "code",
   "execution_count": null,
   "id": "1c28d1eb",
   "metadata": {},
   "outputs": [],
   "source": []
  },
  {
   "cell_type": "code",
   "execution_count": 1099,
   "id": "da63f9a4",
   "metadata": {
    "ExecuteTime": {
     "end_time": "2021-10-06T20:06:57.853064Z",
     "start_time": "2021-10-06T20:06:57.756323Z"
    }
   },
   "outputs": [
    {
     "ename": "TclError",
     "evalue": "couldn't open \"ball.ppm\": no such file or directory",
     "output_type": "error",
     "traceback": [
      "\u001b[1;31m---------------------------------------------------------------------------\u001b[0m",
      "\u001b[1;31mTclError\u001b[0m                                  Traceback (most recent call last)",
      "\u001b[1;32m<ipython-input-1099-7f3238e129fe>\u001b[0m in \u001b[0;36m<module>\u001b[1;34m\u001b[0m\n\u001b[0;32m      3\u001b[0m \u001b[0mcanvas\u001b[0m \u001b[1;33m=\u001b[0m \u001b[0mCanvas\u001b[0m\u001b[1;33m(\u001b[0m\u001b[0mroot\u001b[0m\u001b[1;33m,\u001b[0m \u001b[0mwidth\u001b[0m \u001b[1;33m=\u001b[0m \u001b[1;36m300\u001b[0m\u001b[1;33m,\u001b[0m \u001b[0mheight\u001b[0m \u001b[1;33m=\u001b[0m \u001b[1;36m300\u001b[0m\u001b[1;33m)\u001b[0m\u001b[1;33m\u001b[0m\u001b[1;33m\u001b[0m\u001b[0m\n\u001b[0;32m      4\u001b[0m \u001b[0mcanvas\u001b[0m\u001b[1;33m.\u001b[0m\u001b[0mpack\u001b[0m\u001b[1;33m(\u001b[0m\u001b[1;33m)\u001b[0m\u001b[1;33m\u001b[0m\u001b[1;33m\u001b[0m\u001b[0m\n\u001b[1;32m----> 5\u001b[1;33m \u001b[0mimg\u001b[0m \u001b[1;33m=\u001b[0m \u001b[0mPhotoImage\u001b[0m\u001b[1;33m(\u001b[0m\u001b[0mfile\u001b[0m\u001b[1;33m=\u001b[0m\u001b[1;34m\"ball.ppm\"\u001b[0m\u001b[1;33m)\u001b[0m\u001b[1;33m\u001b[0m\u001b[1;33m\u001b[0m\u001b[0m\n\u001b[0m\u001b[0;32m      6\u001b[0m \u001b[0mcanvas\u001b[0m\u001b[1;33m.\u001b[0m\u001b[0mcreate_image\u001b[0m\u001b[1;33m(\u001b[0m\u001b[1;36m20\u001b[0m\u001b[1;33m,\u001b[0m\u001b[1;36m20\u001b[0m\u001b[1;33m,\u001b[0m \u001b[0manchor\u001b[0m\u001b[1;33m=\u001b[0m\u001b[0mNW\u001b[0m\u001b[1;33m,\u001b[0m \u001b[0mimage\u001b[0m\u001b[1;33m=\u001b[0m\u001b[0mimg\u001b[0m\u001b[1;33m)\u001b[0m\u001b[1;33m\u001b[0m\u001b[1;33m\u001b[0m\u001b[0m\n\u001b[0;32m      7\u001b[0m \u001b[0mmainloop\u001b[0m\u001b[1;33m(\u001b[0m\u001b[1;33m)\u001b[0m\u001b[1;33m\u001b[0m\u001b[1;33m\u001b[0m\u001b[0m\n",
      "\u001b[1;32m~\\anaconda3\\lib\\tkinter\\__init__.py\u001b[0m in \u001b[0;36m__init__\u001b[1;34m(self, name, cnf, master, **kw)\u001b[0m\n\u001b[0;32m   4062\u001b[0m         \u001b[0mValid\u001b[0m \u001b[0mresource\u001b[0m \u001b[0mnames\u001b[0m\u001b[1;33m:\u001b[0m \u001b[0mdata\u001b[0m\u001b[1;33m,\u001b[0m \u001b[0mformat\u001b[0m\u001b[1;33m,\u001b[0m \u001b[0mfile\u001b[0m\u001b[1;33m,\u001b[0m \u001b[0mgamma\u001b[0m\u001b[1;33m,\u001b[0m \u001b[0mheight\u001b[0m\u001b[1;33m,\u001b[0m \u001b[0mpalette\u001b[0m\u001b[1;33m,\u001b[0m\u001b[1;33m\u001b[0m\u001b[1;33m\u001b[0m\u001b[0m\n\u001b[0;32m   4063\u001b[0m         width.\"\"\"\n\u001b[1;32m-> 4064\u001b[1;33m         \u001b[0mImage\u001b[0m\u001b[1;33m.\u001b[0m\u001b[0m__init__\u001b[0m\u001b[1;33m(\u001b[0m\u001b[0mself\u001b[0m\u001b[1;33m,\u001b[0m \u001b[1;34m'photo'\u001b[0m\u001b[1;33m,\u001b[0m \u001b[0mname\u001b[0m\u001b[1;33m,\u001b[0m \u001b[0mcnf\u001b[0m\u001b[1;33m,\u001b[0m \u001b[0mmaster\u001b[0m\u001b[1;33m,\u001b[0m \u001b[1;33m**\u001b[0m\u001b[0mkw\u001b[0m\u001b[1;33m)\u001b[0m\u001b[1;33m\u001b[0m\u001b[1;33m\u001b[0m\u001b[0m\n\u001b[0m\u001b[0;32m   4065\u001b[0m \u001b[1;33m\u001b[0m\u001b[0m\n\u001b[0;32m   4066\u001b[0m     \u001b[1;32mdef\u001b[0m \u001b[0mblank\u001b[0m\u001b[1;33m(\u001b[0m\u001b[0mself\u001b[0m\u001b[1;33m)\u001b[0m\u001b[1;33m:\u001b[0m\u001b[1;33m\u001b[0m\u001b[1;33m\u001b[0m\u001b[0m\n",
      "\u001b[1;32m~\\anaconda3\\lib\\tkinter\\__init__.py\u001b[0m in \u001b[0;36m__init__\u001b[1;34m(self, imgtype, name, cnf, master, **kw)\u001b[0m\n\u001b[0;32m   4007\u001b[0m                 \u001b[0mv\u001b[0m \u001b[1;33m=\u001b[0m \u001b[0mself\u001b[0m\u001b[1;33m.\u001b[0m\u001b[0m_register\u001b[0m\u001b[1;33m(\u001b[0m\u001b[0mv\u001b[0m\u001b[1;33m)\u001b[0m\u001b[1;33m\u001b[0m\u001b[1;33m\u001b[0m\u001b[0m\n\u001b[0;32m   4008\u001b[0m             \u001b[0moptions\u001b[0m \u001b[1;33m=\u001b[0m \u001b[0moptions\u001b[0m \u001b[1;33m+\u001b[0m \u001b[1;33m(\u001b[0m\u001b[1;34m'-'\u001b[0m\u001b[1;33m+\u001b[0m\u001b[0mk\u001b[0m\u001b[1;33m,\u001b[0m \u001b[0mv\u001b[0m\u001b[1;33m)\u001b[0m\u001b[1;33m\u001b[0m\u001b[1;33m\u001b[0m\u001b[0m\n\u001b[1;32m-> 4009\u001b[1;33m         \u001b[0mself\u001b[0m\u001b[1;33m.\u001b[0m\u001b[0mtk\u001b[0m\u001b[1;33m.\u001b[0m\u001b[0mcall\u001b[0m\u001b[1;33m(\u001b[0m\u001b[1;33m(\u001b[0m\u001b[1;34m'image'\u001b[0m\u001b[1;33m,\u001b[0m \u001b[1;34m'create'\u001b[0m\u001b[1;33m,\u001b[0m \u001b[0mimgtype\u001b[0m\u001b[1;33m,\u001b[0m \u001b[0mname\u001b[0m\u001b[1;33m,\u001b[0m\u001b[1;33m)\u001b[0m \u001b[1;33m+\u001b[0m \u001b[0moptions\u001b[0m\u001b[1;33m)\u001b[0m\u001b[1;33m\u001b[0m\u001b[1;33m\u001b[0m\u001b[0m\n\u001b[0m\u001b[0;32m   4010\u001b[0m         \u001b[0mself\u001b[0m\u001b[1;33m.\u001b[0m\u001b[0mname\u001b[0m \u001b[1;33m=\u001b[0m \u001b[0mname\u001b[0m\u001b[1;33m\u001b[0m\u001b[1;33m\u001b[0m\u001b[0m\n\u001b[0;32m   4011\u001b[0m \u001b[1;33m\u001b[0m\u001b[0m\n",
      "\u001b[1;31mTclError\u001b[0m: couldn't open \"ball.ppm\": no such file or directory"
     ]
    }
   ],
   "source": [
    "from tkinter import *      \n",
    "root = Tk()      \n",
    "canvas = Canvas(root, width = 300, height = 300)      \n",
    "canvas.pack()      \n",
    "img = PhotoImage(file=\"ball.ppm\")      \n",
    "canvas.create_image(20,20, anchor=NW, image=img)      \n",
    "mainloop()   "
   ]
  },
  {
   "cell_type": "code",
   "execution_count": 1098,
   "id": "f4faf2a2",
   "metadata": {
    "ExecuteTime": {
     "end_time": "2021-10-06T20:06:09.314253Z",
     "start_time": "2021-10-06T20:06:09.220502Z"
    }
   },
   "outputs": [
    {
     "ename": "FileNotFoundError",
     "evalue": "[Errno 2] No such file or directory: 'ball.png'",
     "output_type": "error",
     "traceback": [
      "\u001b[1;31m---------------------------------------------------------------------------\u001b[0m",
      "\u001b[1;31mFileNotFoundError\u001b[0m                         Traceback (most recent call last)",
      "\u001b[1;32m<ipython-input-1098-34ee055958cb>\u001b[0m in \u001b[0;36m<module>\u001b[1;34m\u001b[0m\n\u001b[0;32m      4\u001b[0m \u001b[0mcanvas\u001b[0m \u001b[1;33m=\u001b[0m \u001b[0mCanvas\u001b[0m\u001b[1;33m(\u001b[0m\u001b[0mroot\u001b[0m\u001b[1;33m,\u001b[0m \u001b[0mwidth\u001b[0m \u001b[1;33m=\u001b[0m \u001b[1;36m300\u001b[0m\u001b[1;33m,\u001b[0m \u001b[0mheight\u001b[0m \u001b[1;33m=\u001b[0m \u001b[1;36m300\u001b[0m\u001b[1;33m)\u001b[0m\u001b[1;33m\u001b[0m\u001b[1;33m\u001b[0m\u001b[0m\n\u001b[0;32m      5\u001b[0m \u001b[0mcanvas\u001b[0m\u001b[1;33m.\u001b[0m\u001b[0mpack\u001b[0m\u001b[1;33m(\u001b[0m\u001b[1;33m)\u001b[0m\u001b[1;33m\u001b[0m\u001b[1;33m\u001b[0m\u001b[0m\n\u001b[1;32m----> 6\u001b[1;33m \u001b[0mimg\u001b[0m \u001b[1;33m=\u001b[0m \u001b[0mImageTk\u001b[0m\u001b[1;33m.\u001b[0m\u001b[0mPhotoImage\u001b[0m\u001b[1;33m(\u001b[0m\u001b[0mImage\u001b[0m\u001b[1;33m.\u001b[0m\u001b[0mopen\u001b[0m\u001b[1;33m(\u001b[0m\u001b[1;34m\"ball.png\"\u001b[0m\u001b[1;33m)\u001b[0m\u001b[1;33m)\u001b[0m\u001b[1;33m\u001b[0m\u001b[1;33m\u001b[0m\u001b[0m\n\u001b[0m\u001b[0;32m      7\u001b[0m \u001b[0mcanvas\u001b[0m\u001b[1;33m.\u001b[0m\u001b[0mcreate_image\u001b[0m\u001b[1;33m(\u001b[0m\u001b[1;36m20\u001b[0m\u001b[1;33m,\u001b[0m \u001b[1;36m20\u001b[0m\u001b[1;33m,\u001b[0m \u001b[0manchor\u001b[0m\u001b[1;33m=\u001b[0m\u001b[0mNW\u001b[0m\u001b[1;33m,\u001b[0m \u001b[0mimage\u001b[0m\u001b[1;33m=\u001b[0m\u001b[0mimg\u001b[0m\u001b[1;33m)\u001b[0m\u001b[1;33m\u001b[0m\u001b[1;33m\u001b[0m\u001b[0m\n\u001b[0;32m      8\u001b[0m \u001b[0mroot\u001b[0m\u001b[1;33m.\u001b[0m\u001b[0mmainloop\u001b[0m\u001b[1;33m(\u001b[0m\u001b[1;33m)\u001b[0m\u001b[1;33m\u001b[0m\u001b[1;33m\u001b[0m\u001b[0m\n",
      "\u001b[1;32m~\\anaconda3\\lib\\site-packages\\PIL\\Image.py\u001b[0m in \u001b[0;36mopen\u001b[1;34m(fp, mode, formats)\u001b[0m\n\u001b[0;32m   2910\u001b[0m \u001b[1;33m\u001b[0m\u001b[0m\n\u001b[0;32m   2911\u001b[0m     \u001b[1;32mif\u001b[0m \u001b[0mfilename\u001b[0m\u001b[1;33m:\u001b[0m\u001b[1;33m\u001b[0m\u001b[1;33m\u001b[0m\u001b[0m\n\u001b[1;32m-> 2912\u001b[1;33m         \u001b[0mfp\u001b[0m \u001b[1;33m=\u001b[0m \u001b[0mbuiltins\u001b[0m\u001b[1;33m.\u001b[0m\u001b[0mopen\u001b[0m\u001b[1;33m(\u001b[0m\u001b[0mfilename\u001b[0m\u001b[1;33m,\u001b[0m \u001b[1;34m\"rb\"\u001b[0m\u001b[1;33m)\u001b[0m\u001b[1;33m\u001b[0m\u001b[1;33m\u001b[0m\u001b[0m\n\u001b[0m\u001b[0;32m   2913\u001b[0m         \u001b[0mexclusive_fp\u001b[0m \u001b[1;33m=\u001b[0m \u001b[1;32mTrue\u001b[0m\u001b[1;33m\u001b[0m\u001b[1;33m\u001b[0m\u001b[0m\n\u001b[0;32m   2914\u001b[0m \u001b[1;33m\u001b[0m\u001b[0m\n",
      "\u001b[1;31mFileNotFoundError\u001b[0m: [Errno 2] No such file or directory: 'ball.png'"
     ]
    }
   ],
   "source": [
    "from tkinter import *  \n",
    "from PIL import ImageTk,Image  \n",
    "root = Tk()  \n",
    "canvas = Canvas(root, width = 300, height = 300)  \n",
    "canvas.pack()  \n",
    "img = ImageTk.PhotoImage(Image.open(\"ball.png\"))  \n",
    "canvas.create_image(20, 20, anchor=NW, image=img) \n",
    "root.mainloop() "
   ]
  },
  {
   "cell_type": "code",
   "execution_count": 1057,
   "id": "1ee7566f",
   "metadata": {
    "ExecuteTime": {
     "end_time": "2021-10-06T19:28:54.887449Z",
     "start_time": "2021-10-06T19:28:54.864510Z"
    }
   },
   "outputs": [
    {
     "ename": "AttributeError",
     "evalue": "'Canvas' object has no attribute 'reshape'",
     "output_type": "error",
     "traceback": [
      "\u001b[1;31m---------------------------------------------------------------------------\u001b[0m",
      "\u001b[1;31mAttributeError\u001b[0m                            Traceback (most recent call last)",
      "\u001b[1;32m<ipython-input-1057-ed2b2231775e>\u001b[0m in \u001b[0;36m<module>\u001b[1;34m\u001b[0m\n\u001b[1;32m----> 1\u001b[1;33m \u001b[0mplt\u001b[0m\u001b[1;33m.\u001b[0m\u001b[0mimshow\u001b[0m\u001b[1;33m(\u001b[0m\u001b[0mcanvas\u001b[0m\u001b[1;33m.\u001b[0m\u001b[0mreshape\u001b[0m\u001b[1;33m(\u001b[0m\u001b[1;36m28\u001b[0m\u001b[1;33m,\u001b[0m\u001b[1;36m28\u001b[0m\u001b[1;33m)\u001b[0m\u001b[1;33m)\u001b[0m\u001b[1;33m\u001b[0m\u001b[1;33m\u001b[0m\u001b[0m\n\u001b[0m",
      "\u001b[1;31mAttributeError\u001b[0m: 'Canvas' object has no attribute 'reshape'"
     ]
    }
   ],
   "source": [
    "plt.imshow(canvas.reshape(28,28))"
   ]
  },
  {
   "cell_type": "code",
   "execution_count": null,
   "id": "4cff38e0",
   "metadata": {},
   "outputs": [],
   "source": []
  }
 ],
 "metadata": {
  "kernelspec": {
   "display_name": "Python 3",
   "language": "python",
   "name": "python3"
  },
  "language_info": {
   "codemirror_mode": {
    "name": "ipython",
    "version": 3
   },
   "file_extension": ".py",
   "mimetype": "text/x-python",
   "name": "python",
   "nbconvert_exporter": "python",
   "pygments_lexer": "ipython3",
   "version": "3.8.8"
  },
  "toc": {
   "base_numbering": 1,
   "nav_menu": {},
   "number_sections": true,
   "sideBar": true,
   "skip_h1_title": false,
   "title_cell": "Table of Contents",
   "title_sidebar": "Contents",
   "toc_cell": false,
   "toc_position": {},
   "toc_section_display": true,
   "toc_window_display": false
  },
  "varInspector": {
   "cols": {
    "lenName": 16,
    "lenType": 16,
    "lenVar": 40
   },
   "kernels_config": {
    "python": {
     "delete_cmd_postfix": "",
     "delete_cmd_prefix": "del ",
     "library": "var_list.py",
     "varRefreshCmd": "print(var_dic_list())"
    },
    "r": {
     "delete_cmd_postfix": ") ",
     "delete_cmd_prefix": "rm(",
     "library": "var_list.r",
     "varRefreshCmd": "cat(var_dic_list()) "
    }
   },
   "types_to_exclude": [
    "module",
    "function",
    "builtin_function_or_method",
    "instance",
    "_Feature"
   ],
   "window_display": false
  }
 },
 "nbformat": 4,
 "nbformat_minor": 5
}
